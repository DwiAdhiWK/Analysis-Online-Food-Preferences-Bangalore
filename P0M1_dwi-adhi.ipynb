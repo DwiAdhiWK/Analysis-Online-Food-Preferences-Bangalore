{
 "cells": [
  {
   "cell_type": "markdown",
   "id": "a2955da9",
   "metadata": {},
   "source": [
    "# Introduction\n",
    "\n",
    "___\n",
    "\n",
    "Milestones 1\n",
    "\n",
    "Nama: Dwi Adhi Widigda Kartomihardjo\n",
    "\n",
    "Batch: FTDS-27\n",
    "\n",
    "Program ini dibuat untuk melakukan statistik deskriptif dan statistik inferensial untuk meningkatkan tingkat retensi pengguna jasa pengiriman jasa makanan di Bangalore dan meningkatkan faktor-faktor dari jasa pengriminan yang mempengaruhi tingkat retensi pengguna.\n",
    "\n",
    "___\n",
    "link Tableau: https://public.tableau.com/app/profile/dwi.adhi.widigda.k./viz/Milestones1DwiAdhiWidigdaK_/Dashboard1\n",
    "\n"
   ]
  },
  {
   "cell_type": "markdown",
   "id": "f6366715",
   "metadata": {},
   "source": [
    "# Problem Statement and Dataset Description\n"
   ]
  },
  {
   "cell_type": "markdown",
   "id": "599c3ef6",
   "metadata": {},
   "source": [
    "## Later Belakang"
   ]
  },
  {
   "cell_type": "markdown",
   "id": "16fdf8cf",
   "metadata": {},
   "source": [
    "Saya sebagai data analyst yang bekerja di perusahaan pengiriman makanan di Bangalore ditugaskan untuk meningkatkan tingkat retensi pengguna jasa pengiriman makanan. Sebagai tambahan saya juga akan mencari faktor-faktor apa saya yang mempengaruhi kemauan user menggunakan jasa"
   ]
  },
  {
   "cell_type": "markdown",
   "id": "2b9f9fd1",
   "metadata": {},
   "source": [
    "## SMART"
   ]
  },
  {
   "cell_type": "markdown",
   "id": "4220984c",
   "metadata": {},
   "source": [
    "Specific: Meningkatkan tingkat retensi pengguna jasa pengiriman makanan dengan cara meningkatkan faktor-faktor yang mempengaruhi kemauan user menggunakan jasa tersebut.\n",
    "\n",
    "Measurable: Berhasil meningkatkan tingkat retensi user sebesar 70%\n",
    "\n",
    "Achievable: Mengetahui faktor-faktor yang mempengaruhi user menggunakan jasa pengiriman makanan.\n",
    "\n",
    "Relevant: Peningkatan tingkat retensi dapat diartikan pengguna lebih bersedia menggunakan jasa yang pada gilirannya meningkatkan pendapatan perusahaan.\n",
    "\n",
    "Time-bound: Proses analisis dan visualisasi data dilakukan selama 2 minggu hari kerja."
   ]
  },
  {
   "cell_type": "markdown",
   "id": "46302993",
   "metadata": {},
   "source": [
    "## Problem Statement"
   ]
  },
  {
   "cell_type": "markdown",
   "id": "ab457328",
   "metadata": {},
   "source": [
    "Perusahaan mengalami penurunan pengunaan jasa pengiriman makanan. Tim marketing mengestimasikan tingak retensi user sebesar 60%. Selain itu perusahaan kekurangan refensi agar user tetap menggunakan jasa. Saya sebagai data analyst yang berkerja diperusahaan pengiriman makanan di Bangalore ditugasakan meningkatkan retensi user."
   ]
  },
  {
   "cell_type": "markdown",
   "id": "3da72763",
   "metadata": {},
   "source": [
    "## Sumber Dataset"
   ]
  },
  {
   "cell_type": "markdown",
   "id": "35b32bcc",
   "metadata": {},
   "source": [
    "Dataset yang digunkan untuk analisis ini diambil dari Online Food Delivery Preferences-Bangalore Region. Dataset ini terdiri dari 388 baris dan 55 kolom. Tipe data tiap kolom dibagi menjadi 49 String, 3 integer, 1 boolean, dan 2 lain nya. Dataset bisa dibuka melalui link ini https://www.kaggle.com/datasets/benroshan/online-food-delivery-preferencesbangalore-region"
   ]
  },
  {
   "cell_type": "markdown",
   "id": "69e27d9d",
   "metadata": {},
   "source": [
    "## Penjabaran Masalah"
   ]
  },
  {
   "cell_type": "markdown",
   "id": "f9b4a518",
   "metadata": {},
   "source": [
    "Penjabaran masalah dengan metode 5W+1H:\n",
    "\n",
    "5 penjabaran visualisasi\n",
    "- Kapan saja customer menggunkan jasa untuk memesan makanan?\n",
    "- Dimana lokasi penyebaran customer di Bangalore?\n",
    "- Distribusi umur customer yang akan menggunakan jasa lagi?\n",
    "- Perbandingan gender customer yang akan menggunakan jasa lagi?\n",
    "- Pekerjaan apa saja user yang memesan makanan?\n",
    "\n",
    "1 penjabaran deskriptif\n",
    "- Umur customer yang akan menggunakan jasa lagi?\n",
    "\n",
    "1 penjabran statistik inferensial\n",
    "- Faktor apa saja yang mempengaruhi user menggunakan jasa pengiriman makanan lagi?\n",
    "\n"
   ]
  },
  {
   "cell_type": "markdown",
   "id": "73365e4e",
   "metadata": {},
   "source": [
    "# Data Preparation"
   ]
  },
  {
   "cell_type": "markdown",
   "id": "0116b89e",
   "metadata": {},
   "source": [
    "## Import"
   ]
  },
  {
   "cell_type": "code",
   "execution_count": 1,
   "id": "3ea9565a",
   "metadata": {},
   "outputs": [],
   "source": [
    "import pandas as pd\n",
    "import numpy as np\n",
    "import plotly_express as px\n",
    "from scipy import stats\n",
    "pd.set_option('display.max_columns', 500)"
   ]
  },
  {
   "cell_type": "markdown",
   "id": "e0ff913f",
   "metadata": {},
   "source": [
    "## Data Loading"
   ]
  },
  {
   "cell_type": "code",
   "execution_count": 2,
   "id": "885d9bfc",
   "metadata": {},
   "outputs": [
    {
     "data": {
      "text/html": [
       "<div>\n",
       "<style scoped>\n",
       "    .dataframe tbody tr th:only-of-type {\n",
       "        vertical-align: middle;\n",
       "    }\n",
       "\n",
       "    .dataframe tbody tr th {\n",
       "        vertical-align: top;\n",
       "    }\n",
       "\n",
       "    .dataframe thead th {\n",
       "        text-align: right;\n",
       "    }\n",
       "</style>\n",
       "<table border=\"1\" class=\"dataframe\">\n",
       "  <thead>\n",
       "    <tr style=\"text-align: right;\">\n",
       "      <th></th>\n",
       "      <th>Age</th>\n",
       "      <th>Gender</th>\n",
       "      <th>Marital Status</th>\n",
       "      <th>Occupation</th>\n",
       "      <th>Monthly Income</th>\n",
       "      <th>Educational Qualifications</th>\n",
       "      <th>Family size</th>\n",
       "      <th>latitude</th>\n",
       "      <th>longitude</th>\n",
       "      <th>Pin code</th>\n",
       "      <th>Medium (P1)</th>\n",
       "      <th>Medium (P2)</th>\n",
       "      <th>Meal(P1)</th>\n",
       "      <th>Meal(P2)</th>\n",
       "      <th>Perference(P1)</th>\n",
       "      <th>Perference(P2)</th>\n",
       "      <th>Ease and convenient</th>\n",
       "      <th>Time saving</th>\n",
       "      <th>More restaurant choices</th>\n",
       "      <th>Easy Payment option</th>\n",
       "      <th>More Offers and Discount</th>\n",
       "      <th>Good Food quality</th>\n",
       "      <th>Good Tracking system</th>\n",
       "      <th>Self Cooking</th>\n",
       "      <th>Health Concern</th>\n",
       "      <th>Late Delivery</th>\n",
       "      <th>Poor Hygiene</th>\n",
       "      <th>Bad past experience</th>\n",
       "      <th>Unavailability</th>\n",
       "      <th>Unaffordable</th>\n",
       "      <th>Long delivery time</th>\n",
       "      <th>Delay of delivery person getting assigned</th>\n",
       "      <th>Delay of delivery person picking up food</th>\n",
       "      <th>Wrong order delivered</th>\n",
       "      <th>Missing item</th>\n",
       "      <th>Order placed by mistake</th>\n",
       "      <th>Influence of time</th>\n",
       "      <th>Order Time</th>\n",
       "      <th>Maximum wait time</th>\n",
       "      <th>Residence in busy location</th>\n",
       "      <th>Google Maps Accuracy</th>\n",
       "      <th>Good Road Condition</th>\n",
       "      <th>Low quantity low time</th>\n",
       "      <th>Delivery person ability</th>\n",
       "      <th>Influence of rating</th>\n",
       "      <th>Less Delivery time</th>\n",
       "      <th>High Quality of package</th>\n",
       "      <th>Number of calls</th>\n",
       "      <th>Politeness</th>\n",
       "      <th>Freshness</th>\n",
       "      <th>Temperature</th>\n",
       "      <th>Good Taste</th>\n",
       "      <th>Good Quantity</th>\n",
       "      <th>Output</th>\n",
       "      <th>Reviews</th>\n",
       "    </tr>\n",
       "  </thead>\n",
       "  <tbody>\n",
       "    <tr>\n",
       "      <th>0</th>\n",
       "      <td>20</td>\n",
       "      <td>Female</td>\n",
       "      <td>Single</td>\n",
       "      <td>Student</td>\n",
       "      <td>No Income</td>\n",
       "      <td>Post Graduate</td>\n",
       "      <td>4</td>\n",
       "      <td>12.9766</td>\n",
       "      <td>77.5993</td>\n",
       "      <td>560001</td>\n",
       "      <td>Food delivery apps</td>\n",
       "      <td>Web browser</td>\n",
       "      <td>Breakfast</td>\n",
       "      <td>Lunch</td>\n",
       "      <td>Non Veg foods (Lunch / Dinner)</td>\n",
       "      <td>Bakery items (snacks)</td>\n",
       "      <td>Neutral</td>\n",
       "      <td>Neutral</td>\n",
       "      <td>Neutral</td>\n",
       "      <td>Neutral</td>\n",
       "      <td>Neutral</td>\n",
       "      <td>Neutral</td>\n",
       "      <td>Neutral</td>\n",
       "      <td>Neutral</td>\n",
       "      <td>Neutral</td>\n",
       "      <td>Neutral</td>\n",
       "      <td>Neutral</td>\n",
       "      <td>Neutral</td>\n",
       "      <td>Neutral</td>\n",
       "      <td>Neutral</td>\n",
       "      <td>Agree</td>\n",
       "      <td>Agree</td>\n",
       "      <td>Agree</td>\n",
       "      <td>Agree</td>\n",
       "      <td>Agree</td>\n",
       "      <td>Agree</td>\n",
       "      <td>Yes</td>\n",
       "      <td>Weekend (Sat &amp; Sun)</td>\n",
       "      <td>30 minutes</td>\n",
       "      <td>Agree</td>\n",
       "      <td>Neutral</td>\n",
       "      <td>Neutral</td>\n",
       "      <td>Neutral</td>\n",
       "      <td>Neutral</td>\n",
       "      <td>Yes</td>\n",
       "      <td>Moderately Important</td>\n",
       "      <td>Moderately Important</td>\n",
       "      <td>Moderately Important</td>\n",
       "      <td>Moderately Important</td>\n",
       "      <td>Moderately Important</td>\n",
       "      <td>Moderately Important</td>\n",
       "      <td>Moderately Important</td>\n",
       "      <td>Moderately Important</td>\n",
       "      <td>Yes</td>\n",
       "      <td>Nil\\n</td>\n",
       "    </tr>\n",
       "    <tr>\n",
       "      <th>1</th>\n",
       "      <td>24</td>\n",
       "      <td>Female</td>\n",
       "      <td>Single</td>\n",
       "      <td>Student</td>\n",
       "      <td>Below Rs.10000</td>\n",
       "      <td>Graduate</td>\n",
       "      <td>3</td>\n",
       "      <td>12.9770</td>\n",
       "      <td>77.5773</td>\n",
       "      <td>560009</td>\n",
       "      <td>Food delivery apps</td>\n",
       "      <td>Web browser</td>\n",
       "      <td>Snacks</td>\n",
       "      <td>Dinner</td>\n",
       "      <td>Non Veg foods (Lunch / Dinner)</td>\n",
       "      <td>Veg foods (Breakfast / Lunch / Dinner)</td>\n",
       "      <td>Strongly agree</td>\n",
       "      <td>Strongly agree</td>\n",
       "      <td>Strongly agree</td>\n",
       "      <td>Strongly agree</td>\n",
       "      <td>Strongly agree</td>\n",
       "      <td>Neutral</td>\n",
       "      <td>Agree</td>\n",
       "      <td>Strongly agree</td>\n",
       "      <td>Strongly agree</td>\n",
       "      <td>Agree</td>\n",
       "      <td>Strongly agree</td>\n",
       "      <td>Strongly agree</td>\n",
       "      <td>Strongly agree</td>\n",
       "      <td>Strongly agree</td>\n",
       "      <td>Strongly agree</td>\n",
       "      <td>Strongly agree</td>\n",
       "      <td>Strongly agree</td>\n",
       "      <td>Strongly agree</td>\n",
       "      <td>Strongly agree</td>\n",
       "      <td>Strongly agree</td>\n",
       "      <td>Yes</td>\n",
       "      <td>Anytime (Mon-Sun)</td>\n",
       "      <td>30 minutes</td>\n",
       "      <td>Strongly Agree</td>\n",
       "      <td>Neutral</td>\n",
       "      <td>Disagree</td>\n",
       "      <td>Strongly disagree</td>\n",
       "      <td>Agree</td>\n",
       "      <td>Yes</td>\n",
       "      <td>Very Important</td>\n",
       "      <td>Very Important</td>\n",
       "      <td>Very Important</td>\n",
       "      <td>Very Important</td>\n",
       "      <td>Very Important</td>\n",
       "      <td>Very Important</td>\n",
       "      <td>Very Important</td>\n",
       "      <td>Very Important</td>\n",
       "      <td>Yes</td>\n",
       "      <td>Nil</td>\n",
       "    </tr>\n",
       "    <tr>\n",
       "      <th>2</th>\n",
       "      <td>22</td>\n",
       "      <td>Male</td>\n",
       "      <td>Single</td>\n",
       "      <td>Student</td>\n",
       "      <td>Below Rs.10000</td>\n",
       "      <td>Post Graduate</td>\n",
       "      <td>3</td>\n",
       "      <td>12.9551</td>\n",
       "      <td>77.6593</td>\n",
       "      <td>560017</td>\n",
       "      <td>Food delivery apps</td>\n",
       "      <td>Direct call</td>\n",
       "      <td>Lunch</td>\n",
       "      <td>Snacks</td>\n",
       "      <td>Non Veg foods (Lunch / Dinner)</td>\n",
       "      <td>Ice cream / Cool drinks</td>\n",
       "      <td>Strongly agree</td>\n",
       "      <td>Strongly agree</td>\n",
       "      <td>Strongly agree</td>\n",
       "      <td>Neutral</td>\n",
       "      <td>Neutral</td>\n",
       "      <td>Disagree</td>\n",
       "      <td>Neutral</td>\n",
       "      <td>Disagree</td>\n",
       "      <td>Neutral</td>\n",
       "      <td>Neutral</td>\n",
       "      <td>Agree</td>\n",
       "      <td>Agree</td>\n",
       "      <td>Agree</td>\n",
       "      <td>Agree</td>\n",
       "      <td>Agree</td>\n",
       "      <td>Agree</td>\n",
       "      <td>Agree</td>\n",
       "      <td>Strongly agree</td>\n",
       "      <td>Agree</td>\n",
       "      <td>Neutral</td>\n",
       "      <td>Yes</td>\n",
       "      <td>Anytime (Mon-Sun)</td>\n",
       "      <td>45 minutes</td>\n",
       "      <td>Agree</td>\n",
       "      <td>Strongly Agree</td>\n",
       "      <td>Neutral</td>\n",
       "      <td>Neutral</td>\n",
       "      <td>Agree</td>\n",
       "      <td>Yes</td>\n",
       "      <td>Important</td>\n",
       "      <td>Very Important</td>\n",
       "      <td>Moderately Important</td>\n",
       "      <td>Very Important</td>\n",
       "      <td>Very Important</td>\n",
       "      <td>Important</td>\n",
       "      <td>Very Important</td>\n",
       "      <td>Moderately Important</td>\n",
       "      <td>Yes</td>\n",
       "      <td>Many a times payment gateways are an issue, so...</td>\n",
       "    </tr>\n",
       "    <tr>\n",
       "      <th>3</th>\n",
       "      <td>22</td>\n",
       "      <td>Female</td>\n",
       "      <td>Single</td>\n",
       "      <td>Student</td>\n",
       "      <td>No Income</td>\n",
       "      <td>Graduate</td>\n",
       "      <td>6</td>\n",
       "      <td>12.9473</td>\n",
       "      <td>77.5616</td>\n",
       "      <td>560019</td>\n",
       "      <td>Food delivery apps</td>\n",
       "      <td>Walk-in</td>\n",
       "      <td>Snacks</td>\n",
       "      <td>Dinner</td>\n",
       "      <td>Veg foods (Breakfast / Lunch / Dinner)</td>\n",
       "      <td>Bakery items (snacks)</td>\n",
       "      <td>Agree</td>\n",
       "      <td>Agree</td>\n",
       "      <td>Strongly agree</td>\n",
       "      <td>Agree</td>\n",
       "      <td>Strongly agree</td>\n",
       "      <td>Agree</td>\n",
       "      <td>Agree</td>\n",
       "      <td>Agree</td>\n",
       "      <td>Strongly agree</td>\n",
       "      <td>Neutral</td>\n",
       "      <td>Agree</td>\n",
       "      <td>Disagree</td>\n",
       "      <td>Disagree</td>\n",
       "      <td>Neutral</td>\n",
       "      <td>Agree</td>\n",
       "      <td>Agree</td>\n",
       "      <td>Agree</td>\n",
       "      <td>Disagree</td>\n",
       "      <td>Disagree</td>\n",
       "      <td>Neutral</td>\n",
       "      <td>Yes</td>\n",
       "      <td>Anytime (Mon-Sun)</td>\n",
       "      <td>30 minutes</td>\n",
       "      <td>Disagree</td>\n",
       "      <td>Agree</td>\n",
       "      <td>Agree</td>\n",
       "      <td>Neutral</td>\n",
       "      <td>Agree</td>\n",
       "      <td>Yes</td>\n",
       "      <td>Very Important</td>\n",
       "      <td>Important</td>\n",
       "      <td>Moderately Important</td>\n",
       "      <td>Very Important</td>\n",
       "      <td>Very Important</td>\n",
       "      <td>Very Important</td>\n",
       "      <td>Very Important</td>\n",
       "      <td>Important</td>\n",
       "      <td>Yes</td>\n",
       "      <td>nil</td>\n",
       "    </tr>\n",
       "    <tr>\n",
       "      <th>4</th>\n",
       "      <td>22</td>\n",
       "      <td>Male</td>\n",
       "      <td>Single</td>\n",
       "      <td>Student</td>\n",
       "      <td>Below Rs.10000</td>\n",
       "      <td>Post Graduate</td>\n",
       "      <td>4</td>\n",
       "      <td>12.9850</td>\n",
       "      <td>77.5533</td>\n",
       "      <td>560010</td>\n",
       "      <td>Walk-in</td>\n",
       "      <td>Direct call</td>\n",
       "      <td>Lunch</td>\n",
       "      <td>Dinner</td>\n",
       "      <td>Non Veg foods (Lunch / Dinner)</td>\n",
       "      <td>Veg foods (Breakfast / Lunch / Dinner)</td>\n",
       "      <td>Agree</td>\n",
       "      <td>Agree</td>\n",
       "      <td>Agree</td>\n",
       "      <td>Agree</td>\n",
       "      <td>Agree</td>\n",
       "      <td>Neutral</td>\n",
       "      <td>Neutral</td>\n",
       "      <td>Agree</td>\n",
       "      <td>Strongly agree</td>\n",
       "      <td>Strongly agree</td>\n",
       "      <td>Agree</td>\n",
       "      <td>Strongly agree</td>\n",
       "      <td>Agree</td>\n",
       "      <td>Disagree</td>\n",
       "      <td>Strongly agree</td>\n",
       "      <td>Strongly agree</td>\n",
       "      <td>Neutral</td>\n",
       "      <td>Neutral</td>\n",
       "      <td>Neutral</td>\n",
       "      <td>Disagree</td>\n",
       "      <td>Yes</td>\n",
       "      <td>Weekend (Sat &amp; Sun)</td>\n",
       "      <td>30 minutes</td>\n",
       "      <td>Agree</td>\n",
       "      <td>Agree</td>\n",
       "      <td>Agree</td>\n",
       "      <td>Agree</td>\n",
       "      <td>Agree</td>\n",
       "      <td>Yes</td>\n",
       "      <td>Important</td>\n",
       "      <td>Important</td>\n",
       "      <td>Moderately Important</td>\n",
       "      <td>Important</td>\n",
       "      <td>Important</td>\n",
       "      <td>Important</td>\n",
       "      <td>Very Important</td>\n",
       "      <td>Very Important</td>\n",
       "      <td>Yes</td>\n",
       "      <td>NIL</td>\n",
       "    </tr>\n",
       "  </tbody>\n",
       "</table>\n",
       "</div>"
      ],
      "text/plain": [
       "   Age  Gender Marital Status Occupation  Monthly Income  \\\n",
       "0   20  Female         Single    Student       No Income   \n",
       "1   24  Female         Single    Student  Below Rs.10000   \n",
       "2   22    Male         Single    Student  Below Rs.10000   \n",
       "3   22  Female         Single    Student       No Income   \n",
       "4   22    Male         Single    Student  Below Rs.10000   \n",
       "\n",
       "  Educational Qualifications  Family size  latitude  longitude  Pin code  \\\n",
       "0              Post Graduate            4   12.9766    77.5993    560001   \n",
       "1                   Graduate            3   12.9770    77.5773    560009   \n",
       "2              Post Graduate            3   12.9551    77.6593    560017   \n",
       "3                   Graduate            6   12.9473    77.5616    560019   \n",
       "4              Post Graduate            4   12.9850    77.5533    560010   \n",
       "\n",
       "          Medium (P1)   Medium (P2)   Meal(P1) Meal(P2)  \\\n",
       "0  Food delivery apps   Web browser  Breakfast    Lunch   \n",
       "1  Food delivery apps   Web browser     Snacks   Dinner   \n",
       "2  Food delivery apps   Direct call      Lunch   Snacks   \n",
       "3  Food delivery apps       Walk-in     Snacks   Dinner   \n",
       "4             Walk-in   Direct call      Lunch   Dinner   \n",
       "\n",
       "                           Perference(P1)  \\\n",
       "0          Non Veg foods (Lunch / Dinner)   \n",
       "1          Non Veg foods (Lunch / Dinner)   \n",
       "2          Non Veg foods (Lunch / Dinner)   \n",
       "3  Veg foods (Breakfast / Lunch / Dinner)   \n",
       "4          Non Veg foods (Lunch / Dinner)   \n",
       "\n",
       "                            Perference(P2) Ease and convenient  \\\n",
       "0                    Bakery items (snacks)             Neutral   \n",
       "1   Veg foods (Breakfast / Lunch / Dinner)      Strongly agree   \n",
       "2                  Ice cream / Cool drinks      Strongly agree   \n",
       "3                    Bakery items (snacks)               Agree   \n",
       "4   Veg foods (Breakfast / Lunch / Dinner)               Agree   \n",
       "\n",
       "      Time saving More restaurant choices Easy Payment option  \\\n",
       "0         Neutral                 Neutral             Neutral   \n",
       "1  Strongly agree          Strongly agree      Strongly agree   \n",
       "2  Strongly agree          Strongly agree             Neutral   \n",
       "3           Agree          Strongly agree               Agree   \n",
       "4           Agree                   Agree               Agree   \n",
       "\n",
       "  More Offers and Discount Good Food quality Good Tracking system  \\\n",
       "0                  Neutral           Neutral              Neutral   \n",
       "1           Strongly agree           Neutral                Agree   \n",
       "2                  Neutral          Disagree              Neutral   \n",
       "3           Strongly agree             Agree                Agree   \n",
       "4                    Agree           Neutral              Neutral   \n",
       "\n",
       "     Self Cooking  Health Concern   Late Delivery    Poor Hygiene  \\\n",
       "0         Neutral         Neutral         Neutral         Neutral   \n",
       "1  Strongly agree  Strongly agree           Agree  Strongly agree   \n",
       "2        Disagree         Neutral         Neutral           Agree   \n",
       "3           Agree  Strongly agree         Neutral           Agree   \n",
       "4           Agree  Strongly agree  Strongly agree           Agree   \n",
       "\n",
       "  Bad past experience  Unavailability    Unaffordable Long delivery time  \\\n",
       "0             Neutral         Neutral         Neutral              Agree   \n",
       "1      Strongly agree  Strongly agree  Strongly agree     Strongly agree   \n",
       "2               Agree           Agree           Agree              Agree   \n",
       "3            Disagree        Disagree         Neutral              Agree   \n",
       "4      Strongly agree           Agree        Disagree     Strongly agree   \n",
       "\n",
       "  Delay of delivery person getting assigned  \\\n",
       "0                                     Agree   \n",
       "1                            Strongly agree   \n",
       "2                                     Agree   \n",
       "3                                     Agree   \n",
       "4                            Strongly agree   \n",
       "\n",
       "  Delay of delivery person picking up food Wrong order delivered  \\\n",
       "0                                    Agree                 Agree   \n",
       "1                           Strongly agree        Strongly agree   \n",
       "2                                    Agree        Strongly agree   \n",
       "3                                    Agree              Disagree   \n",
       "4                                  Neutral               Neutral   \n",
       "\n",
       "     Missing item Order placed by mistake Influence of time  \\\n",
       "0           Agree                   Agree               Yes   \n",
       "1  Strongly agree          Strongly agree               Yes   \n",
       "2           Agree                 Neutral               Yes   \n",
       "3        Disagree                 Neutral               Yes   \n",
       "4         Neutral                Disagree               Yes   \n",
       "\n",
       "            Order Time Maximum wait time Residence in busy location  \\\n",
       "0  Weekend (Sat & Sun)        30 minutes                      Agree   \n",
       "1    Anytime (Mon-Sun)        30 minutes             Strongly Agree   \n",
       "2    Anytime (Mon-Sun)        45 minutes                      Agree   \n",
       "3    Anytime (Mon-Sun)        30 minutes                   Disagree   \n",
       "4  Weekend (Sat & Sun)        30 minutes                      Agree   \n",
       "\n",
       "  Google Maps Accuracy Good Road Condition Low quantity low time  \\\n",
       "0              Neutral             Neutral               Neutral   \n",
       "1              Neutral            Disagree     Strongly disagree   \n",
       "2       Strongly Agree             Neutral               Neutral   \n",
       "3                Agree               Agree               Neutral   \n",
       "4                Agree               Agree                 Agree   \n",
       "\n",
       "  Delivery person ability Influence of rating    Less Delivery time  \\\n",
       "0                 Neutral                 Yes  Moderately Important   \n",
       "1                   Agree                 Yes        Very Important   \n",
       "2                   Agree                 Yes             Important   \n",
       "3                   Agree                 Yes        Very Important   \n",
       "4                   Agree                 Yes             Important   \n",
       "\n",
       "  High Quality of package       Number of calls            Politeness  \\\n",
       "0    Moderately Important  Moderately Important  Moderately Important   \n",
       "1          Very Important        Very Important        Very Important   \n",
       "2          Very Important  Moderately Important        Very Important   \n",
       "3               Important  Moderately Important        Very Important   \n",
       "4               Important  Moderately Important             Important   \n",
       "\n",
       "             Freshness            Temperature           Good Taste   \\\n",
       "0  Moderately Important  Moderately Important  Moderately Important   \n",
       "1        Very Important        Very Important        Very Important   \n",
       "2        Very Important             Important        Very Important   \n",
       "3        Very Important        Very Important        Very Important   \n",
       "4             Important             Important        Very Important   \n",
       "\n",
       "          Good Quantity Output  \\\n",
       "0  Moderately Important    Yes   \n",
       "1        Very Important    Yes   \n",
       "2  Moderately Important    Yes   \n",
       "3             Important    Yes   \n",
       "4        Very Important    Yes   \n",
       "\n",
       "                                             Reviews  \n",
       "0                                              Nil\\n  \n",
       "1                                                Nil  \n",
       "2  Many a times payment gateways are an issue, so...  \n",
       "3                                                nil  \n",
       "4                                                NIL  "
      ]
     },
     "execution_count": 2,
     "metadata": {},
     "output_type": "execute_result"
    }
   ],
   "source": [
    "df = pd.read_csv('onlinedeliverydata.csv')\n",
    "df.head()"
   ]
  },
  {
   "cell_type": "markdown",
   "id": "a0d1213c",
   "metadata": {},
   "source": [
    "Cell berikut adalah 5 baris pertama dataset"
   ]
  },
  {
   "cell_type": "code",
   "execution_count": 3,
   "id": "3cc59564",
   "metadata": {},
   "outputs": [
    {
     "name": "stdout",
     "output_type": "stream",
     "text": [
      "<class 'pandas.core.frame.DataFrame'>\n",
      "RangeIndex: 388 entries, 0 to 387\n",
      "Data columns (total 55 columns):\n",
      " #   Column                                     Non-Null Count  Dtype  \n",
      "---  ------                                     --------------  -----  \n",
      " 0   Age                                        388 non-null    int64  \n",
      " 1   Gender                                     388 non-null    object \n",
      " 2   Marital Status                             388 non-null    object \n",
      " 3   Occupation                                 388 non-null    object \n",
      " 4   Monthly Income                             388 non-null    object \n",
      " 5   Educational Qualifications                 388 non-null    object \n",
      " 6   Family size                                388 non-null    int64  \n",
      " 7   latitude                                   388 non-null    float64\n",
      " 8   longitude                                  388 non-null    float64\n",
      " 9   Pin code                                   388 non-null    int64  \n",
      " 10  Medium (P1)                                388 non-null    object \n",
      " 11  Medium (P2)                                388 non-null    object \n",
      " 12  Meal(P1)                                   388 non-null    object \n",
      " 13  Meal(P2)                                   388 non-null    object \n",
      " 14  Perference(P1)                             388 non-null    object \n",
      " 15  Perference(P2)                             388 non-null    object \n",
      " 16  Ease and convenient                        388 non-null    object \n",
      " 17  Time saving                                388 non-null    object \n",
      " 18  More restaurant choices                    388 non-null    object \n",
      " 19  Easy Payment option                        388 non-null    object \n",
      " 20  More Offers and Discount                   388 non-null    object \n",
      " 21  Good Food quality                          388 non-null    object \n",
      " 22  Good Tracking system                       388 non-null    object \n",
      " 23  Self Cooking                               388 non-null    object \n",
      " 24  Health Concern                             388 non-null    object \n",
      " 25  Late Delivery                              388 non-null    object \n",
      " 26  Poor Hygiene                               388 non-null    object \n",
      " 27  Bad past experience                        388 non-null    object \n",
      " 28  Unavailability                             388 non-null    object \n",
      " 29  Unaffordable                               388 non-null    object \n",
      " 30  Long delivery time                         388 non-null    object \n",
      " 31  Delay of delivery person getting assigned  388 non-null    object \n",
      " 32  Delay of delivery person picking up food   388 non-null    object \n",
      " 33  Wrong order delivered                      388 non-null    object \n",
      " 34  Missing item                               388 non-null    object \n",
      " 35  Order placed by mistake                    388 non-null    object \n",
      " 36  Influence of time                          388 non-null    object \n",
      " 37  Order Time                                 388 non-null    object \n",
      " 38  Maximum wait time                          388 non-null    object \n",
      " 39  Residence in busy location                 388 non-null    object \n",
      " 40  Google Maps Accuracy                       388 non-null    object \n",
      " 41  Good Road Condition                        388 non-null    object \n",
      " 42  Low quantity low time                      388 non-null    object \n",
      " 43  Delivery person ability                    388 non-null    object \n",
      " 44  Influence of rating                        388 non-null    object \n",
      " 45  Less Delivery time                         388 non-null    object \n",
      " 46  High Quality of package                    388 non-null    object \n",
      " 47  Number of calls                            388 non-null    object \n",
      " 48  Politeness                                 388 non-null    object \n",
      " 49  Freshness                                  388 non-null    object \n",
      " 50  Temperature                                388 non-null    object \n",
      " 51  Good Taste                                 388 non-null    object \n",
      " 52  Good Quantity                              388 non-null    object \n",
      " 53  Output                                     388 non-null    object \n",
      " 54  Reviews                                    387 non-null    object \n",
      "dtypes: float64(2), int64(3), object(50)\n",
      "memory usage: 166.8+ KB\n"
     ]
    }
   ],
   "source": [
    "df.info()"
   ]
  },
  {
   "cell_type": "markdown",
   "id": "940b595f",
   "metadata": {},
   "source": [
    "Bedasarkan summary dataset, tidak ada kolom dengan missing value selain kolom review.\n",
    "\n",
    "Penamanam kolom data menggunakan spasi harus diganti. Format penamaan yang digunakan adalah lowercase dan '_' untuke pengganti spasi"
   ]
  },
  {
   "cell_type": "markdown",
   "id": "6716a787",
   "metadata": {},
   "source": [
    "# Data Cleaning"
   ]
  },
  {
   "cell_type": "code",
   "execution_count": 4,
   "id": "8ddffe08",
   "metadata": {},
   "outputs": [
    {
     "data": {
      "text/plain": [
       "np.int64(102)"
      ]
     },
     "execution_count": 4,
     "metadata": {},
     "output_type": "execute_result"
    }
   ],
   "source": [
    "df.duplicated().sum()"
   ]
  },
  {
   "cell_type": "markdown",
   "id": "75ab43ee",
   "metadata": {},
   "source": [
    "Dataset memiliki 102 dataset duplikat. Data ini perlu di drop"
   ]
  },
  {
   "cell_type": "code",
   "execution_count": 5,
   "id": "55a9eb55",
   "metadata": {},
   "outputs": [],
   "source": [
    "df = df.drop_duplicates()"
   ]
  },
  {
   "cell_type": "markdown",
   "id": "ef308e03",
   "metadata": {},
   "source": [
    "Duplikat di dataset di hilangkan"
   ]
  },
  {
   "cell_type": "code",
   "execution_count": 6,
   "id": "6e8fb48c",
   "metadata": {},
   "outputs": [
    {
     "name": "stdout",
     "output_type": "stream",
     "text": [
      "<class 'pandas.core.frame.DataFrame'>\n",
      "Index: 286 entries, 0 to 369\n",
      "Data columns (total 55 columns):\n",
      " #   Column                                     Non-Null Count  Dtype  \n",
      "---  ------                                     --------------  -----  \n",
      " 0   Age                                        286 non-null    int64  \n",
      " 1   Gender                                     286 non-null    object \n",
      " 2   Marital Status                             286 non-null    object \n",
      " 3   Occupation                                 286 non-null    object \n",
      " 4   Monthly Income                             286 non-null    object \n",
      " 5   Educational Qualifications                 286 non-null    object \n",
      " 6   Family size                                286 non-null    int64  \n",
      " 7   latitude                                   286 non-null    float64\n",
      " 8   longitude                                  286 non-null    float64\n",
      " 9   Pin code                                   286 non-null    int64  \n",
      " 10  Medium (P1)                                286 non-null    object \n",
      " 11  Medium (P2)                                286 non-null    object \n",
      " 12  Meal(P1)                                   286 non-null    object \n",
      " 13  Meal(P2)                                   286 non-null    object \n",
      " 14  Perference(P1)                             286 non-null    object \n",
      " 15  Perference(P2)                             286 non-null    object \n",
      " 16  Ease and convenient                        286 non-null    object \n",
      " 17  Time saving                                286 non-null    object \n",
      " 18  More restaurant choices                    286 non-null    object \n",
      " 19  Easy Payment option                        286 non-null    object \n",
      " 20  More Offers and Discount                   286 non-null    object \n",
      " 21  Good Food quality                          286 non-null    object \n",
      " 22  Good Tracking system                       286 non-null    object \n",
      " 23  Self Cooking                               286 non-null    object \n",
      " 24  Health Concern                             286 non-null    object \n",
      " 25  Late Delivery                              286 non-null    object \n",
      " 26  Poor Hygiene                               286 non-null    object \n",
      " 27  Bad past experience                        286 non-null    object \n",
      " 28  Unavailability                             286 non-null    object \n",
      " 29  Unaffordable                               286 non-null    object \n",
      " 30  Long delivery time                         286 non-null    object \n",
      " 31  Delay of delivery person getting assigned  286 non-null    object \n",
      " 32  Delay of delivery person picking up food   286 non-null    object \n",
      " 33  Wrong order delivered                      286 non-null    object \n",
      " 34  Missing item                               286 non-null    object \n",
      " 35  Order placed by mistake                    286 non-null    object \n",
      " 36  Influence of time                          286 non-null    object \n",
      " 37  Order Time                                 286 non-null    object \n",
      " 38  Maximum wait time                          286 non-null    object \n",
      " 39  Residence in busy location                 286 non-null    object \n",
      " 40  Google Maps Accuracy                       286 non-null    object \n",
      " 41  Good Road Condition                        286 non-null    object \n",
      " 42  Low quantity low time                      286 non-null    object \n",
      " 43  Delivery person ability                    286 non-null    object \n",
      " 44  Influence of rating                        286 non-null    object \n",
      " 45  Less Delivery time                         286 non-null    object \n",
      " 46  High Quality of package                    286 non-null    object \n",
      " 47  Number of calls                            286 non-null    object \n",
      " 48  Politeness                                 286 non-null    object \n",
      " 49  Freshness                                  286 non-null    object \n",
      " 50  Temperature                                286 non-null    object \n",
      " 51  Good Taste                                 286 non-null    object \n",
      " 52  Good Quantity                              286 non-null    object \n",
      " 53  Output                                     286 non-null    object \n",
      " 54  Reviews                                    285 non-null    object \n",
      "dtypes: float64(2), int64(3), object(50)\n",
      "memory usage: 125.1+ KB\n"
     ]
    }
   ],
   "source": [
    "df.info()"
   ]
  },
  {
   "cell_type": "markdown",
   "id": "2980f6ab",
   "metadata": {},
   "source": [
    "Setelah tidak ada duplikat, sisa data sebanyak 286"
   ]
  },
  {
   "cell_type": "code",
   "execution_count": 7,
   "id": "03f48990",
   "metadata": {},
   "outputs": [],
   "source": [
    "del df['Reviews']"
   ]
  },
  {
   "cell_type": "markdown",
   "id": "528c342d",
   "metadata": {},
   "source": [
    "Kolom review di drop karena tidak digunakan untuk analisis."
   ]
  },
  {
   "cell_type": "code",
   "execution_count": 8,
   "id": "fd6ec701",
   "metadata": {},
   "outputs": [
    {
     "name": "stdout",
     "output_type": "stream",
     "text": [
      "<class 'pandas.core.frame.DataFrame'>\n",
      "Index: 286 entries, 0 to 369\n",
      "Data columns (total 54 columns):\n",
      " #   Column                                     Non-Null Count  Dtype  \n",
      "---  ------                                     --------------  -----  \n",
      " 0   Age                                        286 non-null    int64  \n",
      " 1   Gender                                     286 non-null    object \n",
      " 2   Marital Status                             286 non-null    object \n",
      " 3   Occupation                                 286 non-null    object \n",
      " 4   Monthly Income                             286 non-null    object \n",
      " 5   Educational Qualifications                 286 non-null    object \n",
      " 6   Family size                                286 non-null    int64  \n",
      " 7   latitude                                   286 non-null    float64\n",
      " 8   longitude                                  286 non-null    float64\n",
      " 9   Pin code                                   286 non-null    int64  \n",
      " 10  Medium (P1)                                286 non-null    object \n",
      " 11  Medium (P2)                                286 non-null    object \n",
      " 12  Meal(P1)                                   286 non-null    object \n",
      " 13  Meal(P2)                                   286 non-null    object \n",
      " 14  Perference(P1)                             286 non-null    object \n",
      " 15  Perference(P2)                             286 non-null    object \n",
      " 16  Ease and convenient                        286 non-null    object \n",
      " 17  Time saving                                286 non-null    object \n",
      " 18  More restaurant choices                    286 non-null    object \n",
      " 19  Easy Payment option                        286 non-null    object \n",
      " 20  More Offers and Discount                   286 non-null    object \n",
      " 21  Good Food quality                          286 non-null    object \n",
      " 22  Good Tracking system                       286 non-null    object \n",
      " 23  Self Cooking                               286 non-null    object \n",
      " 24  Health Concern                             286 non-null    object \n",
      " 25  Late Delivery                              286 non-null    object \n",
      " 26  Poor Hygiene                               286 non-null    object \n",
      " 27  Bad past experience                        286 non-null    object \n",
      " 28  Unavailability                             286 non-null    object \n",
      " 29  Unaffordable                               286 non-null    object \n",
      " 30  Long delivery time                         286 non-null    object \n",
      " 31  Delay of delivery person getting assigned  286 non-null    object \n",
      " 32  Delay of delivery person picking up food   286 non-null    object \n",
      " 33  Wrong order delivered                      286 non-null    object \n",
      " 34  Missing item                               286 non-null    object \n",
      " 35  Order placed by mistake                    286 non-null    object \n",
      " 36  Influence of time                          286 non-null    object \n",
      " 37  Order Time                                 286 non-null    object \n",
      " 38  Maximum wait time                          286 non-null    object \n",
      " 39  Residence in busy location                 286 non-null    object \n",
      " 40  Google Maps Accuracy                       286 non-null    object \n",
      " 41  Good Road Condition                        286 non-null    object \n",
      " 42  Low quantity low time                      286 non-null    object \n",
      " 43  Delivery person ability                    286 non-null    object \n",
      " 44  Influence of rating                        286 non-null    object \n",
      " 45  Less Delivery time                         286 non-null    object \n",
      " 46  High Quality of package                    286 non-null    object \n",
      " 47  Number of calls                            286 non-null    object \n",
      " 48  Politeness                                 286 non-null    object \n",
      " 49  Freshness                                  286 non-null    object \n",
      " 50  Temperature                                286 non-null    object \n",
      " 51  Good Taste                                 286 non-null    object \n",
      " 52  Good Quantity                              286 non-null    object \n",
      " 53  Output                                     286 non-null    object \n",
      "dtypes: float64(2), int64(3), object(49)\n",
      "memory usage: 122.9+ KB\n"
     ]
    }
   ],
   "source": [
    "df.info()"
   ]
  },
  {
   "cell_type": "code",
   "execution_count": 9,
   "id": "6f842a8d",
   "metadata": {},
   "outputs": [],
   "source": [
    "df.columns = df.columns.str.replace(' ','_')\n",
    "df.columns = df.columns.str.lower()"
   ]
  },
  {
   "cell_type": "markdown",
   "id": "a7ed4111",
   "metadata": {},
   "source": [
    "Setiap kolom di dataset yang memiliki spasi diganti dengan '_' dan semua kolom di dataset di lower"
   ]
  },
  {
   "cell_type": "code",
   "execution_count": 10,
   "id": "de75d53d",
   "metadata": {},
   "outputs": [
    {
     "name": "stdout",
     "output_type": "stream",
     "text": [
      "<class 'pandas.core.frame.DataFrame'>\n",
      "Index: 286 entries, 0 to 369\n",
      "Data columns (total 54 columns):\n",
      " #   Column                                     Non-Null Count  Dtype  \n",
      "---  ------                                     --------------  -----  \n",
      " 0   age                                        286 non-null    int64  \n",
      " 1   gender                                     286 non-null    object \n",
      " 2   marital_status                             286 non-null    object \n",
      " 3   occupation                                 286 non-null    object \n",
      " 4   monthly_income                             286 non-null    object \n",
      " 5   educational_qualifications                 286 non-null    object \n",
      " 6   family_size                                286 non-null    int64  \n",
      " 7   latitude                                   286 non-null    float64\n",
      " 8   longitude                                  286 non-null    float64\n",
      " 9   pin_code                                   286 non-null    int64  \n",
      " 10  medium_(p1)                                286 non-null    object \n",
      " 11  medium_(p2)                                286 non-null    object \n",
      " 12  meal(p1)                                   286 non-null    object \n",
      " 13  meal(p2)                                   286 non-null    object \n",
      " 14  perference(p1)                             286 non-null    object \n",
      " 15  perference(p2)                             286 non-null    object \n",
      " 16  ease_and_convenient                        286 non-null    object \n",
      " 17  time_saving                                286 non-null    object \n",
      " 18  more_restaurant_choices                    286 non-null    object \n",
      " 19  easy_payment_option                        286 non-null    object \n",
      " 20  more_offers_and_discount                   286 non-null    object \n",
      " 21  good_food_quality                          286 non-null    object \n",
      " 22  good_tracking_system                       286 non-null    object \n",
      " 23  self_cooking                               286 non-null    object \n",
      " 24  health_concern                             286 non-null    object \n",
      " 25  late_delivery                              286 non-null    object \n",
      " 26  poor_hygiene                               286 non-null    object \n",
      " 27  bad_past_experience                        286 non-null    object \n",
      " 28  unavailability                             286 non-null    object \n",
      " 29  unaffordable                               286 non-null    object \n",
      " 30  long_delivery_time                         286 non-null    object \n",
      " 31  delay_of_delivery_person_getting_assigned  286 non-null    object \n",
      " 32  delay_of_delivery_person_picking_up_food   286 non-null    object \n",
      " 33  wrong_order_delivered                      286 non-null    object \n",
      " 34  missing_item                               286 non-null    object \n",
      " 35  order_placed_by_mistake                    286 non-null    object \n",
      " 36  influence_of_time                          286 non-null    object \n",
      " 37  order_time                                 286 non-null    object \n",
      " 38  maximum_wait_time                          286 non-null    object \n",
      " 39  residence_in_busy_location                 286 non-null    object \n",
      " 40  google_maps_accuracy                       286 non-null    object \n",
      " 41  good_road_condition                        286 non-null    object \n",
      " 42  low_quantity_low_time                      286 non-null    object \n",
      " 43  delivery_person_ability                    286 non-null    object \n",
      " 44  influence_of_rating                        286 non-null    object \n",
      " 45  less_delivery_time                         286 non-null    object \n",
      " 46  high_quality_of_package                    286 non-null    object \n",
      " 47  number_of_calls                            286 non-null    object \n",
      " 48  politeness                                 286 non-null    object \n",
      " 49  freshness_                                 286 non-null    object \n",
      " 50  temperature                                286 non-null    object \n",
      " 51  good_taste_                                286 non-null    object \n",
      " 52  good_quantity                              286 non-null    object \n",
      " 53  output                                     286 non-null    object \n",
      "dtypes: float64(2), int64(3), object(49)\n",
      "memory usage: 122.9+ KB\n"
     ]
    }
   ],
   "source": [
    "df.info()"
   ]
  },
  {
   "cell_type": "code",
   "execution_count": 11,
   "id": "d617ab62",
   "metadata": {},
   "outputs": [],
   "source": [
    "df.to_csv('clean_df.csv',index=False)"
   ]
  },
  {
   "cell_type": "markdown",
   "id": "e5c221dd",
   "metadata": {},
   "source": [
    "Dataframe di convert ke dalam csv. Digunakan untuk memperbaiki df jika ada perubahan df yang bersih."
   ]
  },
  {
   "cell_type": "code",
   "execution_count": 12,
   "id": "ebffa7fc",
   "metadata": {},
   "outputs": [],
   "source": [
    "df.to_excel('clean_df.xlsx')"
   ]
  },
  {
   "cell_type": "markdown",
   "id": "b3348bf0",
   "metadata": {},
   "source": [
    "Dataframe di convert ke dalam file excel. Akan digunakan saat pebuatan Dashboard"
   ]
  },
  {
   "cell_type": "code",
   "execution_count": 13,
   "id": "d43a632e",
   "metadata": {},
   "outputs": [
    {
     "data": {
      "text/html": [
       "<div>\n",
       "<style scoped>\n",
       "    .dataframe tbody tr th:only-of-type {\n",
       "        vertical-align: middle;\n",
       "    }\n",
       "\n",
       "    .dataframe tbody tr th {\n",
       "        vertical-align: top;\n",
       "    }\n",
       "\n",
       "    .dataframe thead th {\n",
       "        text-align: right;\n",
       "    }\n",
       "</style>\n",
       "<table border=\"1\" class=\"dataframe\">\n",
       "  <thead>\n",
       "    <tr style=\"text-align: right;\">\n",
       "      <th></th>\n",
       "      <th>age</th>\n",
       "      <th>gender</th>\n",
       "      <th>marital_status</th>\n",
       "      <th>occupation</th>\n",
       "      <th>monthly_income</th>\n",
       "      <th>educational_qualifications</th>\n",
       "      <th>family_size</th>\n",
       "      <th>latitude</th>\n",
       "      <th>longitude</th>\n",
       "      <th>pin_code</th>\n",
       "      <th>medium_(p1)</th>\n",
       "      <th>medium_(p2)</th>\n",
       "      <th>meal(p1)</th>\n",
       "      <th>meal(p2)</th>\n",
       "      <th>perference(p1)</th>\n",
       "      <th>perference(p2)</th>\n",
       "      <th>ease_and_convenient</th>\n",
       "      <th>time_saving</th>\n",
       "      <th>more_restaurant_choices</th>\n",
       "      <th>easy_payment_option</th>\n",
       "      <th>more_offers_and_discount</th>\n",
       "      <th>good_food_quality</th>\n",
       "      <th>good_tracking_system</th>\n",
       "      <th>self_cooking</th>\n",
       "      <th>health_concern</th>\n",
       "      <th>late_delivery</th>\n",
       "      <th>poor_hygiene</th>\n",
       "      <th>bad_past_experience</th>\n",
       "      <th>unavailability</th>\n",
       "      <th>unaffordable</th>\n",
       "      <th>long_delivery_time</th>\n",
       "      <th>delay_of_delivery_person_getting_assigned</th>\n",
       "      <th>delay_of_delivery_person_picking_up_food</th>\n",
       "      <th>wrong_order_delivered</th>\n",
       "      <th>missing_item</th>\n",
       "      <th>order_placed_by_mistake</th>\n",
       "      <th>influence_of_time</th>\n",
       "      <th>order_time</th>\n",
       "      <th>maximum_wait_time</th>\n",
       "      <th>residence_in_busy_location</th>\n",
       "      <th>google_maps_accuracy</th>\n",
       "      <th>good_road_condition</th>\n",
       "      <th>low_quantity_low_time</th>\n",
       "      <th>delivery_person_ability</th>\n",
       "      <th>influence_of_rating</th>\n",
       "      <th>less_delivery_time</th>\n",
       "      <th>high_quality_of_package</th>\n",
       "      <th>number_of_calls</th>\n",
       "      <th>politeness</th>\n",
       "      <th>freshness_</th>\n",
       "      <th>temperature</th>\n",
       "      <th>good_taste_</th>\n",
       "      <th>good_quantity</th>\n",
       "      <th>output</th>\n",
       "    </tr>\n",
       "  </thead>\n",
       "  <tbody>\n",
       "    <tr>\n",
       "      <th>0</th>\n",
       "      <td>20</td>\n",
       "      <td>Female</td>\n",
       "      <td>Single</td>\n",
       "      <td>Student</td>\n",
       "      <td>No Income</td>\n",
       "      <td>Post Graduate</td>\n",
       "      <td>4</td>\n",
       "      <td>12.9766</td>\n",
       "      <td>77.5993</td>\n",
       "      <td>560001</td>\n",
       "      <td>Food delivery apps</td>\n",
       "      <td>Web browser</td>\n",
       "      <td>Breakfast</td>\n",
       "      <td>Lunch</td>\n",
       "      <td>Non Veg foods (Lunch / Dinner)</td>\n",
       "      <td>Bakery items (snacks)</td>\n",
       "      <td>Neutral</td>\n",
       "      <td>Neutral</td>\n",
       "      <td>Neutral</td>\n",
       "      <td>Neutral</td>\n",
       "      <td>Neutral</td>\n",
       "      <td>Neutral</td>\n",
       "      <td>Neutral</td>\n",
       "      <td>Neutral</td>\n",
       "      <td>Neutral</td>\n",
       "      <td>Neutral</td>\n",
       "      <td>Neutral</td>\n",
       "      <td>Neutral</td>\n",
       "      <td>Neutral</td>\n",
       "      <td>Neutral</td>\n",
       "      <td>Agree</td>\n",
       "      <td>Agree</td>\n",
       "      <td>Agree</td>\n",
       "      <td>Agree</td>\n",
       "      <td>Agree</td>\n",
       "      <td>Agree</td>\n",
       "      <td>Yes</td>\n",
       "      <td>Weekend (Sat &amp; Sun)</td>\n",
       "      <td>30 minutes</td>\n",
       "      <td>Agree</td>\n",
       "      <td>Neutral</td>\n",
       "      <td>Neutral</td>\n",
       "      <td>Neutral</td>\n",
       "      <td>Neutral</td>\n",
       "      <td>Yes</td>\n",
       "      <td>Moderately Important</td>\n",
       "      <td>Moderately Important</td>\n",
       "      <td>Moderately Important</td>\n",
       "      <td>Moderately Important</td>\n",
       "      <td>Moderately Important</td>\n",
       "      <td>Moderately Important</td>\n",
       "      <td>Moderately Important</td>\n",
       "      <td>Moderately Important</td>\n",
       "      <td>Yes</td>\n",
       "    </tr>\n",
       "    <tr>\n",
       "      <th>1</th>\n",
       "      <td>24</td>\n",
       "      <td>Female</td>\n",
       "      <td>Single</td>\n",
       "      <td>Student</td>\n",
       "      <td>Below Rs.10000</td>\n",
       "      <td>Graduate</td>\n",
       "      <td>3</td>\n",
       "      <td>12.9770</td>\n",
       "      <td>77.5773</td>\n",
       "      <td>560009</td>\n",
       "      <td>Food delivery apps</td>\n",
       "      <td>Web browser</td>\n",
       "      <td>Snacks</td>\n",
       "      <td>Dinner</td>\n",
       "      <td>Non Veg foods (Lunch / Dinner)</td>\n",
       "      <td>Veg foods (Breakfast / Lunch / Dinner)</td>\n",
       "      <td>Strongly agree</td>\n",
       "      <td>Strongly agree</td>\n",
       "      <td>Strongly agree</td>\n",
       "      <td>Strongly agree</td>\n",
       "      <td>Strongly agree</td>\n",
       "      <td>Neutral</td>\n",
       "      <td>Agree</td>\n",
       "      <td>Strongly agree</td>\n",
       "      <td>Strongly agree</td>\n",
       "      <td>Agree</td>\n",
       "      <td>Strongly agree</td>\n",
       "      <td>Strongly agree</td>\n",
       "      <td>Strongly agree</td>\n",
       "      <td>Strongly agree</td>\n",
       "      <td>Strongly agree</td>\n",
       "      <td>Strongly agree</td>\n",
       "      <td>Strongly agree</td>\n",
       "      <td>Strongly agree</td>\n",
       "      <td>Strongly agree</td>\n",
       "      <td>Strongly agree</td>\n",
       "      <td>Yes</td>\n",
       "      <td>Anytime (Mon-Sun)</td>\n",
       "      <td>30 minutes</td>\n",
       "      <td>Strongly Agree</td>\n",
       "      <td>Neutral</td>\n",
       "      <td>Disagree</td>\n",
       "      <td>Strongly disagree</td>\n",
       "      <td>Agree</td>\n",
       "      <td>Yes</td>\n",
       "      <td>Very Important</td>\n",
       "      <td>Very Important</td>\n",
       "      <td>Very Important</td>\n",
       "      <td>Very Important</td>\n",
       "      <td>Very Important</td>\n",
       "      <td>Very Important</td>\n",
       "      <td>Very Important</td>\n",
       "      <td>Very Important</td>\n",
       "      <td>Yes</td>\n",
       "    </tr>\n",
       "    <tr>\n",
       "      <th>2</th>\n",
       "      <td>22</td>\n",
       "      <td>Male</td>\n",
       "      <td>Single</td>\n",
       "      <td>Student</td>\n",
       "      <td>Below Rs.10000</td>\n",
       "      <td>Post Graduate</td>\n",
       "      <td>3</td>\n",
       "      <td>12.9551</td>\n",
       "      <td>77.6593</td>\n",
       "      <td>560017</td>\n",
       "      <td>Food delivery apps</td>\n",
       "      <td>Direct call</td>\n",
       "      <td>Lunch</td>\n",
       "      <td>Snacks</td>\n",
       "      <td>Non Veg foods (Lunch / Dinner)</td>\n",
       "      <td>Ice cream / Cool drinks</td>\n",
       "      <td>Strongly agree</td>\n",
       "      <td>Strongly agree</td>\n",
       "      <td>Strongly agree</td>\n",
       "      <td>Neutral</td>\n",
       "      <td>Neutral</td>\n",
       "      <td>Disagree</td>\n",
       "      <td>Neutral</td>\n",
       "      <td>Disagree</td>\n",
       "      <td>Neutral</td>\n",
       "      <td>Neutral</td>\n",
       "      <td>Agree</td>\n",
       "      <td>Agree</td>\n",
       "      <td>Agree</td>\n",
       "      <td>Agree</td>\n",
       "      <td>Agree</td>\n",
       "      <td>Agree</td>\n",
       "      <td>Agree</td>\n",
       "      <td>Strongly agree</td>\n",
       "      <td>Agree</td>\n",
       "      <td>Neutral</td>\n",
       "      <td>Yes</td>\n",
       "      <td>Anytime (Mon-Sun)</td>\n",
       "      <td>45 minutes</td>\n",
       "      <td>Agree</td>\n",
       "      <td>Strongly Agree</td>\n",
       "      <td>Neutral</td>\n",
       "      <td>Neutral</td>\n",
       "      <td>Agree</td>\n",
       "      <td>Yes</td>\n",
       "      <td>Important</td>\n",
       "      <td>Very Important</td>\n",
       "      <td>Moderately Important</td>\n",
       "      <td>Very Important</td>\n",
       "      <td>Very Important</td>\n",
       "      <td>Important</td>\n",
       "      <td>Very Important</td>\n",
       "      <td>Moderately Important</td>\n",
       "      <td>Yes</td>\n",
       "    </tr>\n",
       "    <tr>\n",
       "      <th>3</th>\n",
       "      <td>22</td>\n",
       "      <td>Female</td>\n",
       "      <td>Single</td>\n",
       "      <td>Student</td>\n",
       "      <td>No Income</td>\n",
       "      <td>Graduate</td>\n",
       "      <td>6</td>\n",
       "      <td>12.9473</td>\n",
       "      <td>77.5616</td>\n",
       "      <td>560019</td>\n",
       "      <td>Food delivery apps</td>\n",
       "      <td>Walk-in</td>\n",
       "      <td>Snacks</td>\n",
       "      <td>Dinner</td>\n",
       "      <td>Veg foods (Breakfast / Lunch / Dinner)</td>\n",
       "      <td>Bakery items (snacks)</td>\n",
       "      <td>Agree</td>\n",
       "      <td>Agree</td>\n",
       "      <td>Strongly agree</td>\n",
       "      <td>Agree</td>\n",
       "      <td>Strongly agree</td>\n",
       "      <td>Agree</td>\n",
       "      <td>Agree</td>\n",
       "      <td>Agree</td>\n",
       "      <td>Strongly agree</td>\n",
       "      <td>Neutral</td>\n",
       "      <td>Agree</td>\n",
       "      <td>Disagree</td>\n",
       "      <td>Disagree</td>\n",
       "      <td>Neutral</td>\n",
       "      <td>Agree</td>\n",
       "      <td>Agree</td>\n",
       "      <td>Agree</td>\n",
       "      <td>Disagree</td>\n",
       "      <td>Disagree</td>\n",
       "      <td>Neutral</td>\n",
       "      <td>Yes</td>\n",
       "      <td>Anytime (Mon-Sun)</td>\n",
       "      <td>30 minutes</td>\n",
       "      <td>Disagree</td>\n",
       "      <td>Agree</td>\n",
       "      <td>Agree</td>\n",
       "      <td>Neutral</td>\n",
       "      <td>Agree</td>\n",
       "      <td>Yes</td>\n",
       "      <td>Very Important</td>\n",
       "      <td>Important</td>\n",
       "      <td>Moderately Important</td>\n",
       "      <td>Very Important</td>\n",
       "      <td>Very Important</td>\n",
       "      <td>Very Important</td>\n",
       "      <td>Very Important</td>\n",
       "      <td>Important</td>\n",
       "      <td>Yes</td>\n",
       "    </tr>\n",
       "    <tr>\n",
       "      <th>4</th>\n",
       "      <td>22</td>\n",
       "      <td>Male</td>\n",
       "      <td>Single</td>\n",
       "      <td>Student</td>\n",
       "      <td>Below Rs.10000</td>\n",
       "      <td>Post Graduate</td>\n",
       "      <td>4</td>\n",
       "      <td>12.9850</td>\n",
       "      <td>77.5533</td>\n",
       "      <td>560010</td>\n",
       "      <td>Walk-in</td>\n",
       "      <td>Direct call</td>\n",
       "      <td>Lunch</td>\n",
       "      <td>Dinner</td>\n",
       "      <td>Non Veg foods (Lunch / Dinner)</td>\n",
       "      <td>Veg foods (Breakfast / Lunch / Dinner)</td>\n",
       "      <td>Agree</td>\n",
       "      <td>Agree</td>\n",
       "      <td>Agree</td>\n",
       "      <td>Agree</td>\n",
       "      <td>Agree</td>\n",
       "      <td>Neutral</td>\n",
       "      <td>Neutral</td>\n",
       "      <td>Agree</td>\n",
       "      <td>Strongly agree</td>\n",
       "      <td>Strongly agree</td>\n",
       "      <td>Agree</td>\n",
       "      <td>Strongly agree</td>\n",
       "      <td>Agree</td>\n",
       "      <td>Disagree</td>\n",
       "      <td>Strongly agree</td>\n",
       "      <td>Strongly agree</td>\n",
       "      <td>Neutral</td>\n",
       "      <td>Neutral</td>\n",
       "      <td>Neutral</td>\n",
       "      <td>Disagree</td>\n",
       "      <td>Yes</td>\n",
       "      <td>Weekend (Sat &amp; Sun)</td>\n",
       "      <td>30 minutes</td>\n",
       "      <td>Agree</td>\n",
       "      <td>Agree</td>\n",
       "      <td>Agree</td>\n",
       "      <td>Agree</td>\n",
       "      <td>Agree</td>\n",
       "      <td>Yes</td>\n",
       "      <td>Important</td>\n",
       "      <td>Important</td>\n",
       "      <td>Moderately Important</td>\n",
       "      <td>Important</td>\n",
       "      <td>Important</td>\n",
       "      <td>Important</td>\n",
       "      <td>Very Important</td>\n",
       "      <td>Very Important</td>\n",
       "      <td>Yes</td>\n",
       "    </tr>\n",
       "    <tr>\n",
       "      <th>...</th>\n",
       "      <td>...</td>\n",
       "      <td>...</td>\n",
       "      <td>...</td>\n",
       "      <td>...</td>\n",
       "      <td>...</td>\n",
       "      <td>...</td>\n",
       "      <td>...</td>\n",
       "      <td>...</td>\n",
       "      <td>...</td>\n",
       "      <td>...</td>\n",
       "      <td>...</td>\n",
       "      <td>...</td>\n",
       "      <td>...</td>\n",
       "      <td>...</td>\n",
       "      <td>...</td>\n",
       "      <td>...</td>\n",
       "      <td>...</td>\n",
       "      <td>...</td>\n",
       "      <td>...</td>\n",
       "      <td>...</td>\n",
       "      <td>...</td>\n",
       "      <td>...</td>\n",
       "      <td>...</td>\n",
       "      <td>...</td>\n",
       "      <td>...</td>\n",
       "      <td>...</td>\n",
       "      <td>...</td>\n",
       "      <td>...</td>\n",
       "      <td>...</td>\n",
       "      <td>...</td>\n",
       "      <td>...</td>\n",
       "      <td>...</td>\n",
       "      <td>...</td>\n",
       "      <td>...</td>\n",
       "      <td>...</td>\n",
       "      <td>...</td>\n",
       "      <td>...</td>\n",
       "      <td>...</td>\n",
       "      <td>...</td>\n",
       "      <td>...</td>\n",
       "      <td>...</td>\n",
       "      <td>...</td>\n",
       "      <td>...</td>\n",
       "      <td>...</td>\n",
       "      <td>...</td>\n",
       "      <td>...</td>\n",
       "      <td>...</td>\n",
       "      <td>...</td>\n",
       "      <td>...</td>\n",
       "      <td>...</td>\n",
       "      <td>...</td>\n",
       "      <td>...</td>\n",
       "      <td>...</td>\n",
       "      <td>...</td>\n",
       "    </tr>\n",
       "    <tr>\n",
       "      <th>281</th>\n",
       "      <td>25</td>\n",
       "      <td>Female</td>\n",
       "      <td>Single</td>\n",
       "      <td>Employee</td>\n",
       "      <td>More than 50000</td>\n",
       "      <td>Post Graduate</td>\n",
       "      <td>6</td>\n",
       "      <td>13.0140</td>\n",
       "      <td>77.5658</td>\n",
       "      <td>560012</td>\n",
       "      <td>Food delivery apps</td>\n",
       "      <td>Direct call</td>\n",
       "      <td>Snacks</td>\n",
       "      <td>Dinner</td>\n",
       "      <td>Non Veg foods (Lunch / Dinner)</td>\n",
       "      <td>Veg foods (Breakfast / Lunch / Dinner)</td>\n",
       "      <td>Strongly disagree</td>\n",
       "      <td>Disagree</td>\n",
       "      <td>Disagree</td>\n",
       "      <td>Disagree</td>\n",
       "      <td>Strongly disagree</td>\n",
       "      <td>Agree</td>\n",
       "      <td>Agree</td>\n",
       "      <td>Agree</td>\n",
       "      <td>Agree</td>\n",
       "      <td>Agree</td>\n",
       "      <td>Neutral</td>\n",
       "      <td>Agree</td>\n",
       "      <td>Agree</td>\n",
       "      <td>Disagree</td>\n",
       "      <td>Disagree</td>\n",
       "      <td>Neutral</td>\n",
       "      <td>Neutral</td>\n",
       "      <td>Agree</td>\n",
       "      <td>Disagree</td>\n",
       "      <td>Disagree</td>\n",
       "      <td>Yes</td>\n",
       "      <td>Weekdays (Mon-Fri)</td>\n",
       "      <td>15 minutes</td>\n",
       "      <td>Disagree</td>\n",
       "      <td>Disagree</td>\n",
       "      <td>Neutral</td>\n",
       "      <td>Agree</td>\n",
       "      <td>Agree</td>\n",
       "      <td>Yes</td>\n",
       "      <td>Important</td>\n",
       "      <td>Important</td>\n",
       "      <td>Very Important</td>\n",
       "      <td>Very Important</td>\n",
       "      <td>Important</td>\n",
       "      <td>Very Important</td>\n",
       "      <td>Very Important</td>\n",
       "      <td>Very Important</td>\n",
       "      <td>No</td>\n",
       "    </tr>\n",
       "    <tr>\n",
       "      <th>282</th>\n",
       "      <td>21</td>\n",
       "      <td>Male</td>\n",
       "      <td>Married</td>\n",
       "      <td>Employee</td>\n",
       "      <td>More than 50000</td>\n",
       "      <td>Ph.D</td>\n",
       "      <td>3</td>\n",
       "      <td>12.9306</td>\n",
       "      <td>77.5434</td>\n",
       "      <td>560085</td>\n",
       "      <td>Food delivery apps</td>\n",
       "      <td>Web browser</td>\n",
       "      <td>Lunch</td>\n",
       "      <td>Snacks</td>\n",
       "      <td>Non Veg foods (Lunch / Dinner)</td>\n",
       "      <td>Veg foods (Breakfast / Lunch / Dinner)</td>\n",
       "      <td>Agree</td>\n",
       "      <td>Neutral</td>\n",
       "      <td>Agree</td>\n",
       "      <td>Agree</td>\n",
       "      <td>Neutral</td>\n",
       "      <td>Agree</td>\n",
       "      <td>Agree</td>\n",
       "      <td>Neutral</td>\n",
       "      <td>Disagree</td>\n",
       "      <td>Disagree</td>\n",
       "      <td>Disagree</td>\n",
       "      <td>Neutral</td>\n",
       "      <td>Disagree</td>\n",
       "      <td>Disagree</td>\n",
       "      <td>Disagree</td>\n",
       "      <td>Disagree</td>\n",
       "      <td>Disagree</td>\n",
       "      <td>Neutral</td>\n",
       "      <td>Disagree</td>\n",
       "      <td>Disagree</td>\n",
       "      <td>No</td>\n",
       "      <td>Anytime (Mon-Sun)</td>\n",
       "      <td>30 minutes</td>\n",
       "      <td>Agree</td>\n",
       "      <td>Neutral</td>\n",
       "      <td>Agree</td>\n",
       "      <td>Neutral</td>\n",
       "      <td>Disagree</td>\n",
       "      <td>Yes</td>\n",
       "      <td>Important</td>\n",
       "      <td>Important</td>\n",
       "      <td>Very Important</td>\n",
       "      <td>Important</td>\n",
       "      <td>Moderately Important</td>\n",
       "      <td>Important</td>\n",
       "      <td>Important</td>\n",
       "      <td>Moderately Important</td>\n",
       "      <td>Yes</td>\n",
       "    </tr>\n",
       "    <tr>\n",
       "      <th>283</th>\n",
       "      <td>22</td>\n",
       "      <td>Male</td>\n",
       "      <td>Married</td>\n",
       "      <td>Self Employeed</td>\n",
       "      <td>10001 to 25000</td>\n",
       "      <td>School</td>\n",
       "      <td>3</td>\n",
       "      <td>12.9820</td>\n",
       "      <td>77.6256</td>\n",
       "      <td>560008</td>\n",
       "      <td>Food delivery apps</td>\n",
       "      <td>Walk-in</td>\n",
       "      <td>Dinner</td>\n",
       "      <td>Dinner</td>\n",
       "      <td>Non Veg foods (Lunch / Dinner)</td>\n",
       "      <td>Veg foods (Breakfast / Lunch / Dinner)</td>\n",
       "      <td>Agree</td>\n",
       "      <td>Agree</td>\n",
       "      <td>Strongly agree</td>\n",
       "      <td>Strongly agree</td>\n",
       "      <td>Neutral</td>\n",
       "      <td>Neutral</td>\n",
       "      <td>Strongly agree</td>\n",
       "      <td>Disagree</td>\n",
       "      <td>Neutral</td>\n",
       "      <td>Neutral</td>\n",
       "      <td>Neutral</td>\n",
       "      <td>Neutral</td>\n",
       "      <td>Neutral</td>\n",
       "      <td>Neutral</td>\n",
       "      <td>Neutral</td>\n",
       "      <td>Neutral</td>\n",
       "      <td>Neutral</td>\n",
       "      <td>Neutral</td>\n",
       "      <td>Neutral</td>\n",
       "      <td>Neutral</td>\n",
       "      <td>Yes</td>\n",
       "      <td>Weekend (Sat &amp; Sun)</td>\n",
       "      <td>45 minutes</td>\n",
       "      <td>Neutral</td>\n",
       "      <td>Neutral</td>\n",
       "      <td>Neutral</td>\n",
       "      <td>Disagree</td>\n",
       "      <td>Neutral</td>\n",
       "      <td>No</td>\n",
       "      <td>Unimportant</td>\n",
       "      <td>Slightly Important</td>\n",
       "      <td>Unimportant</td>\n",
       "      <td>Unimportant</td>\n",
       "      <td>Very Important</td>\n",
       "      <td>Very Important</td>\n",
       "      <td>Very Important</td>\n",
       "      <td>Very Important</td>\n",
       "      <td>Yes</td>\n",
       "    </tr>\n",
       "    <tr>\n",
       "      <th>284</th>\n",
       "      <td>31</td>\n",
       "      <td>Male</td>\n",
       "      <td>Married</td>\n",
       "      <td>Employee</td>\n",
       "      <td>More than 50000</td>\n",
       "      <td>Ph.D</td>\n",
       "      <td>3</td>\n",
       "      <td>12.9306</td>\n",
       "      <td>77.5434</td>\n",
       "      <td>560085</td>\n",
       "      <td>Food delivery apps</td>\n",
       "      <td>Web browser</td>\n",
       "      <td>Lunch</td>\n",
       "      <td>Snacks</td>\n",
       "      <td>Non Veg foods (Lunch / Dinner)</td>\n",
       "      <td>Veg foods (Breakfast / Lunch / Dinner)</td>\n",
       "      <td>Agree</td>\n",
       "      <td>Neutral</td>\n",
       "      <td>Agree</td>\n",
       "      <td>Agree</td>\n",
       "      <td>Neutral</td>\n",
       "      <td>Agree</td>\n",
       "      <td>Agree</td>\n",
       "      <td>Neutral</td>\n",
       "      <td>Disagree</td>\n",
       "      <td>Disagree</td>\n",
       "      <td>Disagree</td>\n",
       "      <td>Neutral</td>\n",
       "      <td>Disagree</td>\n",
       "      <td>Disagree</td>\n",
       "      <td>Disagree</td>\n",
       "      <td>Disagree</td>\n",
       "      <td>Disagree</td>\n",
       "      <td>Neutral</td>\n",
       "      <td>Disagree</td>\n",
       "      <td>Disagree</td>\n",
       "      <td>No</td>\n",
       "      <td>Anytime (Mon-Sun)</td>\n",
       "      <td>30 minutes</td>\n",
       "      <td>Agree</td>\n",
       "      <td>Neutral</td>\n",
       "      <td>Agree</td>\n",
       "      <td>Neutral</td>\n",
       "      <td>Disagree</td>\n",
       "      <td>Yes</td>\n",
       "      <td>Important</td>\n",
       "      <td>Important</td>\n",
       "      <td>Very Important</td>\n",
       "      <td>Important</td>\n",
       "      <td>Moderately Important</td>\n",
       "      <td>Important</td>\n",
       "      <td>Important</td>\n",
       "      <td>Moderately Important</td>\n",
       "      <td>Yes</td>\n",
       "    </tr>\n",
       "    <tr>\n",
       "      <th>285</th>\n",
       "      <td>30</td>\n",
       "      <td>Male</td>\n",
       "      <td>Married</td>\n",
       "      <td>Employee</td>\n",
       "      <td>More than 50000</td>\n",
       "      <td>Post Graduate</td>\n",
       "      <td>6</td>\n",
       "      <td>12.9369</td>\n",
       "      <td>77.6407</td>\n",
       "      <td>560095</td>\n",
       "      <td>Food delivery apps</td>\n",
       "      <td>Walk-in</td>\n",
       "      <td>Lunch</td>\n",
       "      <td>Snacks</td>\n",
       "      <td>Non Veg foods (Lunch / Dinner)</td>\n",
       "      <td>Veg foods (Breakfast / Lunch / Dinner)</td>\n",
       "      <td>Agree</td>\n",
       "      <td>Agree</td>\n",
       "      <td>Disagree</td>\n",
       "      <td>Neutral</td>\n",
       "      <td>Neutral</td>\n",
       "      <td>Agree</td>\n",
       "      <td>Neutral</td>\n",
       "      <td>Agree</td>\n",
       "      <td>Agree</td>\n",
       "      <td>Disagree</td>\n",
       "      <td>Neutral</td>\n",
       "      <td>Disagree</td>\n",
       "      <td>Disagree</td>\n",
       "      <td>Disagree</td>\n",
       "      <td>Agree</td>\n",
       "      <td>Neutral</td>\n",
       "      <td>Agree</td>\n",
       "      <td>Disagree</td>\n",
       "      <td>Disagree</td>\n",
       "      <td>Disagree</td>\n",
       "      <td>Yes</td>\n",
       "      <td>Weekend (Sat &amp; Sun)</td>\n",
       "      <td>45 minutes</td>\n",
       "      <td>Agree</td>\n",
       "      <td>Neutral</td>\n",
       "      <td>Agree</td>\n",
       "      <td>Agree</td>\n",
       "      <td>Strongly Agree</td>\n",
       "      <td>Yes</td>\n",
       "      <td>Important</td>\n",
       "      <td>Important</td>\n",
       "      <td>Very Important</td>\n",
       "      <td>Very Important</td>\n",
       "      <td>Very Important</td>\n",
       "      <td>Very Important</td>\n",
       "      <td>Very Important</td>\n",
       "      <td>Very Important</td>\n",
       "      <td>Yes</td>\n",
       "    </tr>\n",
       "  </tbody>\n",
       "</table>\n",
       "<p>286 rows × 54 columns</p>\n",
       "</div>"
      ],
      "text/plain": [
       "     age  gender marital_status      occupation   monthly_income  \\\n",
       "0     20  Female         Single         Student        No Income   \n",
       "1     24  Female         Single         Student   Below Rs.10000   \n",
       "2     22    Male         Single         Student   Below Rs.10000   \n",
       "3     22  Female         Single         Student        No Income   \n",
       "4     22    Male         Single         Student   Below Rs.10000   \n",
       "..   ...     ...            ...             ...              ...   \n",
       "281   25  Female         Single        Employee  More than 50000   \n",
       "282   21    Male        Married        Employee  More than 50000   \n",
       "283   22    Male        Married  Self Employeed   10001 to 25000   \n",
       "284   31    Male        Married        Employee  More than 50000   \n",
       "285   30    Male        Married        Employee  More than 50000   \n",
       "\n",
       "    educational_qualifications  family_size  latitude  longitude  pin_code  \\\n",
       "0                Post Graduate            4   12.9766    77.5993    560001   \n",
       "1                     Graduate            3   12.9770    77.5773    560009   \n",
       "2                Post Graduate            3   12.9551    77.6593    560017   \n",
       "3                     Graduate            6   12.9473    77.5616    560019   \n",
       "4                Post Graduate            4   12.9850    77.5533    560010   \n",
       "..                         ...          ...       ...        ...       ...   \n",
       "281              Post Graduate            6   13.0140    77.5658    560012   \n",
       "282                       Ph.D            3   12.9306    77.5434    560085   \n",
       "283                     School            3   12.9820    77.6256    560008   \n",
       "284                       Ph.D            3   12.9306    77.5434    560085   \n",
       "285              Post Graduate            6   12.9369    77.6407    560095   \n",
       "\n",
       "            medium_(p1)   medium_(p2)   meal(p1) meal(p2)  \\\n",
       "0    Food delivery apps   Web browser  Breakfast    Lunch   \n",
       "1    Food delivery apps   Web browser     Snacks   Dinner   \n",
       "2    Food delivery apps   Direct call      Lunch   Snacks   \n",
       "3    Food delivery apps       Walk-in     Snacks   Dinner   \n",
       "4               Walk-in   Direct call      Lunch   Dinner   \n",
       "..                  ...           ...        ...      ...   \n",
       "281  Food delivery apps   Direct call     Snacks   Dinner   \n",
       "282  Food delivery apps   Web browser      Lunch   Snacks   \n",
       "283  Food delivery apps       Walk-in     Dinner   Dinner   \n",
       "284  Food delivery apps   Web browser      Lunch   Snacks   \n",
       "285  Food delivery apps       Walk-in      Lunch   Snacks   \n",
       "\n",
       "                             perference(p1)  \\\n",
       "0            Non Veg foods (Lunch / Dinner)   \n",
       "1            Non Veg foods (Lunch / Dinner)   \n",
       "2            Non Veg foods (Lunch / Dinner)   \n",
       "3    Veg foods (Breakfast / Lunch / Dinner)   \n",
       "4            Non Veg foods (Lunch / Dinner)   \n",
       "..                                      ...   \n",
       "281          Non Veg foods (Lunch / Dinner)   \n",
       "282          Non Veg foods (Lunch / Dinner)   \n",
       "283          Non Veg foods (Lunch / Dinner)   \n",
       "284          Non Veg foods (Lunch / Dinner)   \n",
       "285          Non Veg foods (Lunch / Dinner)   \n",
       "\n",
       "                              perference(p2) ease_and_convenient  \\\n",
       "0                      Bakery items (snacks)             Neutral   \n",
       "1     Veg foods (Breakfast / Lunch / Dinner)      Strongly agree   \n",
       "2                    Ice cream / Cool drinks      Strongly agree   \n",
       "3                      Bakery items (snacks)               Agree   \n",
       "4     Veg foods (Breakfast / Lunch / Dinner)               Agree   \n",
       "..                                       ...                 ...   \n",
       "281   Veg foods (Breakfast / Lunch / Dinner)   Strongly disagree   \n",
       "282   Veg foods (Breakfast / Lunch / Dinner)               Agree   \n",
       "283   Veg foods (Breakfast / Lunch / Dinner)               Agree   \n",
       "284   Veg foods (Breakfast / Lunch / Dinner)               Agree   \n",
       "285   Veg foods (Breakfast / Lunch / Dinner)               Agree   \n",
       "\n",
       "        time_saving more_restaurant_choices easy_payment_option  \\\n",
       "0           Neutral                 Neutral             Neutral   \n",
       "1    Strongly agree          Strongly agree      Strongly agree   \n",
       "2    Strongly agree          Strongly agree             Neutral   \n",
       "3             Agree          Strongly agree               Agree   \n",
       "4             Agree                   Agree               Agree   \n",
       "..              ...                     ...                 ...   \n",
       "281        Disagree                Disagree            Disagree   \n",
       "282         Neutral                   Agree               Agree   \n",
       "283           Agree          Strongly agree      Strongly agree   \n",
       "284         Neutral                   Agree               Agree   \n",
       "285           Agree                Disagree             Neutral   \n",
       "\n",
       "    more_offers_and_discount good_food_quality good_tracking_system  \\\n",
       "0                    Neutral           Neutral              Neutral   \n",
       "1             Strongly agree           Neutral                Agree   \n",
       "2                    Neutral          Disagree              Neutral   \n",
       "3             Strongly agree             Agree                Agree   \n",
       "4                      Agree           Neutral              Neutral   \n",
       "..                       ...               ...                  ...   \n",
       "281        Strongly disagree             Agree                Agree   \n",
       "282                  Neutral             Agree                Agree   \n",
       "283                  Neutral           Neutral       Strongly agree   \n",
       "284                  Neutral             Agree                Agree   \n",
       "285                  Neutral             Agree              Neutral   \n",
       "\n",
       "       self_cooking  health_concern   late_delivery    poor_hygiene  \\\n",
       "0           Neutral         Neutral         Neutral         Neutral   \n",
       "1    Strongly agree  Strongly agree           Agree  Strongly agree   \n",
       "2          Disagree         Neutral         Neutral           Agree   \n",
       "3             Agree  Strongly agree         Neutral           Agree   \n",
       "4             Agree  Strongly agree  Strongly agree           Agree   \n",
       "..              ...             ...             ...             ...   \n",
       "281           Agree           Agree           Agree         Neutral   \n",
       "282         Neutral        Disagree        Disagree        Disagree   \n",
       "283        Disagree         Neutral         Neutral         Neutral   \n",
       "284         Neutral        Disagree        Disagree        Disagree   \n",
       "285           Agree           Agree        Disagree         Neutral   \n",
       "\n",
       "    bad_past_experience  unavailability    unaffordable long_delivery_time  \\\n",
       "0               Neutral         Neutral         Neutral              Agree   \n",
       "1        Strongly agree  Strongly agree  Strongly agree     Strongly agree   \n",
       "2                 Agree           Agree           Agree              Agree   \n",
       "3              Disagree        Disagree         Neutral              Agree   \n",
       "4        Strongly agree           Agree        Disagree     Strongly agree   \n",
       "..                  ...             ...             ...                ...   \n",
       "281               Agree           Agree        Disagree           Disagree   \n",
       "282             Neutral        Disagree        Disagree           Disagree   \n",
       "283             Neutral         Neutral         Neutral            Neutral   \n",
       "284             Neutral        Disagree        Disagree           Disagree   \n",
       "285            Disagree        Disagree        Disagree              Agree   \n",
       "\n",
       "    delay_of_delivery_person_getting_assigned  \\\n",
       "0                                       Agree   \n",
       "1                              Strongly agree   \n",
       "2                                       Agree   \n",
       "3                                       Agree   \n",
       "4                              Strongly agree   \n",
       "..                                        ...   \n",
       "281                                   Neutral   \n",
       "282                                  Disagree   \n",
       "283                                   Neutral   \n",
       "284                                  Disagree   \n",
       "285                                   Neutral   \n",
       "\n",
       "    delay_of_delivery_person_picking_up_food wrong_order_delivered  \\\n",
       "0                                      Agree                 Agree   \n",
       "1                             Strongly agree        Strongly agree   \n",
       "2                                      Agree        Strongly agree   \n",
       "3                                      Agree              Disagree   \n",
       "4                                    Neutral               Neutral   \n",
       "..                                       ...                   ...   \n",
       "281                                  Neutral                 Agree   \n",
       "282                                 Disagree               Neutral   \n",
       "283                                  Neutral               Neutral   \n",
       "284                                 Disagree               Neutral   \n",
       "285                                    Agree              Disagree   \n",
       "\n",
       "       missing_item order_placed_by_mistake influence_of_time  \\\n",
       "0             Agree                   Agree               Yes   \n",
       "1    Strongly agree          Strongly agree               Yes   \n",
       "2             Agree                 Neutral               Yes   \n",
       "3          Disagree                 Neutral               Yes   \n",
       "4           Neutral                Disagree               Yes   \n",
       "..              ...                     ...               ...   \n",
       "281        Disagree                Disagree               Yes   \n",
       "282        Disagree                Disagree                No   \n",
       "283         Neutral                 Neutral               Yes   \n",
       "284        Disagree                Disagree                No   \n",
       "285        Disagree                Disagree               Yes   \n",
       "\n",
       "              order_time maximum_wait_time residence_in_busy_location  \\\n",
       "0    Weekend (Sat & Sun)        30 minutes                      Agree   \n",
       "1      Anytime (Mon-Sun)        30 minutes             Strongly Agree   \n",
       "2      Anytime (Mon-Sun)        45 minutes                      Agree   \n",
       "3      Anytime (Mon-Sun)        30 minutes                   Disagree   \n",
       "4    Weekend (Sat & Sun)        30 minutes                      Agree   \n",
       "..                   ...               ...                        ...   \n",
       "281   Weekdays (Mon-Fri)        15 minutes                   Disagree   \n",
       "282    Anytime (Mon-Sun)        30 minutes                      Agree   \n",
       "283  Weekend (Sat & Sun)        45 minutes                    Neutral   \n",
       "284    Anytime (Mon-Sun)        30 minutes                      Agree   \n",
       "285  Weekend (Sat & Sun)        45 minutes                      Agree   \n",
       "\n",
       "    google_maps_accuracy good_road_condition low_quantity_low_time  \\\n",
       "0                Neutral             Neutral               Neutral   \n",
       "1                Neutral            Disagree     Strongly disagree   \n",
       "2         Strongly Agree             Neutral               Neutral   \n",
       "3                  Agree               Agree               Neutral   \n",
       "4                  Agree               Agree                 Agree   \n",
       "..                   ...                 ...                   ...   \n",
       "281             Disagree             Neutral                 Agree   \n",
       "282              Neutral               Agree               Neutral   \n",
       "283              Neutral             Neutral              Disagree   \n",
       "284              Neutral               Agree               Neutral   \n",
       "285              Neutral               Agree                 Agree   \n",
       "\n",
       "    delivery_person_ability influence_of_rating    less_delivery_time  \\\n",
       "0                   Neutral                 Yes  Moderately Important   \n",
       "1                     Agree                 Yes        Very Important   \n",
       "2                     Agree                 Yes             Important   \n",
       "3                     Agree                 Yes        Very Important   \n",
       "4                     Agree                 Yes             Important   \n",
       "..                      ...                 ...                   ...   \n",
       "281                   Agree                 Yes             Important   \n",
       "282                Disagree                 Yes             Important   \n",
       "283                 Neutral                  No           Unimportant   \n",
       "284                Disagree                 Yes             Important   \n",
       "285          Strongly Agree                 Yes             Important   \n",
       "\n",
       "    high_quality_of_package       number_of_calls            politeness  \\\n",
       "0      Moderately Important  Moderately Important  Moderately Important   \n",
       "1            Very Important        Very Important        Very Important   \n",
       "2            Very Important  Moderately Important        Very Important   \n",
       "3                 Important  Moderately Important        Very Important   \n",
       "4                 Important  Moderately Important             Important   \n",
       "..                      ...                   ...                   ...   \n",
       "281               Important        Very Important        Very Important   \n",
       "282               Important        Very Important             Important   \n",
       "283      Slightly Important           Unimportant           Unimportant   \n",
       "284               Important        Very Important             Important   \n",
       "285               Important        Very Important        Very Important   \n",
       "\n",
       "               freshness_           temperature           good_taste_  \\\n",
       "0    Moderately Important  Moderately Important  Moderately Important   \n",
       "1          Very Important        Very Important        Very Important   \n",
       "2          Very Important             Important        Very Important   \n",
       "3          Very Important        Very Important        Very Important   \n",
       "4               Important             Important        Very Important   \n",
       "..                    ...                   ...                   ...   \n",
       "281             Important        Very Important        Very Important   \n",
       "282  Moderately Important             Important             Important   \n",
       "283        Very Important        Very Important        Very Important   \n",
       "284  Moderately Important             Important             Important   \n",
       "285        Very Important        Very Important        Very Important   \n",
       "\n",
       "            good_quantity output  \n",
       "0    Moderately Important    Yes  \n",
       "1          Very Important    Yes  \n",
       "2    Moderately Important    Yes  \n",
       "3               Important    Yes  \n",
       "4          Very Important    Yes  \n",
       "..                    ...    ...  \n",
       "281        Very Important     No  \n",
       "282  Moderately Important    Yes  \n",
       "283        Very Important    Yes  \n",
       "284  Moderately Important    Yes  \n",
       "285        Very Important    Yes  \n",
       "\n",
       "[286 rows x 54 columns]"
      ]
     },
     "execution_count": 13,
     "metadata": {},
     "output_type": "execute_result"
    }
   ],
   "source": [
    "df = pd.read_csv('clean_df.csv')\n",
    "df"
   ]
  },
  {
   "cell_type": "markdown",
   "id": "466de2f8",
   "metadata": {},
   "source": [
    "# Exploration and Analysis"
   ]
  },
  {
   "cell_type": "code",
   "execution_count": 14,
   "id": "5578a78a",
   "metadata": {},
   "outputs": [
    {
     "data": {
      "text/html": [
       "<div>\n",
       "<style scoped>\n",
       "    .dataframe tbody tr th:only-of-type {\n",
       "        vertical-align: middle;\n",
       "    }\n",
       "\n",
       "    .dataframe tbody tr th {\n",
       "        vertical-align: top;\n",
       "    }\n",
       "\n",
       "    .dataframe thead th {\n",
       "        text-align: right;\n",
       "    }\n",
       "</style>\n",
       "<table border=\"1\" class=\"dataframe\">\n",
       "  <thead>\n",
       "    <tr style=\"text-align: right;\">\n",
       "      <th></th>\n",
       "      <th>age</th>\n",
       "      <th>gender</th>\n",
       "      <th>marital_status</th>\n",
       "      <th>occupation</th>\n",
       "      <th>monthly_income</th>\n",
       "      <th>educational_qualifications</th>\n",
       "      <th>family_size</th>\n",
       "      <th>latitude</th>\n",
       "      <th>longitude</th>\n",
       "      <th>pin_code</th>\n",
       "      <th>medium_(p1)</th>\n",
       "      <th>medium_(p2)</th>\n",
       "      <th>meal(p1)</th>\n",
       "      <th>meal(p2)</th>\n",
       "      <th>perference(p1)</th>\n",
       "      <th>perference(p2)</th>\n",
       "      <th>ease_and_convenient</th>\n",
       "      <th>time_saving</th>\n",
       "      <th>more_restaurant_choices</th>\n",
       "      <th>easy_payment_option</th>\n",
       "      <th>more_offers_and_discount</th>\n",
       "      <th>good_food_quality</th>\n",
       "      <th>good_tracking_system</th>\n",
       "      <th>self_cooking</th>\n",
       "      <th>health_concern</th>\n",
       "      <th>late_delivery</th>\n",
       "      <th>poor_hygiene</th>\n",
       "      <th>bad_past_experience</th>\n",
       "      <th>unavailability</th>\n",
       "      <th>unaffordable</th>\n",
       "      <th>long_delivery_time</th>\n",
       "      <th>delay_of_delivery_person_getting_assigned</th>\n",
       "      <th>delay_of_delivery_person_picking_up_food</th>\n",
       "      <th>wrong_order_delivered</th>\n",
       "      <th>missing_item</th>\n",
       "      <th>order_placed_by_mistake</th>\n",
       "      <th>influence_of_time</th>\n",
       "      <th>order_time</th>\n",
       "      <th>maximum_wait_time</th>\n",
       "      <th>residence_in_busy_location</th>\n",
       "      <th>google_maps_accuracy</th>\n",
       "      <th>good_road_condition</th>\n",
       "      <th>low_quantity_low_time</th>\n",
       "      <th>delivery_person_ability</th>\n",
       "      <th>influence_of_rating</th>\n",
       "      <th>less_delivery_time</th>\n",
       "      <th>high_quality_of_package</th>\n",
       "      <th>number_of_calls</th>\n",
       "      <th>politeness</th>\n",
       "      <th>freshness_</th>\n",
       "      <th>temperature</th>\n",
       "      <th>good_taste_</th>\n",
       "      <th>good_quantity</th>\n",
       "      <th>output</th>\n",
       "    </tr>\n",
       "  </thead>\n",
       "  <tbody>\n",
       "    <tr>\n",
       "      <th>0</th>\n",
       "      <td>20</td>\n",
       "      <td>Female</td>\n",
       "      <td>Single</td>\n",
       "      <td>Student</td>\n",
       "      <td>No Income</td>\n",
       "      <td>Post Graduate</td>\n",
       "      <td>4</td>\n",
       "      <td>12.9766</td>\n",
       "      <td>77.5993</td>\n",
       "      <td>560001</td>\n",
       "      <td>Food delivery apps</td>\n",
       "      <td>Web browser</td>\n",
       "      <td>Breakfast</td>\n",
       "      <td>Lunch</td>\n",
       "      <td>Non Veg foods (Lunch / Dinner)</td>\n",
       "      <td>Bakery items (snacks)</td>\n",
       "      <td>Neutral</td>\n",
       "      <td>Neutral</td>\n",
       "      <td>Neutral</td>\n",
       "      <td>Neutral</td>\n",
       "      <td>Neutral</td>\n",
       "      <td>Neutral</td>\n",
       "      <td>Neutral</td>\n",
       "      <td>Neutral</td>\n",
       "      <td>Neutral</td>\n",
       "      <td>Neutral</td>\n",
       "      <td>Neutral</td>\n",
       "      <td>Neutral</td>\n",
       "      <td>Neutral</td>\n",
       "      <td>Neutral</td>\n",
       "      <td>Agree</td>\n",
       "      <td>Agree</td>\n",
       "      <td>Agree</td>\n",
       "      <td>Agree</td>\n",
       "      <td>Agree</td>\n",
       "      <td>Agree</td>\n",
       "      <td>Yes</td>\n",
       "      <td>Weekend (Sat &amp; Sun)</td>\n",
       "      <td>30 minutes</td>\n",
       "      <td>Agree</td>\n",
       "      <td>Neutral</td>\n",
       "      <td>Neutral</td>\n",
       "      <td>Neutral</td>\n",
       "      <td>Neutral</td>\n",
       "      <td>Yes</td>\n",
       "      <td>Moderately Important</td>\n",
       "      <td>Moderately Important</td>\n",
       "      <td>Moderately Important</td>\n",
       "      <td>Moderately Important</td>\n",
       "      <td>Moderately Important</td>\n",
       "      <td>Moderately Important</td>\n",
       "      <td>Moderately Important</td>\n",
       "      <td>Moderately Important</td>\n",
       "      <td>Yes</td>\n",
       "    </tr>\n",
       "    <tr>\n",
       "      <th>1</th>\n",
       "      <td>24</td>\n",
       "      <td>Female</td>\n",
       "      <td>Single</td>\n",
       "      <td>Student</td>\n",
       "      <td>Below Rs.10000</td>\n",
       "      <td>Graduate</td>\n",
       "      <td>3</td>\n",
       "      <td>12.9770</td>\n",
       "      <td>77.5773</td>\n",
       "      <td>560009</td>\n",
       "      <td>Food delivery apps</td>\n",
       "      <td>Web browser</td>\n",
       "      <td>Snacks</td>\n",
       "      <td>Dinner</td>\n",
       "      <td>Non Veg foods (Lunch / Dinner)</td>\n",
       "      <td>Veg foods (Breakfast / Lunch / Dinner)</td>\n",
       "      <td>Strongly agree</td>\n",
       "      <td>Strongly agree</td>\n",
       "      <td>Strongly agree</td>\n",
       "      <td>Strongly agree</td>\n",
       "      <td>Strongly agree</td>\n",
       "      <td>Neutral</td>\n",
       "      <td>Agree</td>\n",
       "      <td>Strongly agree</td>\n",
       "      <td>Strongly agree</td>\n",
       "      <td>Agree</td>\n",
       "      <td>Strongly agree</td>\n",
       "      <td>Strongly agree</td>\n",
       "      <td>Strongly agree</td>\n",
       "      <td>Strongly agree</td>\n",
       "      <td>Strongly agree</td>\n",
       "      <td>Strongly agree</td>\n",
       "      <td>Strongly agree</td>\n",
       "      <td>Strongly agree</td>\n",
       "      <td>Strongly agree</td>\n",
       "      <td>Strongly agree</td>\n",
       "      <td>Yes</td>\n",
       "      <td>Anytime (Mon-Sun)</td>\n",
       "      <td>30 minutes</td>\n",
       "      <td>Strongly Agree</td>\n",
       "      <td>Neutral</td>\n",
       "      <td>Disagree</td>\n",
       "      <td>Strongly disagree</td>\n",
       "      <td>Agree</td>\n",
       "      <td>Yes</td>\n",
       "      <td>Very Important</td>\n",
       "      <td>Very Important</td>\n",
       "      <td>Very Important</td>\n",
       "      <td>Very Important</td>\n",
       "      <td>Very Important</td>\n",
       "      <td>Very Important</td>\n",
       "      <td>Very Important</td>\n",
       "      <td>Very Important</td>\n",
       "      <td>Yes</td>\n",
       "    </tr>\n",
       "    <tr>\n",
       "      <th>2</th>\n",
       "      <td>22</td>\n",
       "      <td>Male</td>\n",
       "      <td>Single</td>\n",
       "      <td>Student</td>\n",
       "      <td>Below Rs.10000</td>\n",
       "      <td>Post Graduate</td>\n",
       "      <td>3</td>\n",
       "      <td>12.9551</td>\n",
       "      <td>77.6593</td>\n",
       "      <td>560017</td>\n",
       "      <td>Food delivery apps</td>\n",
       "      <td>Direct call</td>\n",
       "      <td>Lunch</td>\n",
       "      <td>Snacks</td>\n",
       "      <td>Non Veg foods (Lunch / Dinner)</td>\n",
       "      <td>Ice cream / Cool drinks</td>\n",
       "      <td>Strongly agree</td>\n",
       "      <td>Strongly agree</td>\n",
       "      <td>Strongly agree</td>\n",
       "      <td>Neutral</td>\n",
       "      <td>Neutral</td>\n",
       "      <td>Disagree</td>\n",
       "      <td>Neutral</td>\n",
       "      <td>Disagree</td>\n",
       "      <td>Neutral</td>\n",
       "      <td>Neutral</td>\n",
       "      <td>Agree</td>\n",
       "      <td>Agree</td>\n",
       "      <td>Agree</td>\n",
       "      <td>Agree</td>\n",
       "      <td>Agree</td>\n",
       "      <td>Agree</td>\n",
       "      <td>Agree</td>\n",
       "      <td>Strongly agree</td>\n",
       "      <td>Agree</td>\n",
       "      <td>Neutral</td>\n",
       "      <td>Yes</td>\n",
       "      <td>Anytime (Mon-Sun)</td>\n",
       "      <td>45 minutes</td>\n",
       "      <td>Agree</td>\n",
       "      <td>Strongly Agree</td>\n",
       "      <td>Neutral</td>\n",
       "      <td>Neutral</td>\n",
       "      <td>Agree</td>\n",
       "      <td>Yes</td>\n",
       "      <td>Important</td>\n",
       "      <td>Very Important</td>\n",
       "      <td>Moderately Important</td>\n",
       "      <td>Very Important</td>\n",
       "      <td>Very Important</td>\n",
       "      <td>Important</td>\n",
       "      <td>Very Important</td>\n",
       "      <td>Moderately Important</td>\n",
       "      <td>Yes</td>\n",
       "    </tr>\n",
       "    <tr>\n",
       "      <th>3</th>\n",
       "      <td>22</td>\n",
       "      <td>Female</td>\n",
       "      <td>Single</td>\n",
       "      <td>Student</td>\n",
       "      <td>No Income</td>\n",
       "      <td>Graduate</td>\n",
       "      <td>6</td>\n",
       "      <td>12.9473</td>\n",
       "      <td>77.5616</td>\n",
       "      <td>560019</td>\n",
       "      <td>Food delivery apps</td>\n",
       "      <td>Walk-in</td>\n",
       "      <td>Snacks</td>\n",
       "      <td>Dinner</td>\n",
       "      <td>Veg foods (Breakfast / Lunch / Dinner)</td>\n",
       "      <td>Bakery items (snacks)</td>\n",
       "      <td>Agree</td>\n",
       "      <td>Agree</td>\n",
       "      <td>Strongly agree</td>\n",
       "      <td>Agree</td>\n",
       "      <td>Strongly agree</td>\n",
       "      <td>Agree</td>\n",
       "      <td>Agree</td>\n",
       "      <td>Agree</td>\n",
       "      <td>Strongly agree</td>\n",
       "      <td>Neutral</td>\n",
       "      <td>Agree</td>\n",
       "      <td>Disagree</td>\n",
       "      <td>Disagree</td>\n",
       "      <td>Neutral</td>\n",
       "      <td>Agree</td>\n",
       "      <td>Agree</td>\n",
       "      <td>Agree</td>\n",
       "      <td>Disagree</td>\n",
       "      <td>Disagree</td>\n",
       "      <td>Neutral</td>\n",
       "      <td>Yes</td>\n",
       "      <td>Anytime (Mon-Sun)</td>\n",
       "      <td>30 minutes</td>\n",
       "      <td>Disagree</td>\n",
       "      <td>Agree</td>\n",
       "      <td>Agree</td>\n",
       "      <td>Neutral</td>\n",
       "      <td>Agree</td>\n",
       "      <td>Yes</td>\n",
       "      <td>Very Important</td>\n",
       "      <td>Important</td>\n",
       "      <td>Moderately Important</td>\n",
       "      <td>Very Important</td>\n",
       "      <td>Very Important</td>\n",
       "      <td>Very Important</td>\n",
       "      <td>Very Important</td>\n",
       "      <td>Important</td>\n",
       "      <td>Yes</td>\n",
       "    </tr>\n",
       "    <tr>\n",
       "      <th>4</th>\n",
       "      <td>22</td>\n",
       "      <td>Male</td>\n",
       "      <td>Single</td>\n",
       "      <td>Student</td>\n",
       "      <td>Below Rs.10000</td>\n",
       "      <td>Post Graduate</td>\n",
       "      <td>4</td>\n",
       "      <td>12.9850</td>\n",
       "      <td>77.5533</td>\n",
       "      <td>560010</td>\n",
       "      <td>Walk-in</td>\n",
       "      <td>Direct call</td>\n",
       "      <td>Lunch</td>\n",
       "      <td>Dinner</td>\n",
       "      <td>Non Veg foods (Lunch / Dinner)</td>\n",
       "      <td>Veg foods (Breakfast / Lunch / Dinner)</td>\n",
       "      <td>Agree</td>\n",
       "      <td>Agree</td>\n",
       "      <td>Agree</td>\n",
       "      <td>Agree</td>\n",
       "      <td>Agree</td>\n",
       "      <td>Neutral</td>\n",
       "      <td>Neutral</td>\n",
       "      <td>Agree</td>\n",
       "      <td>Strongly agree</td>\n",
       "      <td>Strongly agree</td>\n",
       "      <td>Agree</td>\n",
       "      <td>Strongly agree</td>\n",
       "      <td>Agree</td>\n",
       "      <td>Disagree</td>\n",
       "      <td>Strongly agree</td>\n",
       "      <td>Strongly agree</td>\n",
       "      <td>Neutral</td>\n",
       "      <td>Neutral</td>\n",
       "      <td>Neutral</td>\n",
       "      <td>Disagree</td>\n",
       "      <td>Yes</td>\n",
       "      <td>Weekend (Sat &amp; Sun)</td>\n",
       "      <td>30 minutes</td>\n",
       "      <td>Agree</td>\n",
       "      <td>Agree</td>\n",
       "      <td>Agree</td>\n",
       "      <td>Agree</td>\n",
       "      <td>Agree</td>\n",
       "      <td>Yes</td>\n",
       "      <td>Important</td>\n",
       "      <td>Important</td>\n",
       "      <td>Moderately Important</td>\n",
       "      <td>Important</td>\n",
       "      <td>Important</td>\n",
       "      <td>Important</td>\n",
       "      <td>Very Important</td>\n",
       "      <td>Very Important</td>\n",
       "      <td>Yes</td>\n",
       "    </tr>\n",
       "    <tr>\n",
       "      <th>...</th>\n",
       "      <td>...</td>\n",
       "      <td>...</td>\n",
       "      <td>...</td>\n",
       "      <td>...</td>\n",
       "      <td>...</td>\n",
       "      <td>...</td>\n",
       "      <td>...</td>\n",
       "      <td>...</td>\n",
       "      <td>...</td>\n",
       "      <td>...</td>\n",
       "      <td>...</td>\n",
       "      <td>...</td>\n",
       "      <td>...</td>\n",
       "      <td>...</td>\n",
       "      <td>...</td>\n",
       "      <td>...</td>\n",
       "      <td>...</td>\n",
       "      <td>...</td>\n",
       "      <td>...</td>\n",
       "      <td>...</td>\n",
       "      <td>...</td>\n",
       "      <td>...</td>\n",
       "      <td>...</td>\n",
       "      <td>...</td>\n",
       "      <td>...</td>\n",
       "      <td>...</td>\n",
       "      <td>...</td>\n",
       "      <td>...</td>\n",
       "      <td>...</td>\n",
       "      <td>...</td>\n",
       "      <td>...</td>\n",
       "      <td>...</td>\n",
       "      <td>...</td>\n",
       "      <td>...</td>\n",
       "      <td>...</td>\n",
       "      <td>...</td>\n",
       "      <td>...</td>\n",
       "      <td>...</td>\n",
       "      <td>...</td>\n",
       "      <td>...</td>\n",
       "      <td>...</td>\n",
       "      <td>...</td>\n",
       "      <td>...</td>\n",
       "      <td>...</td>\n",
       "      <td>...</td>\n",
       "      <td>...</td>\n",
       "      <td>...</td>\n",
       "      <td>...</td>\n",
       "      <td>...</td>\n",
       "      <td>...</td>\n",
       "      <td>...</td>\n",
       "      <td>...</td>\n",
       "      <td>...</td>\n",
       "      <td>...</td>\n",
       "    </tr>\n",
       "    <tr>\n",
       "      <th>279</th>\n",
       "      <td>22</td>\n",
       "      <td>Male</td>\n",
       "      <td>Single</td>\n",
       "      <td>Employee</td>\n",
       "      <td>10001 to 25000</td>\n",
       "      <td>Graduate</td>\n",
       "      <td>1</td>\n",
       "      <td>13.0138</td>\n",
       "      <td>77.5877</td>\n",
       "      <td>560006</td>\n",
       "      <td>Food delivery apps</td>\n",
       "      <td>Direct call</td>\n",
       "      <td>Lunch</td>\n",
       "      <td>Dinner</td>\n",
       "      <td>Veg foods (Breakfast / Lunch / Dinner)</td>\n",
       "      <td>Sweets</td>\n",
       "      <td>Agree</td>\n",
       "      <td>Agree</td>\n",
       "      <td>Strongly agree</td>\n",
       "      <td>Agree</td>\n",
       "      <td>Agree</td>\n",
       "      <td>Strongly agree</td>\n",
       "      <td>Strongly agree</td>\n",
       "      <td>Disagree</td>\n",
       "      <td>Neutral</td>\n",
       "      <td>Agree</td>\n",
       "      <td>Neutral</td>\n",
       "      <td>Disagree</td>\n",
       "      <td>Disagree</td>\n",
       "      <td>Disagree</td>\n",
       "      <td>Agree</td>\n",
       "      <td>Strongly agree</td>\n",
       "      <td>Agree</td>\n",
       "      <td>Strongly disagree</td>\n",
       "      <td>Strongly disagree</td>\n",
       "      <td>Strongly disagree</td>\n",
       "      <td>Yes</td>\n",
       "      <td>Anytime (Mon-Sun)</td>\n",
       "      <td>45 minutes</td>\n",
       "      <td>Disagree</td>\n",
       "      <td>Disagree</td>\n",
       "      <td>Disagree</td>\n",
       "      <td>Disagree</td>\n",
       "      <td>Disagree</td>\n",
       "      <td>No</td>\n",
       "      <td>Slightly Important</td>\n",
       "      <td>Moderately Important</td>\n",
       "      <td>Slightly Important</td>\n",
       "      <td>Unimportant</td>\n",
       "      <td>Unimportant</td>\n",
       "      <td>Unimportant</td>\n",
       "      <td>Slightly Important</td>\n",
       "      <td>Slightly Important</td>\n",
       "      <td>Yes</td>\n",
       "    </tr>\n",
       "    <tr>\n",
       "      <th>282</th>\n",
       "      <td>21</td>\n",
       "      <td>Male</td>\n",
       "      <td>Married</td>\n",
       "      <td>Employee</td>\n",
       "      <td>More than 50000</td>\n",
       "      <td>Ph.D</td>\n",
       "      <td>3</td>\n",
       "      <td>12.9306</td>\n",
       "      <td>77.5434</td>\n",
       "      <td>560085</td>\n",
       "      <td>Food delivery apps</td>\n",
       "      <td>Web browser</td>\n",
       "      <td>Lunch</td>\n",
       "      <td>Snacks</td>\n",
       "      <td>Non Veg foods (Lunch / Dinner)</td>\n",
       "      <td>Veg foods (Breakfast / Lunch / Dinner)</td>\n",
       "      <td>Agree</td>\n",
       "      <td>Neutral</td>\n",
       "      <td>Agree</td>\n",
       "      <td>Agree</td>\n",
       "      <td>Neutral</td>\n",
       "      <td>Agree</td>\n",
       "      <td>Agree</td>\n",
       "      <td>Neutral</td>\n",
       "      <td>Disagree</td>\n",
       "      <td>Disagree</td>\n",
       "      <td>Disagree</td>\n",
       "      <td>Neutral</td>\n",
       "      <td>Disagree</td>\n",
       "      <td>Disagree</td>\n",
       "      <td>Disagree</td>\n",
       "      <td>Disagree</td>\n",
       "      <td>Disagree</td>\n",
       "      <td>Neutral</td>\n",
       "      <td>Disagree</td>\n",
       "      <td>Disagree</td>\n",
       "      <td>No</td>\n",
       "      <td>Anytime (Mon-Sun)</td>\n",
       "      <td>30 minutes</td>\n",
       "      <td>Agree</td>\n",
       "      <td>Neutral</td>\n",
       "      <td>Agree</td>\n",
       "      <td>Neutral</td>\n",
       "      <td>Disagree</td>\n",
       "      <td>Yes</td>\n",
       "      <td>Important</td>\n",
       "      <td>Important</td>\n",
       "      <td>Very Important</td>\n",
       "      <td>Important</td>\n",
       "      <td>Moderately Important</td>\n",
       "      <td>Important</td>\n",
       "      <td>Important</td>\n",
       "      <td>Moderately Important</td>\n",
       "      <td>Yes</td>\n",
       "    </tr>\n",
       "    <tr>\n",
       "      <th>283</th>\n",
       "      <td>22</td>\n",
       "      <td>Male</td>\n",
       "      <td>Married</td>\n",
       "      <td>Self Employeed</td>\n",
       "      <td>10001 to 25000</td>\n",
       "      <td>School</td>\n",
       "      <td>3</td>\n",
       "      <td>12.9820</td>\n",
       "      <td>77.6256</td>\n",
       "      <td>560008</td>\n",
       "      <td>Food delivery apps</td>\n",
       "      <td>Walk-in</td>\n",
       "      <td>Dinner</td>\n",
       "      <td>Dinner</td>\n",
       "      <td>Non Veg foods (Lunch / Dinner)</td>\n",
       "      <td>Veg foods (Breakfast / Lunch / Dinner)</td>\n",
       "      <td>Agree</td>\n",
       "      <td>Agree</td>\n",
       "      <td>Strongly agree</td>\n",
       "      <td>Strongly agree</td>\n",
       "      <td>Neutral</td>\n",
       "      <td>Neutral</td>\n",
       "      <td>Strongly agree</td>\n",
       "      <td>Disagree</td>\n",
       "      <td>Neutral</td>\n",
       "      <td>Neutral</td>\n",
       "      <td>Neutral</td>\n",
       "      <td>Neutral</td>\n",
       "      <td>Neutral</td>\n",
       "      <td>Neutral</td>\n",
       "      <td>Neutral</td>\n",
       "      <td>Neutral</td>\n",
       "      <td>Neutral</td>\n",
       "      <td>Neutral</td>\n",
       "      <td>Neutral</td>\n",
       "      <td>Neutral</td>\n",
       "      <td>Yes</td>\n",
       "      <td>Weekend (Sat &amp; Sun)</td>\n",
       "      <td>45 minutes</td>\n",
       "      <td>Neutral</td>\n",
       "      <td>Neutral</td>\n",
       "      <td>Neutral</td>\n",
       "      <td>Disagree</td>\n",
       "      <td>Neutral</td>\n",
       "      <td>No</td>\n",
       "      <td>Unimportant</td>\n",
       "      <td>Slightly Important</td>\n",
       "      <td>Unimportant</td>\n",
       "      <td>Unimportant</td>\n",
       "      <td>Very Important</td>\n",
       "      <td>Very Important</td>\n",
       "      <td>Very Important</td>\n",
       "      <td>Very Important</td>\n",
       "      <td>Yes</td>\n",
       "    </tr>\n",
       "    <tr>\n",
       "      <th>284</th>\n",
       "      <td>31</td>\n",
       "      <td>Male</td>\n",
       "      <td>Married</td>\n",
       "      <td>Employee</td>\n",
       "      <td>More than 50000</td>\n",
       "      <td>Ph.D</td>\n",
       "      <td>3</td>\n",
       "      <td>12.9306</td>\n",
       "      <td>77.5434</td>\n",
       "      <td>560085</td>\n",
       "      <td>Food delivery apps</td>\n",
       "      <td>Web browser</td>\n",
       "      <td>Lunch</td>\n",
       "      <td>Snacks</td>\n",
       "      <td>Non Veg foods (Lunch / Dinner)</td>\n",
       "      <td>Veg foods (Breakfast / Lunch / Dinner)</td>\n",
       "      <td>Agree</td>\n",
       "      <td>Neutral</td>\n",
       "      <td>Agree</td>\n",
       "      <td>Agree</td>\n",
       "      <td>Neutral</td>\n",
       "      <td>Agree</td>\n",
       "      <td>Agree</td>\n",
       "      <td>Neutral</td>\n",
       "      <td>Disagree</td>\n",
       "      <td>Disagree</td>\n",
       "      <td>Disagree</td>\n",
       "      <td>Neutral</td>\n",
       "      <td>Disagree</td>\n",
       "      <td>Disagree</td>\n",
       "      <td>Disagree</td>\n",
       "      <td>Disagree</td>\n",
       "      <td>Disagree</td>\n",
       "      <td>Neutral</td>\n",
       "      <td>Disagree</td>\n",
       "      <td>Disagree</td>\n",
       "      <td>No</td>\n",
       "      <td>Anytime (Mon-Sun)</td>\n",
       "      <td>30 minutes</td>\n",
       "      <td>Agree</td>\n",
       "      <td>Neutral</td>\n",
       "      <td>Agree</td>\n",
       "      <td>Neutral</td>\n",
       "      <td>Disagree</td>\n",
       "      <td>Yes</td>\n",
       "      <td>Important</td>\n",
       "      <td>Important</td>\n",
       "      <td>Very Important</td>\n",
       "      <td>Important</td>\n",
       "      <td>Moderately Important</td>\n",
       "      <td>Important</td>\n",
       "      <td>Important</td>\n",
       "      <td>Moderately Important</td>\n",
       "      <td>Yes</td>\n",
       "    </tr>\n",
       "    <tr>\n",
       "      <th>285</th>\n",
       "      <td>30</td>\n",
       "      <td>Male</td>\n",
       "      <td>Married</td>\n",
       "      <td>Employee</td>\n",
       "      <td>More than 50000</td>\n",
       "      <td>Post Graduate</td>\n",
       "      <td>6</td>\n",
       "      <td>12.9369</td>\n",
       "      <td>77.6407</td>\n",
       "      <td>560095</td>\n",
       "      <td>Food delivery apps</td>\n",
       "      <td>Walk-in</td>\n",
       "      <td>Lunch</td>\n",
       "      <td>Snacks</td>\n",
       "      <td>Non Veg foods (Lunch / Dinner)</td>\n",
       "      <td>Veg foods (Breakfast / Lunch / Dinner)</td>\n",
       "      <td>Agree</td>\n",
       "      <td>Agree</td>\n",
       "      <td>Disagree</td>\n",
       "      <td>Neutral</td>\n",
       "      <td>Neutral</td>\n",
       "      <td>Agree</td>\n",
       "      <td>Neutral</td>\n",
       "      <td>Agree</td>\n",
       "      <td>Agree</td>\n",
       "      <td>Disagree</td>\n",
       "      <td>Neutral</td>\n",
       "      <td>Disagree</td>\n",
       "      <td>Disagree</td>\n",
       "      <td>Disagree</td>\n",
       "      <td>Agree</td>\n",
       "      <td>Neutral</td>\n",
       "      <td>Agree</td>\n",
       "      <td>Disagree</td>\n",
       "      <td>Disagree</td>\n",
       "      <td>Disagree</td>\n",
       "      <td>Yes</td>\n",
       "      <td>Weekend (Sat &amp; Sun)</td>\n",
       "      <td>45 minutes</td>\n",
       "      <td>Agree</td>\n",
       "      <td>Neutral</td>\n",
       "      <td>Agree</td>\n",
       "      <td>Agree</td>\n",
       "      <td>Strongly Agree</td>\n",
       "      <td>Yes</td>\n",
       "      <td>Important</td>\n",
       "      <td>Important</td>\n",
       "      <td>Very Important</td>\n",
       "      <td>Very Important</td>\n",
       "      <td>Very Important</td>\n",
       "      <td>Very Important</td>\n",
       "      <td>Very Important</td>\n",
       "      <td>Very Important</td>\n",
       "      <td>Yes</td>\n",
       "    </tr>\n",
       "  </tbody>\n",
       "</table>\n",
       "<p>221 rows × 54 columns</p>\n",
       "</div>"
      ],
      "text/plain": [
       "     age  gender marital_status      occupation   monthly_income  \\\n",
       "0     20  Female         Single         Student        No Income   \n",
       "1     24  Female         Single         Student   Below Rs.10000   \n",
       "2     22    Male         Single         Student   Below Rs.10000   \n",
       "3     22  Female         Single         Student        No Income   \n",
       "4     22    Male         Single         Student   Below Rs.10000   \n",
       "..   ...     ...            ...             ...              ...   \n",
       "279   22    Male         Single        Employee   10001 to 25000   \n",
       "282   21    Male        Married        Employee  More than 50000   \n",
       "283   22    Male        Married  Self Employeed   10001 to 25000   \n",
       "284   31    Male        Married        Employee  More than 50000   \n",
       "285   30    Male        Married        Employee  More than 50000   \n",
       "\n",
       "    educational_qualifications  family_size  latitude  longitude  pin_code  \\\n",
       "0                Post Graduate            4   12.9766    77.5993    560001   \n",
       "1                     Graduate            3   12.9770    77.5773    560009   \n",
       "2                Post Graduate            3   12.9551    77.6593    560017   \n",
       "3                     Graduate            6   12.9473    77.5616    560019   \n",
       "4                Post Graduate            4   12.9850    77.5533    560010   \n",
       "..                         ...          ...       ...        ...       ...   \n",
       "279                   Graduate            1   13.0138    77.5877    560006   \n",
       "282                       Ph.D            3   12.9306    77.5434    560085   \n",
       "283                     School            3   12.9820    77.6256    560008   \n",
       "284                       Ph.D            3   12.9306    77.5434    560085   \n",
       "285              Post Graduate            6   12.9369    77.6407    560095   \n",
       "\n",
       "            medium_(p1)   medium_(p2)   meal(p1) meal(p2)  \\\n",
       "0    Food delivery apps   Web browser  Breakfast    Lunch   \n",
       "1    Food delivery apps   Web browser     Snacks   Dinner   \n",
       "2    Food delivery apps   Direct call      Lunch   Snacks   \n",
       "3    Food delivery apps       Walk-in     Snacks   Dinner   \n",
       "4               Walk-in   Direct call      Lunch   Dinner   \n",
       "..                  ...           ...        ...      ...   \n",
       "279  Food delivery apps   Direct call      Lunch   Dinner   \n",
       "282  Food delivery apps   Web browser      Lunch   Snacks   \n",
       "283  Food delivery apps       Walk-in     Dinner   Dinner   \n",
       "284  Food delivery apps   Web browser      Lunch   Snacks   \n",
       "285  Food delivery apps       Walk-in      Lunch   Snacks   \n",
       "\n",
       "                             perference(p1)  \\\n",
       "0            Non Veg foods (Lunch / Dinner)   \n",
       "1            Non Veg foods (Lunch / Dinner)   \n",
       "2            Non Veg foods (Lunch / Dinner)   \n",
       "3    Veg foods (Breakfast / Lunch / Dinner)   \n",
       "4            Non Veg foods (Lunch / Dinner)   \n",
       "..                                      ...   \n",
       "279  Veg foods (Breakfast / Lunch / Dinner)   \n",
       "282          Non Veg foods (Lunch / Dinner)   \n",
       "283          Non Veg foods (Lunch / Dinner)   \n",
       "284          Non Veg foods (Lunch / Dinner)   \n",
       "285          Non Veg foods (Lunch / Dinner)   \n",
       "\n",
       "                              perference(p2) ease_and_convenient  \\\n",
       "0                      Bakery items (snacks)             Neutral   \n",
       "1     Veg foods (Breakfast / Lunch / Dinner)      Strongly agree   \n",
       "2                    Ice cream / Cool drinks      Strongly agree   \n",
       "3                      Bakery items (snacks)               Agree   \n",
       "4     Veg foods (Breakfast / Lunch / Dinner)               Agree   \n",
       "..                                       ...                 ...   \n",
       "279                                   Sweets               Agree   \n",
       "282   Veg foods (Breakfast / Lunch / Dinner)               Agree   \n",
       "283   Veg foods (Breakfast / Lunch / Dinner)               Agree   \n",
       "284   Veg foods (Breakfast / Lunch / Dinner)               Agree   \n",
       "285   Veg foods (Breakfast / Lunch / Dinner)               Agree   \n",
       "\n",
       "        time_saving more_restaurant_choices easy_payment_option  \\\n",
       "0           Neutral                 Neutral             Neutral   \n",
       "1    Strongly agree          Strongly agree      Strongly agree   \n",
       "2    Strongly agree          Strongly agree             Neutral   \n",
       "3             Agree          Strongly agree               Agree   \n",
       "4             Agree                   Agree               Agree   \n",
       "..              ...                     ...                 ...   \n",
       "279           Agree          Strongly agree               Agree   \n",
       "282         Neutral                   Agree               Agree   \n",
       "283           Agree          Strongly agree      Strongly agree   \n",
       "284         Neutral                   Agree               Agree   \n",
       "285           Agree                Disagree             Neutral   \n",
       "\n",
       "    more_offers_and_discount good_food_quality good_tracking_system  \\\n",
       "0                    Neutral           Neutral              Neutral   \n",
       "1             Strongly agree           Neutral                Agree   \n",
       "2                    Neutral          Disagree              Neutral   \n",
       "3             Strongly agree             Agree                Agree   \n",
       "4                      Agree           Neutral              Neutral   \n",
       "..                       ...               ...                  ...   \n",
       "279                    Agree    Strongly agree       Strongly agree   \n",
       "282                  Neutral             Agree                Agree   \n",
       "283                  Neutral           Neutral       Strongly agree   \n",
       "284                  Neutral             Agree                Agree   \n",
       "285                  Neutral             Agree              Neutral   \n",
       "\n",
       "       self_cooking  health_concern   late_delivery    poor_hygiene  \\\n",
       "0           Neutral         Neutral         Neutral         Neutral   \n",
       "1    Strongly agree  Strongly agree           Agree  Strongly agree   \n",
       "2          Disagree         Neutral         Neutral           Agree   \n",
       "3             Agree  Strongly agree         Neutral           Agree   \n",
       "4             Agree  Strongly agree  Strongly agree           Agree   \n",
       "..              ...             ...             ...             ...   \n",
       "279        Disagree         Neutral           Agree         Neutral   \n",
       "282         Neutral        Disagree        Disagree        Disagree   \n",
       "283        Disagree         Neutral         Neutral         Neutral   \n",
       "284         Neutral        Disagree        Disagree        Disagree   \n",
       "285           Agree           Agree        Disagree         Neutral   \n",
       "\n",
       "    bad_past_experience  unavailability    unaffordable long_delivery_time  \\\n",
       "0               Neutral         Neutral         Neutral              Agree   \n",
       "1        Strongly agree  Strongly agree  Strongly agree     Strongly agree   \n",
       "2                 Agree           Agree           Agree              Agree   \n",
       "3              Disagree        Disagree         Neutral              Agree   \n",
       "4        Strongly agree           Agree        Disagree     Strongly agree   \n",
       "..                  ...             ...             ...                ...   \n",
       "279            Disagree        Disagree        Disagree              Agree   \n",
       "282             Neutral        Disagree        Disagree           Disagree   \n",
       "283             Neutral         Neutral         Neutral            Neutral   \n",
       "284             Neutral        Disagree        Disagree           Disagree   \n",
       "285            Disagree        Disagree        Disagree              Agree   \n",
       "\n",
       "    delay_of_delivery_person_getting_assigned  \\\n",
       "0                                       Agree   \n",
       "1                              Strongly agree   \n",
       "2                                       Agree   \n",
       "3                                       Agree   \n",
       "4                              Strongly agree   \n",
       "..                                        ...   \n",
       "279                            Strongly agree   \n",
       "282                                  Disagree   \n",
       "283                                   Neutral   \n",
       "284                                  Disagree   \n",
       "285                                   Neutral   \n",
       "\n",
       "    delay_of_delivery_person_picking_up_food wrong_order_delivered  \\\n",
       "0                                      Agree                 Agree   \n",
       "1                             Strongly agree        Strongly agree   \n",
       "2                                      Agree        Strongly agree   \n",
       "3                                      Agree              Disagree   \n",
       "4                                    Neutral               Neutral   \n",
       "..                                       ...                   ...   \n",
       "279                                    Agree     Strongly disagree   \n",
       "282                                 Disagree               Neutral   \n",
       "283                                  Neutral               Neutral   \n",
       "284                                 Disagree               Neutral   \n",
       "285                                    Agree              Disagree   \n",
       "\n",
       "          missing_item order_placed_by_mistake influence_of_time  \\\n",
       "0                Agree                   Agree               Yes   \n",
       "1       Strongly agree          Strongly agree               Yes   \n",
       "2                Agree                 Neutral               Yes   \n",
       "3             Disagree                 Neutral               Yes   \n",
       "4              Neutral                Disagree               Yes   \n",
       "..                 ...                     ...               ...   \n",
       "279  Strongly disagree       Strongly disagree               Yes   \n",
       "282           Disagree                Disagree                No   \n",
       "283            Neutral                 Neutral               Yes   \n",
       "284           Disagree                Disagree                No   \n",
       "285           Disagree                Disagree               Yes   \n",
       "\n",
       "              order_time maximum_wait_time residence_in_busy_location  \\\n",
       "0    Weekend (Sat & Sun)        30 minutes                      Agree   \n",
       "1      Anytime (Mon-Sun)        30 minutes             Strongly Agree   \n",
       "2      Anytime (Mon-Sun)        45 minutes                      Agree   \n",
       "3      Anytime (Mon-Sun)        30 minutes                   Disagree   \n",
       "4    Weekend (Sat & Sun)        30 minutes                      Agree   \n",
       "..                   ...               ...                        ...   \n",
       "279    Anytime (Mon-Sun)        45 minutes                   Disagree   \n",
       "282    Anytime (Mon-Sun)        30 minutes                      Agree   \n",
       "283  Weekend (Sat & Sun)        45 minutes                    Neutral   \n",
       "284    Anytime (Mon-Sun)        30 minutes                      Agree   \n",
       "285  Weekend (Sat & Sun)        45 minutes                      Agree   \n",
       "\n",
       "    google_maps_accuracy good_road_condition low_quantity_low_time  \\\n",
       "0                Neutral             Neutral               Neutral   \n",
       "1                Neutral            Disagree     Strongly disagree   \n",
       "2         Strongly Agree             Neutral               Neutral   \n",
       "3                  Agree               Agree               Neutral   \n",
       "4                  Agree               Agree                 Agree   \n",
       "..                   ...                 ...                   ...   \n",
       "279             Disagree            Disagree              Disagree   \n",
       "282              Neutral               Agree               Neutral   \n",
       "283              Neutral             Neutral              Disagree   \n",
       "284              Neutral               Agree               Neutral   \n",
       "285              Neutral               Agree                 Agree   \n",
       "\n",
       "    delivery_person_ability influence_of_rating    less_delivery_time  \\\n",
       "0                   Neutral                 Yes  Moderately Important   \n",
       "1                     Agree                 Yes        Very Important   \n",
       "2                     Agree                 Yes             Important   \n",
       "3                     Agree                 Yes        Very Important   \n",
       "4                     Agree                 Yes             Important   \n",
       "..                      ...                 ...                   ...   \n",
       "279                Disagree                  No    Slightly Important   \n",
       "282                Disagree                 Yes             Important   \n",
       "283                 Neutral                  No           Unimportant   \n",
       "284                Disagree                 Yes             Important   \n",
       "285          Strongly Agree                 Yes             Important   \n",
       "\n",
       "    high_quality_of_package       number_of_calls            politeness  \\\n",
       "0      Moderately Important  Moderately Important  Moderately Important   \n",
       "1            Very Important        Very Important        Very Important   \n",
       "2            Very Important  Moderately Important        Very Important   \n",
       "3                 Important  Moderately Important        Very Important   \n",
       "4                 Important  Moderately Important             Important   \n",
       "..                      ...                   ...                   ...   \n",
       "279    Moderately Important    Slightly Important           Unimportant   \n",
       "282               Important        Very Important             Important   \n",
       "283      Slightly Important           Unimportant           Unimportant   \n",
       "284               Important        Very Important             Important   \n",
       "285               Important        Very Important        Very Important   \n",
       "\n",
       "               freshness_           temperature           good_taste_  \\\n",
       "0    Moderately Important  Moderately Important  Moderately Important   \n",
       "1          Very Important        Very Important        Very Important   \n",
       "2          Very Important             Important        Very Important   \n",
       "3          Very Important        Very Important        Very Important   \n",
       "4               Important             Important        Very Important   \n",
       "..                    ...                   ...                   ...   \n",
       "279           Unimportant           Unimportant    Slightly Important   \n",
       "282  Moderately Important             Important             Important   \n",
       "283        Very Important        Very Important        Very Important   \n",
       "284  Moderately Important             Important             Important   \n",
       "285        Very Important        Very Important        Very Important   \n",
       "\n",
       "            good_quantity output  \n",
       "0    Moderately Important    Yes  \n",
       "1          Very Important    Yes  \n",
       "2    Moderately Important    Yes  \n",
       "3               Important    Yes  \n",
       "4          Very Important    Yes  \n",
       "..                    ...    ...  \n",
       "279    Slightly Important    Yes  \n",
       "282  Moderately Important    Yes  \n",
       "283        Very Important    Yes  \n",
       "284  Moderately Important    Yes  \n",
       "285        Very Important    Yes  \n",
       "\n",
       "[221 rows x 54 columns]"
      ]
     },
     "execution_count": 14,
     "metadata": {},
     "output_type": "execute_result"
    }
   ],
   "source": [
    "customer = df[df['output'] == 'Yes']\n",
    "customer"
   ]
  },
  {
   "cell_type": "markdown",
   "id": "37ad617c",
   "metadata": {},
   "source": [
    "Dataframe customer dibuat dengan filter dari df dimana nilai di kolom output nya 'Yes'"
   ]
  },
  {
   "cell_type": "markdown",
   "id": "d3145ec2",
   "metadata": {},
   "source": [
    "## Penjabaran Visualisasi\n",
    "- Kapan saja customer menggunkan jasa untuk memesan makanan?\n",
    "- Dimana lokasi penyebaran customer di Bangalore?\n",
    "- Distribusi umur customer yang akan menggunakan jasa lagi?\n",
    "- Perbandingan gender customer yang akan menggunakan jasa lagi?\n",
    "- Pekerjaan apa saja user yang memesan makanan?"
   ]
  },
  {
   "cell_type": "code",
   "execution_count": 15,
   "id": "8ccf0ad7",
   "metadata": {},
   "outputs": [
    {
     "data": {
      "application/vnd.plotly.v1+json": {
       "config": {
        "plotlyServerURL": "https://plot.ly"
       },
       "data": [
        {
         "hovertemplate": "gender=%{x}<br>output=%{y}<extra></extra>",
         "legendgroup": "",
         "marker": {
          "color": "#636efa",
          "pattern": {
           "shape": ""
          }
         },
         "name": "",
         "orientation": "v",
         "showlegend": false,
         "textposition": "auto",
         "type": "bar",
         "x": [
          "Female",
          "Male"
         ],
         "xaxis": "x",
         "y": {
          "bdata": "XACBAA==",
          "dtype": "i2"
         },
         "yaxis": "y"
        }
       ],
       "layout": {
        "barmode": "relative",
        "legend": {
         "tracegroupgap": 0
        },
        "template": {
         "data": {
          "bar": [
           {
            "error_x": {
             "color": "#2a3f5f"
            },
            "error_y": {
             "color": "#2a3f5f"
            },
            "marker": {
             "line": {
              "color": "#E5ECF6",
              "width": 0.5
             },
             "pattern": {
              "fillmode": "overlay",
              "size": 10,
              "solidity": 0.2
             }
            },
            "type": "bar"
           }
          ],
          "barpolar": [
           {
            "marker": {
             "line": {
              "color": "#E5ECF6",
              "width": 0.5
             },
             "pattern": {
              "fillmode": "overlay",
              "size": 10,
              "solidity": 0.2
             }
            },
            "type": "barpolar"
           }
          ],
          "carpet": [
           {
            "aaxis": {
             "endlinecolor": "#2a3f5f",
             "gridcolor": "white",
             "linecolor": "white",
             "minorgridcolor": "white",
             "startlinecolor": "#2a3f5f"
            },
            "baxis": {
             "endlinecolor": "#2a3f5f",
             "gridcolor": "white",
             "linecolor": "white",
             "minorgridcolor": "white",
             "startlinecolor": "#2a3f5f"
            },
            "type": "carpet"
           }
          ],
          "choropleth": [
           {
            "colorbar": {
             "outlinewidth": 0,
             "ticks": ""
            },
            "type": "choropleth"
           }
          ],
          "contour": [
           {
            "colorbar": {
             "outlinewidth": 0,
             "ticks": ""
            },
            "colorscale": [
             [
              0,
              "#0d0887"
             ],
             [
              0.1111111111111111,
              "#46039f"
             ],
             [
              0.2222222222222222,
              "#7201a8"
             ],
             [
              0.3333333333333333,
              "#9c179e"
             ],
             [
              0.4444444444444444,
              "#bd3786"
             ],
             [
              0.5555555555555556,
              "#d8576b"
             ],
             [
              0.6666666666666666,
              "#ed7953"
             ],
             [
              0.7777777777777778,
              "#fb9f3a"
             ],
             [
              0.8888888888888888,
              "#fdca26"
             ],
             [
              1,
              "#f0f921"
             ]
            ],
            "type": "contour"
           }
          ],
          "contourcarpet": [
           {
            "colorbar": {
             "outlinewidth": 0,
             "ticks": ""
            },
            "type": "contourcarpet"
           }
          ],
          "heatmap": [
           {
            "colorbar": {
             "outlinewidth": 0,
             "ticks": ""
            },
            "colorscale": [
             [
              0,
              "#0d0887"
             ],
             [
              0.1111111111111111,
              "#46039f"
             ],
             [
              0.2222222222222222,
              "#7201a8"
             ],
             [
              0.3333333333333333,
              "#9c179e"
             ],
             [
              0.4444444444444444,
              "#bd3786"
             ],
             [
              0.5555555555555556,
              "#d8576b"
             ],
             [
              0.6666666666666666,
              "#ed7953"
             ],
             [
              0.7777777777777778,
              "#fb9f3a"
             ],
             [
              0.8888888888888888,
              "#fdca26"
             ],
             [
              1,
              "#f0f921"
             ]
            ],
            "type": "heatmap"
           }
          ],
          "histogram": [
           {
            "marker": {
             "pattern": {
              "fillmode": "overlay",
              "size": 10,
              "solidity": 0.2
             }
            },
            "type": "histogram"
           }
          ],
          "histogram2d": [
           {
            "colorbar": {
             "outlinewidth": 0,
             "ticks": ""
            },
            "colorscale": [
             [
              0,
              "#0d0887"
             ],
             [
              0.1111111111111111,
              "#46039f"
             ],
             [
              0.2222222222222222,
              "#7201a8"
             ],
             [
              0.3333333333333333,
              "#9c179e"
             ],
             [
              0.4444444444444444,
              "#bd3786"
             ],
             [
              0.5555555555555556,
              "#d8576b"
             ],
             [
              0.6666666666666666,
              "#ed7953"
             ],
             [
              0.7777777777777778,
              "#fb9f3a"
             ],
             [
              0.8888888888888888,
              "#fdca26"
             ],
             [
              1,
              "#f0f921"
             ]
            ],
            "type": "histogram2d"
           }
          ],
          "histogram2dcontour": [
           {
            "colorbar": {
             "outlinewidth": 0,
             "ticks": ""
            },
            "colorscale": [
             [
              0,
              "#0d0887"
             ],
             [
              0.1111111111111111,
              "#46039f"
             ],
             [
              0.2222222222222222,
              "#7201a8"
             ],
             [
              0.3333333333333333,
              "#9c179e"
             ],
             [
              0.4444444444444444,
              "#bd3786"
             ],
             [
              0.5555555555555556,
              "#d8576b"
             ],
             [
              0.6666666666666666,
              "#ed7953"
             ],
             [
              0.7777777777777778,
              "#fb9f3a"
             ],
             [
              0.8888888888888888,
              "#fdca26"
             ],
             [
              1,
              "#f0f921"
             ]
            ],
            "type": "histogram2dcontour"
           }
          ],
          "mesh3d": [
           {
            "colorbar": {
             "outlinewidth": 0,
             "ticks": ""
            },
            "type": "mesh3d"
           }
          ],
          "parcoords": [
           {
            "line": {
             "colorbar": {
              "outlinewidth": 0,
              "ticks": ""
             }
            },
            "type": "parcoords"
           }
          ],
          "pie": [
           {
            "automargin": true,
            "type": "pie"
           }
          ],
          "scatter": [
           {
            "fillpattern": {
             "fillmode": "overlay",
             "size": 10,
             "solidity": 0.2
            },
            "type": "scatter"
           }
          ],
          "scatter3d": [
           {
            "line": {
             "colorbar": {
              "outlinewidth": 0,
              "ticks": ""
             }
            },
            "marker": {
             "colorbar": {
              "outlinewidth": 0,
              "ticks": ""
             }
            },
            "type": "scatter3d"
           }
          ],
          "scattercarpet": [
           {
            "marker": {
             "colorbar": {
              "outlinewidth": 0,
              "ticks": ""
             }
            },
            "type": "scattercarpet"
           }
          ],
          "scattergeo": [
           {
            "marker": {
             "colorbar": {
              "outlinewidth": 0,
              "ticks": ""
             }
            },
            "type": "scattergeo"
           }
          ],
          "scattergl": [
           {
            "marker": {
             "colorbar": {
              "outlinewidth": 0,
              "ticks": ""
             }
            },
            "type": "scattergl"
           }
          ],
          "scattermap": [
           {
            "marker": {
             "colorbar": {
              "outlinewidth": 0,
              "ticks": ""
             }
            },
            "type": "scattermap"
           }
          ],
          "scattermapbox": [
           {
            "marker": {
             "colorbar": {
              "outlinewidth": 0,
              "ticks": ""
             }
            },
            "type": "scattermapbox"
           }
          ],
          "scatterpolar": [
           {
            "marker": {
             "colorbar": {
              "outlinewidth": 0,
              "ticks": ""
             }
            },
            "type": "scatterpolar"
           }
          ],
          "scatterpolargl": [
           {
            "marker": {
             "colorbar": {
              "outlinewidth": 0,
              "ticks": ""
             }
            },
            "type": "scatterpolargl"
           }
          ],
          "scatterternary": [
           {
            "marker": {
             "colorbar": {
              "outlinewidth": 0,
              "ticks": ""
             }
            },
            "type": "scatterternary"
           }
          ],
          "surface": [
           {
            "colorbar": {
             "outlinewidth": 0,
             "ticks": ""
            },
            "colorscale": [
             [
              0,
              "#0d0887"
             ],
             [
              0.1111111111111111,
              "#46039f"
             ],
             [
              0.2222222222222222,
              "#7201a8"
             ],
             [
              0.3333333333333333,
              "#9c179e"
             ],
             [
              0.4444444444444444,
              "#bd3786"
             ],
             [
              0.5555555555555556,
              "#d8576b"
             ],
             [
              0.6666666666666666,
              "#ed7953"
             ],
             [
              0.7777777777777778,
              "#fb9f3a"
             ],
             [
              0.8888888888888888,
              "#fdca26"
             ],
             [
              1,
              "#f0f921"
             ]
            ],
            "type": "surface"
           }
          ],
          "table": [
           {
            "cells": {
             "fill": {
              "color": "#EBF0F8"
             },
             "line": {
              "color": "white"
             }
            },
            "header": {
             "fill": {
              "color": "#C8D4E3"
             },
             "line": {
              "color": "white"
             }
            },
            "type": "table"
           }
          ]
         },
         "layout": {
          "annotationdefaults": {
           "arrowcolor": "#2a3f5f",
           "arrowhead": 0,
           "arrowwidth": 1
          },
          "autotypenumbers": "strict",
          "coloraxis": {
           "colorbar": {
            "outlinewidth": 0,
            "ticks": ""
           }
          },
          "colorscale": {
           "diverging": [
            [
             0,
             "#8e0152"
            ],
            [
             0.1,
             "#c51b7d"
            ],
            [
             0.2,
             "#de77ae"
            ],
            [
             0.3,
             "#f1b6da"
            ],
            [
             0.4,
             "#fde0ef"
            ],
            [
             0.5,
             "#f7f7f7"
            ],
            [
             0.6,
             "#e6f5d0"
            ],
            [
             0.7,
             "#b8e186"
            ],
            [
             0.8,
             "#7fbc41"
            ],
            [
             0.9,
             "#4d9221"
            ],
            [
             1,
             "#276419"
            ]
           ],
           "sequential": [
            [
             0,
             "#0d0887"
            ],
            [
             0.1111111111111111,
             "#46039f"
            ],
            [
             0.2222222222222222,
             "#7201a8"
            ],
            [
             0.3333333333333333,
             "#9c179e"
            ],
            [
             0.4444444444444444,
             "#bd3786"
            ],
            [
             0.5555555555555556,
             "#d8576b"
            ],
            [
             0.6666666666666666,
             "#ed7953"
            ],
            [
             0.7777777777777778,
             "#fb9f3a"
            ],
            [
             0.8888888888888888,
             "#fdca26"
            ],
            [
             1,
             "#f0f921"
            ]
           ],
           "sequentialminus": [
            [
             0,
             "#0d0887"
            ],
            [
             0.1111111111111111,
             "#46039f"
            ],
            [
             0.2222222222222222,
             "#7201a8"
            ],
            [
             0.3333333333333333,
             "#9c179e"
            ],
            [
             0.4444444444444444,
             "#bd3786"
            ],
            [
             0.5555555555555556,
             "#d8576b"
            ],
            [
             0.6666666666666666,
             "#ed7953"
            ],
            [
             0.7777777777777778,
             "#fb9f3a"
            ],
            [
             0.8888888888888888,
             "#fdca26"
            ],
            [
             1,
             "#f0f921"
            ]
           ]
          },
          "colorway": [
           "#636efa",
           "#EF553B",
           "#00cc96",
           "#ab63fa",
           "#FFA15A",
           "#19d3f3",
           "#FF6692",
           "#B6E880",
           "#FF97FF",
           "#FECB52"
          ],
          "font": {
           "color": "#2a3f5f"
          },
          "geo": {
           "bgcolor": "white",
           "lakecolor": "white",
           "landcolor": "#E5ECF6",
           "showlakes": true,
           "showland": true,
           "subunitcolor": "white"
          },
          "hoverlabel": {
           "align": "left"
          },
          "hovermode": "closest",
          "mapbox": {
           "style": "light"
          },
          "paper_bgcolor": "white",
          "plot_bgcolor": "#E5ECF6",
          "polar": {
           "angularaxis": {
            "gridcolor": "white",
            "linecolor": "white",
            "ticks": ""
           },
           "bgcolor": "#E5ECF6",
           "radialaxis": {
            "gridcolor": "white",
            "linecolor": "white",
            "ticks": ""
           }
          },
          "scene": {
           "xaxis": {
            "backgroundcolor": "#E5ECF6",
            "gridcolor": "white",
            "gridwidth": 2,
            "linecolor": "white",
            "showbackground": true,
            "ticks": "",
            "zerolinecolor": "white"
           },
           "yaxis": {
            "backgroundcolor": "#E5ECF6",
            "gridcolor": "white",
            "gridwidth": 2,
            "linecolor": "white",
            "showbackground": true,
            "ticks": "",
            "zerolinecolor": "white"
           },
           "zaxis": {
            "backgroundcolor": "#E5ECF6",
            "gridcolor": "white",
            "gridwidth": 2,
            "linecolor": "white",
            "showbackground": true,
            "ticks": "",
            "zerolinecolor": "white"
           }
          },
          "shapedefaults": {
           "line": {
            "color": "#2a3f5f"
           }
          },
          "ternary": {
           "aaxis": {
            "gridcolor": "white",
            "linecolor": "white",
            "ticks": ""
           },
           "baxis": {
            "gridcolor": "white",
            "linecolor": "white",
            "ticks": ""
           },
           "bgcolor": "#E5ECF6",
           "caxis": {
            "gridcolor": "white",
            "linecolor": "white",
            "ticks": ""
           }
          },
          "title": {
           "x": 0.05
          },
          "xaxis": {
           "automargin": true,
           "gridcolor": "white",
           "linecolor": "white",
           "ticks": "",
           "title": {
            "standoff": 15
           },
           "zerolinecolor": "white",
           "zerolinewidth": 2
          },
          "yaxis": {
           "automargin": true,
           "gridcolor": "white",
           "linecolor": "white",
           "ticks": "",
           "title": {
            "standoff": 15
           },
           "zerolinecolor": "white",
           "zerolinewidth": 2
          }
         }
        },
        "title": {
         "text": "Banyak nya customer bedasarkan gender"
        },
        "xaxis": {
         "anchor": "y",
         "domain": [
          0,
          1
         ],
         "title": {
          "text": "gender"
         }
        },
        "yaxis": {
         "anchor": "x",
         "domain": [
          0,
          1
         ],
         "title": {
          "text": "output"
         }
        }
       }
      }
     },
     "metadata": {},
     "output_type": "display_data"
    }
   ],
   "source": [
    "gender_vis = customer.groupby('gender')[['output']].count().reset_index()\n",
    "fig = px.bar(gender_vis,x='gender',y='output',title='Banyak nya customer bedasarkan gender')\n",
    "fig.show()"
   ]
  },
  {
   "cell_type": "markdown",
   "id": "8929290a",
   "metadata": {},
   "source": [
    "Bedasarkan bar graph\n",
    "- Pengguna wanita sebanyak 92.\n",
    "- Pengguna laki-laki sebanyak 129.\n",
    "- Pengguna laki-laki lebih banyak dari wanita."
   ]
  },
  {
   "cell_type": "code",
   "execution_count": 16,
   "id": "723f554f",
   "metadata": {},
   "outputs": [
    {
     "data": {
      "application/vnd.plotly.v1+json": {
       "config": {
        "plotlyServerURL": "https://plot.ly"
       },
       "data": [
        {
         "domain": {
          "x": [
           0,
           1
          ],
          "y": [
           0,
           1
          ]
         },
         "hovertemplate": "meal(p1)=%{label}<br>output=%{value}<extra></extra>",
         "labels": [
          "Breakfast",
          "Dinner",
          "Lunch",
          "Snacks"
         ],
         "legendgroup": "",
         "name": "",
         "showlegend": true,
         "type": "pie",
         "values": {
          "bdata": "JixHRA==",
          "dtype": "i1"
         }
        }
       ],
       "layout": {
        "legend": {
         "tracegroupgap": 0
        },
        "template": {
         "data": {
          "bar": [
           {
            "error_x": {
             "color": "#2a3f5f"
            },
            "error_y": {
             "color": "#2a3f5f"
            },
            "marker": {
             "line": {
              "color": "#E5ECF6",
              "width": 0.5
             },
             "pattern": {
              "fillmode": "overlay",
              "size": 10,
              "solidity": 0.2
             }
            },
            "type": "bar"
           }
          ],
          "barpolar": [
           {
            "marker": {
             "line": {
              "color": "#E5ECF6",
              "width": 0.5
             },
             "pattern": {
              "fillmode": "overlay",
              "size": 10,
              "solidity": 0.2
             }
            },
            "type": "barpolar"
           }
          ],
          "carpet": [
           {
            "aaxis": {
             "endlinecolor": "#2a3f5f",
             "gridcolor": "white",
             "linecolor": "white",
             "minorgridcolor": "white",
             "startlinecolor": "#2a3f5f"
            },
            "baxis": {
             "endlinecolor": "#2a3f5f",
             "gridcolor": "white",
             "linecolor": "white",
             "minorgridcolor": "white",
             "startlinecolor": "#2a3f5f"
            },
            "type": "carpet"
           }
          ],
          "choropleth": [
           {
            "colorbar": {
             "outlinewidth": 0,
             "ticks": ""
            },
            "type": "choropleth"
           }
          ],
          "contour": [
           {
            "colorbar": {
             "outlinewidth": 0,
             "ticks": ""
            },
            "colorscale": [
             [
              0,
              "#0d0887"
             ],
             [
              0.1111111111111111,
              "#46039f"
             ],
             [
              0.2222222222222222,
              "#7201a8"
             ],
             [
              0.3333333333333333,
              "#9c179e"
             ],
             [
              0.4444444444444444,
              "#bd3786"
             ],
             [
              0.5555555555555556,
              "#d8576b"
             ],
             [
              0.6666666666666666,
              "#ed7953"
             ],
             [
              0.7777777777777778,
              "#fb9f3a"
             ],
             [
              0.8888888888888888,
              "#fdca26"
             ],
             [
              1,
              "#f0f921"
             ]
            ],
            "type": "contour"
           }
          ],
          "contourcarpet": [
           {
            "colorbar": {
             "outlinewidth": 0,
             "ticks": ""
            },
            "type": "contourcarpet"
           }
          ],
          "heatmap": [
           {
            "colorbar": {
             "outlinewidth": 0,
             "ticks": ""
            },
            "colorscale": [
             [
              0,
              "#0d0887"
             ],
             [
              0.1111111111111111,
              "#46039f"
             ],
             [
              0.2222222222222222,
              "#7201a8"
             ],
             [
              0.3333333333333333,
              "#9c179e"
             ],
             [
              0.4444444444444444,
              "#bd3786"
             ],
             [
              0.5555555555555556,
              "#d8576b"
             ],
             [
              0.6666666666666666,
              "#ed7953"
             ],
             [
              0.7777777777777778,
              "#fb9f3a"
             ],
             [
              0.8888888888888888,
              "#fdca26"
             ],
             [
              1,
              "#f0f921"
             ]
            ],
            "type": "heatmap"
           }
          ],
          "histogram": [
           {
            "marker": {
             "pattern": {
              "fillmode": "overlay",
              "size": 10,
              "solidity": 0.2
             }
            },
            "type": "histogram"
           }
          ],
          "histogram2d": [
           {
            "colorbar": {
             "outlinewidth": 0,
             "ticks": ""
            },
            "colorscale": [
             [
              0,
              "#0d0887"
             ],
             [
              0.1111111111111111,
              "#46039f"
             ],
             [
              0.2222222222222222,
              "#7201a8"
             ],
             [
              0.3333333333333333,
              "#9c179e"
             ],
             [
              0.4444444444444444,
              "#bd3786"
             ],
             [
              0.5555555555555556,
              "#d8576b"
             ],
             [
              0.6666666666666666,
              "#ed7953"
             ],
             [
              0.7777777777777778,
              "#fb9f3a"
             ],
             [
              0.8888888888888888,
              "#fdca26"
             ],
             [
              1,
              "#f0f921"
             ]
            ],
            "type": "histogram2d"
           }
          ],
          "histogram2dcontour": [
           {
            "colorbar": {
             "outlinewidth": 0,
             "ticks": ""
            },
            "colorscale": [
             [
              0,
              "#0d0887"
             ],
             [
              0.1111111111111111,
              "#46039f"
             ],
             [
              0.2222222222222222,
              "#7201a8"
             ],
             [
              0.3333333333333333,
              "#9c179e"
             ],
             [
              0.4444444444444444,
              "#bd3786"
             ],
             [
              0.5555555555555556,
              "#d8576b"
             ],
             [
              0.6666666666666666,
              "#ed7953"
             ],
             [
              0.7777777777777778,
              "#fb9f3a"
             ],
             [
              0.8888888888888888,
              "#fdca26"
             ],
             [
              1,
              "#f0f921"
             ]
            ],
            "type": "histogram2dcontour"
           }
          ],
          "mesh3d": [
           {
            "colorbar": {
             "outlinewidth": 0,
             "ticks": ""
            },
            "type": "mesh3d"
           }
          ],
          "parcoords": [
           {
            "line": {
             "colorbar": {
              "outlinewidth": 0,
              "ticks": ""
             }
            },
            "type": "parcoords"
           }
          ],
          "pie": [
           {
            "automargin": true,
            "type": "pie"
           }
          ],
          "scatter": [
           {
            "fillpattern": {
             "fillmode": "overlay",
             "size": 10,
             "solidity": 0.2
            },
            "type": "scatter"
           }
          ],
          "scatter3d": [
           {
            "line": {
             "colorbar": {
              "outlinewidth": 0,
              "ticks": ""
             }
            },
            "marker": {
             "colorbar": {
              "outlinewidth": 0,
              "ticks": ""
             }
            },
            "type": "scatter3d"
           }
          ],
          "scattercarpet": [
           {
            "marker": {
             "colorbar": {
              "outlinewidth": 0,
              "ticks": ""
             }
            },
            "type": "scattercarpet"
           }
          ],
          "scattergeo": [
           {
            "marker": {
             "colorbar": {
              "outlinewidth": 0,
              "ticks": ""
             }
            },
            "type": "scattergeo"
           }
          ],
          "scattergl": [
           {
            "marker": {
             "colorbar": {
              "outlinewidth": 0,
              "ticks": ""
             }
            },
            "type": "scattergl"
           }
          ],
          "scattermap": [
           {
            "marker": {
             "colorbar": {
              "outlinewidth": 0,
              "ticks": ""
             }
            },
            "type": "scattermap"
           }
          ],
          "scattermapbox": [
           {
            "marker": {
             "colorbar": {
              "outlinewidth": 0,
              "ticks": ""
             }
            },
            "type": "scattermapbox"
           }
          ],
          "scatterpolar": [
           {
            "marker": {
             "colorbar": {
              "outlinewidth": 0,
              "ticks": ""
             }
            },
            "type": "scatterpolar"
           }
          ],
          "scatterpolargl": [
           {
            "marker": {
             "colorbar": {
              "outlinewidth": 0,
              "ticks": ""
             }
            },
            "type": "scatterpolargl"
           }
          ],
          "scatterternary": [
           {
            "marker": {
             "colorbar": {
              "outlinewidth": 0,
              "ticks": ""
             }
            },
            "type": "scatterternary"
           }
          ],
          "surface": [
           {
            "colorbar": {
             "outlinewidth": 0,
             "ticks": ""
            },
            "colorscale": [
             [
              0,
              "#0d0887"
             ],
             [
              0.1111111111111111,
              "#46039f"
             ],
             [
              0.2222222222222222,
              "#7201a8"
             ],
             [
              0.3333333333333333,
              "#9c179e"
             ],
             [
              0.4444444444444444,
              "#bd3786"
             ],
             [
              0.5555555555555556,
              "#d8576b"
             ],
             [
              0.6666666666666666,
              "#ed7953"
             ],
             [
              0.7777777777777778,
              "#fb9f3a"
             ],
             [
              0.8888888888888888,
              "#fdca26"
             ],
             [
              1,
              "#f0f921"
             ]
            ],
            "type": "surface"
           }
          ],
          "table": [
           {
            "cells": {
             "fill": {
              "color": "#EBF0F8"
             },
             "line": {
              "color": "white"
             }
            },
            "header": {
             "fill": {
              "color": "#C8D4E3"
             },
             "line": {
              "color": "white"
             }
            },
            "type": "table"
           }
          ]
         },
         "layout": {
          "annotationdefaults": {
           "arrowcolor": "#2a3f5f",
           "arrowhead": 0,
           "arrowwidth": 1
          },
          "autotypenumbers": "strict",
          "coloraxis": {
           "colorbar": {
            "outlinewidth": 0,
            "ticks": ""
           }
          },
          "colorscale": {
           "diverging": [
            [
             0,
             "#8e0152"
            ],
            [
             0.1,
             "#c51b7d"
            ],
            [
             0.2,
             "#de77ae"
            ],
            [
             0.3,
             "#f1b6da"
            ],
            [
             0.4,
             "#fde0ef"
            ],
            [
             0.5,
             "#f7f7f7"
            ],
            [
             0.6,
             "#e6f5d0"
            ],
            [
             0.7,
             "#b8e186"
            ],
            [
             0.8,
             "#7fbc41"
            ],
            [
             0.9,
             "#4d9221"
            ],
            [
             1,
             "#276419"
            ]
           ],
           "sequential": [
            [
             0,
             "#0d0887"
            ],
            [
             0.1111111111111111,
             "#46039f"
            ],
            [
             0.2222222222222222,
             "#7201a8"
            ],
            [
             0.3333333333333333,
             "#9c179e"
            ],
            [
             0.4444444444444444,
             "#bd3786"
            ],
            [
             0.5555555555555556,
             "#d8576b"
            ],
            [
             0.6666666666666666,
             "#ed7953"
            ],
            [
             0.7777777777777778,
             "#fb9f3a"
            ],
            [
             0.8888888888888888,
             "#fdca26"
            ],
            [
             1,
             "#f0f921"
            ]
           ],
           "sequentialminus": [
            [
             0,
             "#0d0887"
            ],
            [
             0.1111111111111111,
             "#46039f"
            ],
            [
             0.2222222222222222,
             "#7201a8"
            ],
            [
             0.3333333333333333,
             "#9c179e"
            ],
            [
             0.4444444444444444,
             "#bd3786"
            ],
            [
             0.5555555555555556,
             "#d8576b"
            ],
            [
             0.6666666666666666,
             "#ed7953"
            ],
            [
             0.7777777777777778,
             "#fb9f3a"
            ],
            [
             0.8888888888888888,
             "#fdca26"
            ],
            [
             1,
             "#f0f921"
            ]
           ]
          },
          "colorway": [
           "#636efa",
           "#EF553B",
           "#00cc96",
           "#ab63fa",
           "#FFA15A",
           "#19d3f3",
           "#FF6692",
           "#B6E880",
           "#FF97FF",
           "#FECB52"
          ],
          "font": {
           "color": "#2a3f5f"
          },
          "geo": {
           "bgcolor": "white",
           "lakecolor": "white",
           "landcolor": "#E5ECF6",
           "showlakes": true,
           "showland": true,
           "subunitcolor": "white"
          },
          "hoverlabel": {
           "align": "left"
          },
          "hovermode": "closest",
          "mapbox": {
           "style": "light"
          },
          "paper_bgcolor": "white",
          "plot_bgcolor": "#E5ECF6",
          "polar": {
           "angularaxis": {
            "gridcolor": "white",
            "linecolor": "white",
            "ticks": ""
           },
           "bgcolor": "#E5ECF6",
           "radialaxis": {
            "gridcolor": "white",
            "linecolor": "white",
            "ticks": ""
           }
          },
          "scene": {
           "xaxis": {
            "backgroundcolor": "#E5ECF6",
            "gridcolor": "white",
            "gridwidth": 2,
            "linecolor": "white",
            "showbackground": true,
            "ticks": "",
            "zerolinecolor": "white"
           },
           "yaxis": {
            "backgroundcolor": "#E5ECF6",
            "gridcolor": "white",
            "gridwidth": 2,
            "linecolor": "white",
            "showbackground": true,
            "ticks": "",
            "zerolinecolor": "white"
           },
           "zaxis": {
            "backgroundcolor": "#E5ECF6",
            "gridcolor": "white",
            "gridwidth": 2,
            "linecolor": "white",
            "showbackground": true,
            "ticks": "",
            "zerolinecolor": "white"
           }
          },
          "shapedefaults": {
           "line": {
            "color": "#2a3f5f"
           }
          },
          "ternary": {
           "aaxis": {
            "gridcolor": "white",
            "linecolor": "white",
            "ticks": ""
           },
           "baxis": {
            "gridcolor": "white",
            "linecolor": "white",
            "ticks": ""
           },
           "bgcolor": "#E5ECF6",
           "caxis": {
            "gridcolor": "white",
            "linecolor": "white",
            "ticks": ""
           }
          },
          "title": {
           "x": 0.05
          },
          "xaxis": {
           "automargin": true,
           "gridcolor": "white",
           "linecolor": "white",
           "ticks": "",
           "title": {
            "standoff": 15
           },
           "zerolinecolor": "white",
           "zerolinewidth": 2
          },
          "yaxis": {
           "automargin": true,
           "gridcolor": "white",
           "linecolor": "white",
           "ticks": "",
           "title": {
            "standoff": 15
           },
           "zerolinecolor": "white",
           "zerolinewidth": 2
          }
         }
        },
        "title": {
         "text": "Proporsi makanan yang biasa dipesan"
        }
       }
      }
     },
     "metadata": {},
     "output_type": "display_data"
    }
   ],
   "source": [
    "meals_vis = customer.groupby('meal(p1)')[['output']].count().reset_index()\n",
    "fig = px.pie(meals_vis,values='output',names='meal(p1)',title='Proporsi makanan yang biasa dipesan')\n",
    "fig.show()"
   ]
  },
  {
   "cell_type": "markdown",
   "id": "fafb0414",
   "metadata": {},
   "source": [
    "Bedasarkan pie chart:\n",
    "- Proporsi sarapan siang sebanyak 38 atau 17.2%\n",
    "- Proporsi makan siang sebanyak 71 atau 32.1%\n",
    "- Proporsi makan malam sebanyak 44 atau 19.9%\n",
    "- Proporsi snack sebanyak 68 atau 30.8%\n",
    "- Customer lebih sering menggunakan aplikasi di jam makan siang\n",
    "- Customer jarang menggunakan aplikasi saat sarapan\n",
    "- Proporsi customer menggunakan aplikasi untuk snack cukup besar, \n",
    "  lebih banyak dari sarapan dan makan malan dan tidak jauh dari makan siang"
   ]
  },
  {
   "cell_type": "code",
   "execution_count": 17,
   "id": "24f0fc1a",
   "metadata": {},
   "outputs": [
    {
     "data": {
      "application/vnd.plotly.v1+json": {
       "config": {
        "plotlyServerURL": "https://plot.ly"
       },
       "data": [
        {
         "domain": {
          "x": [
           0,
           1
          ],
          "y": [
           0,
           1
          ]
         },
         "hovertemplate": "occupation=%{label}<br>output=%{value}<extra></extra>",
         "labels": [
          "Employee",
          "House wife",
          "Self Employeed",
          "Student"
         ],
         "legendgroup": "",
         "name": "",
         "showlegend": true,
         "type": "pie",
         "values": {
          "bdata": "PAAHABgAggA=",
          "dtype": "i2"
         }
        }
       ],
       "layout": {
        "legend": {
         "tracegroupgap": 0
        },
        "template": {
         "data": {
          "bar": [
           {
            "error_x": {
             "color": "#2a3f5f"
            },
            "error_y": {
             "color": "#2a3f5f"
            },
            "marker": {
             "line": {
              "color": "#E5ECF6",
              "width": 0.5
             },
             "pattern": {
              "fillmode": "overlay",
              "size": 10,
              "solidity": 0.2
             }
            },
            "type": "bar"
           }
          ],
          "barpolar": [
           {
            "marker": {
             "line": {
              "color": "#E5ECF6",
              "width": 0.5
             },
             "pattern": {
              "fillmode": "overlay",
              "size": 10,
              "solidity": 0.2
             }
            },
            "type": "barpolar"
           }
          ],
          "carpet": [
           {
            "aaxis": {
             "endlinecolor": "#2a3f5f",
             "gridcolor": "white",
             "linecolor": "white",
             "minorgridcolor": "white",
             "startlinecolor": "#2a3f5f"
            },
            "baxis": {
             "endlinecolor": "#2a3f5f",
             "gridcolor": "white",
             "linecolor": "white",
             "minorgridcolor": "white",
             "startlinecolor": "#2a3f5f"
            },
            "type": "carpet"
           }
          ],
          "choropleth": [
           {
            "colorbar": {
             "outlinewidth": 0,
             "ticks": ""
            },
            "type": "choropleth"
           }
          ],
          "contour": [
           {
            "colorbar": {
             "outlinewidth": 0,
             "ticks": ""
            },
            "colorscale": [
             [
              0,
              "#0d0887"
             ],
             [
              0.1111111111111111,
              "#46039f"
             ],
             [
              0.2222222222222222,
              "#7201a8"
             ],
             [
              0.3333333333333333,
              "#9c179e"
             ],
             [
              0.4444444444444444,
              "#bd3786"
             ],
             [
              0.5555555555555556,
              "#d8576b"
             ],
             [
              0.6666666666666666,
              "#ed7953"
             ],
             [
              0.7777777777777778,
              "#fb9f3a"
             ],
             [
              0.8888888888888888,
              "#fdca26"
             ],
             [
              1,
              "#f0f921"
             ]
            ],
            "type": "contour"
           }
          ],
          "contourcarpet": [
           {
            "colorbar": {
             "outlinewidth": 0,
             "ticks": ""
            },
            "type": "contourcarpet"
           }
          ],
          "heatmap": [
           {
            "colorbar": {
             "outlinewidth": 0,
             "ticks": ""
            },
            "colorscale": [
             [
              0,
              "#0d0887"
             ],
             [
              0.1111111111111111,
              "#46039f"
             ],
             [
              0.2222222222222222,
              "#7201a8"
             ],
             [
              0.3333333333333333,
              "#9c179e"
             ],
             [
              0.4444444444444444,
              "#bd3786"
             ],
             [
              0.5555555555555556,
              "#d8576b"
             ],
             [
              0.6666666666666666,
              "#ed7953"
             ],
             [
              0.7777777777777778,
              "#fb9f3a"
             ],
             [
              0.8888888888888888,
              "#fdca26"
             ],
             [
              1,
              "#f0f921"
             ]
            ],
            "type": "heatmap"
           }
          ],
          "histogram": [
           {
            "marker": {
             "pattern": {
              "fillmode": "overlay",
              "size": 10,
              "solidity": 0.2
             }
            },
            "type": "histogram"
           }
          ],
          "histogram2d": [
           {
            "colorbar": {
             "outlinewidth": 0,
             "ticks": ""
            },
            "colorscale": [
             [
              0,
              "#0d0887"
             ],
             [
              0.1111111111111111,
              "#46039f"
             ],
             [
              0.2222222222222222,
              "#7201a8"
             ],
             [
              0.3333333333333333,
              "#9c179e"
             ],
             [
              0.4444444444444444,
              "#bd3786"
             ],
             [
              0.5555555555555556,
              "#d8576b"
             ],
             [
              0.6666666666666666,
              "#ed7953"
             ],
             [
              0.7777777777777778,
              "#fb9f3a"
             ],
             [
              0.8888888888888888,
              "#fdca26"
             ],
             [
              1,
              "#f0f921"
             ]
            ],
            "type": "histogram2d"
           }
          ],
          "histogram2dcontour": [
           {
            "colorbar": {
             "outlinewidth": 0,
             "ticks": ""
            },
            "colorscale": [
             [
              0,
              "#0d0887"
             ],
             [
              0.1111111111111111,
              "#46039f"
             ],
             [
              0.2222222222222222,
              "#7201a8"
             ],
             [
              0.3333333333333333,
              "#9c179e"
             ],
             [
              0.4444444444444444,
              "#bd3786"
             ],
             [
              0.5555555555555556,
              "#d8576b"
             ],
             [
              0.6666666666666666,
              "#ed7953"
             ],
             [
              0.7777777777777778,
              "#fb9f3a"
             ],
             [
              0.8888888888888888,
              "#fdca26"
             ],
             [
              1,
              "#f0f921"
             ]
            ],
            "type": "histogram2dcontour"
           }
          ],
          "mesh3d": [
           {
            "colorbar": {
             "outlinewidth": 0,
             "ticks": ""
            },
            "type": "mesh3d"
           }
          ],
          "parcoords": [
           {
            "line": {
             "colorbar": {
              "outlinewidth": 0,
              "ticks": ""
             }
            },
            "type": "parcoords"
           }
          ],
          "pie": [
           {
            "automargin": true,
            "type": "pie"
           }
          ],
          "scatter": [
           {
            "fillpattern": {
             "fillmode": "overlay",
             "size": 10,
             "solidity": 0.2
            },
            "type": "scatter"
           }
          ],
          "scatter3d": [
           {
            "line": {
             "colorbar": {
              "outlinewidth": 0,
              "ticks": ""
             }
            },
            "marker": {
             "colorbar": {
              "outlinewidth": 0,
              "ticks": ""
             }
            },
            "type": "scatter3d"
           }
          ],
          "scattercarpet": [
           {
            "marker": {
             "colorbar": {
              "outlinewidth": 0,
              "ticks": ""
             }
            },
            "type": "scattercarpet"
           }
          ],
          "scattergeo": [
           {
            "marker": {
             "colorbar": {
              "outlinewidth": 0,
              "ticks": ""
             }
            },
            "type": "scattergeo"
           }
          ],
          "scattergl": [
           {
            "marker": {
             "colorbar": {
              "outlinewidth": 0,
              "ticks": ""
             }
            },
            "type": "scattergl"
           }
          ],
          "scattermap": [
           {
            "marker": {
             "colorbar": {
              "outlinewidth": 0,
              "ticks": ""
             }
            },
            "type": "scattermap"
           }
          ],
          "scattermapbox": [
           {
            "marker": {
             "colorbar": {
              "outlinewidth": 0,
              "ticks": ""
             }
            },
            "type": "scattermapbox"
           }
          ],
          "scatterpolar": [
           {
            "marker": {
             "colorbar": {
              "outlinewidth": 0,
              "ticks": ""
             }
            },
            "type": "scatterpolar"
           }
          ],
          "scatterpolargl": [
           {
            "marker": {
             "colorbar": {
              "outlinewidth": 0,
              "ticks": ""
             }
            },
            "type": "scatterpolargl"
           }
          ],
          "scatterternary": [
           {
            "marker": {
             "colorbar": {
              "outlinewidth": 0,
              "ticks": ""
             }
            },
            "type": "scatterternary"
           }
          ],
          "surface": [
           {
            "colorbar": {
             "outlinewidth": 0,
             "ticks": ""
            },
            "colorscale": [
             [
              0,
              "#0d0887"
             ],
             [
              0.1111111111111111,
              "#46039f"
             ],
             [
              0.2222222222222222,
              "#7201a8"
             ],
             [
              0.3333333333333333,
              "#9c179e"
             ],
             [
              0.4444444444444444,
              "#bd3786"
             ],
             [
              0.5555555555555556,
              "#d8576b"
             ],
             [
              0.6666666666666666,
              "#ed7953"
             ],
             [
              0.7777777777777778,
              "#fb9f3a"
             ],
             [
              0.8888888888888888,
              "#fdca26"
             ],
             [
              1,
              "#f0f921"
             ]
            ],
            "type": "surface"
           }
          ],
          "table": [
           {
            "cells": {
             "fill": {
              "color": "#EBF0F8"
             },
             "line": {
              "color": "white"
             }
            },
            "header": {
             "fill": {
              "color": "#C8D4E3"
             },
             "line": {
              "color": "white"
             }
            },
            "type": "table"
           }
          ]
         },
         "layout": {
          "annotationdefaults": {
           "arrowcolor": "#2a3f5f",
           "arrowhead": 0,
           "arrowwidth": 1
          },
          "autotypenumbers": "strict",
          "coloraxis": {
           "colorbar": {
            "outlinewidth": 0,
            "ticks": ""
           }
          },
          "colorscale": {
           "diverging": [
            [
             0,
             "#8e0152"
            ],
            [
             0.1,
             "#c51b7d"
            ],
            [
             0.2,
             "#de77ae"
            ],
            [
             0.3,
             "#f1b6da"
            ],
            [
             0.4,
             "#fde0ef"
            ],
            [
             0.5,
             "#f7f7f7"
            ],
            [
             0.6,
             "#e6f5d0"
            ],
            [
             0.7,
             "#b8e186"
            ],
            [
             0.8,
             "#7fbc41"
            ],
            [
             0.9,
             "#4d9221"
            ],
            [
             1,
             "#276419"
            ]
           ],
           "sequential": [
            [
             0,
             "#0d0887"
            ],
            [
             0.1111111111111111,
             "#46039f"
            ],
            [
             0.2222222222222222,
             "#7201a8"
            ],
            [
             0.3333333333333333,
             "#9c179e"
            ],
            [
             0.4444444444444444,
             "#bd3786"
            ],
            [
             0.5555555555555556,
             "#d8576b"
            ],
            [
             0.6666666666666666,
             "#ed7953"
            ],
            [
             0.7777777777777778,
             "#fb9f3a"
            ],
            [
             0.8888888888888888,
             "#fdca26"
            ],
            [
             1,
             "#f0f921"
            ]
           ],
           "sequentialminus": [
            [
             0,
             "#0d0887"
            ],
            [
             0.1111111111111111,
             "#46039f"
            ],
            [
             0.2222222222222222,
             "#7201a8"
            ],
            [
             0.3333333333333333,
             "#9c179e"
            ],
            [
             0.4444444444444444,
             "#bd3786"
            ],
            [
             0.5555555555555556,
             "#d8576b"
            ],
            [
             0.6666666666666666,
             "#ed7953"
            ],
            [
             0.7777777777777778,
             "#fb9f3a"
            ],
            [
             0.8888888888888888,
             "#fdca26"
            ],
            [
             1,
             "#f0f921"
            ]
           ]
          },
          "colorway": [
           "#636efa",
           "#EF553B",
           "#00cc96",
           "#ab63fa",
           "#FFA15A",
           "#19d3f3",
           "#FF6692",
           "#B6E880",
           "#FF97FF",
           "#FECB52"
          ],
          "font": {
           "color": "#2a3f5f"
          },
          "geo": {
           "bgcolor": "white",
           "lakecolor": "white",
           "landcolor": "#E5ECF6",
           "showlakes": true,
           "showland": true,
           "subunitcolor": "white"
          },
          "hoverlabel": {
           "align": "left"
          },
          "hovermode": "closest",
          "mapbox": {
           "style": "light"
          },
          "paper_bgcolor": "white",
          "plot_bgcolor": "#E5ECF6",
          "polar": {
           "angularaxis": {
            "gridcolor": "white",
            "linecolor": "white",
            "ticks": ""
           },
           "bgcolor": "#E5ECF6",
           "radialaxis": {
            "gridcolor": "white",
            "linecolor": "white",
            "ticks": ""
           }
          },
          "scene": {
           "xaxis": {
            "backgroundcolor": "#E5ECF6",
            "gridcolor": "white",
            "gridwidth": 2,
            "linecolor": "white",
            "showbackground": true,
            "ticks": "",
            "zerolinecolor": "white"
           },
           "yaxis": {
            "backgroundcolor": "#E5ECF6",
            "gridcolor": "white",
            "gridwidth": 2,
            "linecolor": "white",
            "showbackground": true,
            "ticks": "",
            "zerolinecolor": "white"
           },
           "zaxis": {
            "backgroundcolor": "#E5ECF6",
            "gridcolor": "white",
            "gridwidth": 2,
            "linecolor": "white",
            "showbackground": true,
            "ticks": "",
            "zerolinecolor": "white"
           }
          },
          "shapedefaults": {
           "line": {
            "color": "#2a3f5f"
           }
          },
          "ternary": {
           "aaxis": {
            "gridcolor": "white",
            "linecolor": "white",
            "ticks": ""
           },
           "baxis": {
            "gridcolor": "white",
            "linecolor": "white",
            "ticks": ""
           },
           "bgcolor": "#E5ECF6",
           "caxis": {
            "gridcolor": "white",
            "linecolor": "white",
            "ticks": ""
           }
          },
          "title": {
           "x": 0.05
          },
          "xaxis": {
           "automargin": true,
           "gridcolor": "white",
           "linecolor": "white",
           "ticks": "",
           "title": {
            "standoff": 15
           },
           "zerolinecolor": "white",
           "zerolinewidth": 2
          },
          "yaxis": {
           "automargin": true,
           "gridcolor": "white",
           "linecolor": "white",
           "ticks": "",
           "title": {
            "standoff": 15
           },
           "zerolinecolor": "white",
           "zerolinewidth": 2
          }
         }
        },
        "title": {
         "text": "Proporsi pekerjaan customer"
        }
       }
      }
     },
     "metadata": {},
     "output_type": "display_data"
    }
   ],
   "source": [
    "occupation_vis = customer.groupby('occupation')[['output']].count().reset_index()\n",
    "fig = px.pie(occupation_vis,values='output',names='occupation',title='Proporsi pekerjaan customer')\n",
    "fig.show()"
   ]
  },
  {
   "cell_type": "markdown",
   "id": "57f98fcb",
   "metadata": {},
   "source": [
    "Bedasarkan piechart ini:\n",
    "- Pengguna terbanyak aplikasi adalah mahasiswa.\n",
    "- Pengguna kedua terbanyak aplikasi adalah karyawan.\n",
    "- Pengguna terkecil aplikasi adalah ibu rumah tangga."
   ]
  },
  {
   "cell_type": "code",
   "execution_count": 18,
   "id": "cc12a29d",
   "metadata": {},
   "outputs": [
    {
     "data": {
      "application/vnd.plotly.v1+json": {
       "config": {
        "plotlyServerURL": "https://plot.ly"
       },
       "data": [
        {
         "bingroup": "x",
         "hovertemplate": "age=%{x}<br>count=%{y}<extra></extra>",
         "legendgroup": "",
         "marker": {
          "color": "#636efa",
          "pattern": {
           "shape": ""
          }
         },
         "name": "",
         "orientation": "v",
         "showlegend": false,
         "type": "histogram",
         "x": {
          "bdata": "FBgWFhYbFhgXFxYXFxUXGBwXGRUYFhYXFRkWFhcWFhYZFhYZIBcXHhcXFhYbGBcXFxgZFhwWGB8ZFxYXFxcZGBcYFhkXGhgaFhgYFxcWFxgZFhgXFxYYGhkSFRkXHyAZGhogGxcZHBcTGRoWFhkeGRcYIBYUFRgZIBQVGRoaGBkWGhsZGBcaFxYgHBYZHxgfGhgWExkXFxgWGhkUFxkZFxggHB8bFSAZHBUYIB0VGhkWGBsgFhwXFRkXHRUUFhsXHhgZGBkWGhcZGBYYFhcTFRcYGhkZFBgYFhUWHx4=",
          "dtype": "i1"
         },
         "xaxis": "x",
         "yaxis": "y"
        }
       ],
       "layout": {
        "barmode": "relative",
        "legend": {
         "tracegroupgap": 0
        },
        "template": {
         "data": {
          "bar": [
           {
            "error_x": {
             "color": "#2a3f5f"
            },
            "error_y": {
             "color": "#2a3f5f"
            },
            "marker": {
             "line": {
              "color": "#E5ECF6",
              "width": 0.5
             },
             "pattern": {
              "fillmode": "overlay",
              "size": 10,
              "solidity": 0.2
             }
            },
            "type": "bar"
           }
          ],
          "barpolar": [
           {
            "marker": {
             "line": {
              "color": "#E5ECF6",
              "width": 0.5
             },
             "pattern": {
              "fillmode": "overlay",
              "size": 10,
              "solidity": 0.2
             }
            },
            "type": "barpolar"
           }
          ],
          "carpet": [
           {
            "aaxis": {
             "endlinecolor": "#2a3f5f",
             "gridcolor": "white",
             "linecolor": "white",
             "minorgridcolor": "white",
             "startlinecolor": "#2a3f5f"
            },
            "baxis": {
             "endlinecolor": "#2a3f5f",
             "gridcolor": "white",
             "linecolor": "white",
             "minorgridcolor": "white",
             "startlinecolor": "#2a3f5f"
            },
            "type": "carpet"
           }
          ],
          "choropleth": [
           {
            "colorbar": {
             "outlinewidth": 0,
             "ticks": ""
            },
            "type": "choropleth"
           }
          ],
          "contour": [
           {
            "colorbar": {
             "outlinewidth": 0,
             "ticks": ""
            },
            "colorscale": [
             [
              0,
              "#0d0887"
             ],
             [
              0.1111111111111111,
              "#46039f"
             ],
             [
              0.2222222222222222,
              "#7201a8"
             ],
             [
              0.3333333333333333,
              "#9c179e"
             ],
             [
              0.4444444444444444,
              "#bd3786"
             ],
             [
              0.5555555555555556,
              "#d8576b"
             ],
             [
              0.6666666666666666,
              "#ed7953"
             ],
             [
              0.7777777777777778,
              "#fb9f3a"
             ],
             [
              0.8888888888888888,
              "#fdca26"
             ],
             [
              1,
              "#f0f921"
             ]
            ],
            "type": "contour"
           }
          ],
          "contourcarpet": [
           {
            "colorbar": {
             "outlinewidth": 0,
             "ticks": ""
            },
            "type": "contourcarpet"
           }
          ],
          "heatmap": [
           {
            "colorbar": {
             "outlinewidth": 0,
             "ticks": ""
            },
            "colorscale": [
             [
              0,
              "#0d0887"
             ],
             [
              0.1111111111111111,
              "#46039f"
             ],
             [
              0.2222222222222222,
              "#7201a8"
             ],
             [
              0.3333333333333333,
              "#9c179e"
             ],
             [
              0.4444444444444444,
              "#bd3786"
             ],
             [
              0.5555555555555556,
              "#d8576b"
             ],
             [
              0.6666666666666666,
              "#ed7953"
             ],
             [
              0.7777777777777778,
              "#fb9f3a"
             ],
             [
              0.8888888888888888,
              "#fdca26"
             ],
             [
              1,
              "#f0f921"
             ]
            ],
            "type": "heatmap"
           }
          ],
          "histogram": [
           {
            "marker": {
             "pattern": {
              "fillmode": "overlay",
              "size": 10,
              "solidity": 0.2
             }
            },
            "type": "histogram"
           }
          ],
          "histogram2d": [
           {
            "colorbar": {
             "outlinewidth": 0,
             "ticks": ""
            },
            "colorscale": [
             [
              0,
              "#0d0887"
             ],
             [
              0.1111111111111111,
              "#46039f"
             ],
             [
              0.2222222222222222,
              "#7201a8"
             ],
             [
              0.3333333333333333,
              "#9c179e"
             ],
             [
              0.4444444444444444,
              "#bd3786"
             ],
             [
              0.5555555555555556,
              "#d8576b"
             ],
             [
              0.6666666666666666,
              "#ed7953"
             ],
             [
              0.7777777777777778,
              "#fb9f3a"
             ],
             [
              0.8888888888888888,
              "#fdca26"
             ],
             [
              1,
              "#f0f921"
             ]
            ],
            "type": "histogram2d"
           }
          ],
          "histogram2dcontour": [
           {
            "colorbar": {
             "outlinewidth": 0,
             "ticks": ""
            },
            "colorscale": [
             [
              0,
              "#0d0887"
             ],
             [
              0.1111111111111111,
              "#46039f"
             ],
             [
              0.2222222222222222,
              "#7201a8"
             ],
             [
              0.3333333333333333,
              "#9c179e"
             ],
             [
              0.4444444444444444,
              "#bd3786"
             ],
             [
              0.5555555555555556,
              "#d8576b"
             ],
             [
              0.6666666666666666,
              "#ed7953"
             ],
             [
              0.7777777777777778,
              "#fb9f3a"
             ],
             [
              0.8888888888888888,
              "#fdca26"
             ],
             [
              1,
              "#f0f921"
             ]
            ],
            "type": "histogram2dcontour"
           }
          ],
          "mesh3d": [
           {
            "colorbar": {
             "outlinewidth": 0,
             "ticks": ""
            },
            "type": "mesh3d"
           }
          ],
          "parcoords": [
           {
            "line": {
             "colorbar": {
              "outlinewidth": 0,
              "ticks": ""
             }
            },
            "type": "parcoords"
           }
          ],
          "pie": [
           {
            "automargin": true,
            "type": "pie"
           }
          ],
          "scatter": [
           {
            "fillpattern": {
             "fillmode": "overlay",
             "size": 10,
             "solidity": 0.2
            },
            "type": "scatter"
           }
          ],
          "scatter3d": [
           {
            "line": {
             "colorbar": {
              "outlinewidth": 0,
              "ticks": ""
             }
            },
            "marker": {
             "colorbar": {
              "outlinewidth": 0,
              "ticks": ""
             }
            },
            "type": "scatter3d"
           }
          ],
          "scattercarpet": [
           {
            "marker": {
             "colorbar": {
              "outlinewidth": 0,
              "ticks": ""
             }
            },
            "type": "scattercarpet"
           }
          ],
          "scattergeo": [
           {
            "marker": {
             "colorbar": {
              "outlinewidth": 0,
              "ticks": ""
             }
            },
            "type": "scattergeo"
           }
          ],
          "scattergl": [
           {
            "marker": {
             "colorbar": {
              "outlinewidth": 0,
              "ticks": ""
             }
            },
            "type": "scattergl"
           }
          ],
          "scattermap": [
           {
            "marker": {
             "colorbar": {
              "outlinewidth": 0,
              "ticks": ""
             }
            },
            "type": "scattermap"
           }
          ],
          "scattermapbox": [
           {
            "marker": {
             "colorbar": {
              "outlinewidth": 0,
              "ticks": ""
             }
            },
            "type": "scattermapbox"
           }
          ],
          "scatterpolar": [
           {
            "marker": {
             "colorbar": {
              "outlinewidth": 0,
              "ticks": ""
             }
            },
            "type": "scatterpolar"
           }
          ],
          "scatterpolargl": [
           {
            "marker": {
             "colorbar": {
              "outlinewidth": 0,
              "ticks": ""
             }
            },
            "type": "scatterpolargl"
           }
          ],
          "scatterternary": [
           {
            "marker": {
             "colorbar": {
              "outlinewidth": 0,
              "ticks": ""
             }
            },
            "type": "scatterternary"
           }
          ],
          "surface": [
           {
            "colorbar": {
             "outlinewidth": 0,
             "ticks": ""
            },
            "colorscale": [
             [
              0,
              "#0d0887"
             ],
             [
              0.1111111111111111,
              "#46039f"
             ],
             [
              0.2222222222222222,
              "#7201a8"
             ],
             [
              0.3333333333333333,
              "#9c179e"
             ],
             [
              0.4444444444444444,
              "#bd3786"
             ],
             [
              0.5555555555555556,
              "#d8576b"
             ],
             [
              0.6666666666666666,
              "#ed7953"
             ],
             [
              0.7777777777777778,
              "#fb9f3a"
             ],
             [
              0.8888888888888888,
              "#fdca26"
             ],
             [
              1,
              "#f0f921"
             ]
            ],
            "type": "surface"
           }
          ],
          "table": [
           {
            "cells": {
             "fill": {
              "color": "#EBF0F8"
             },
             "line": {
              "color": "white"
             }
            },
            "header": {
             "fill": {
              "color": "#C8D4E3"
             },
             "line": {
              "color": "white"
             }
            },
            "type": "table"
           }
          ]
         },
         "layout": {
          "annotationdefaults": {
           "arrowcolor": "#2a3f5f",
           "arrowhead": 0,
           "arrowwidth": 1
          },
          "autotypenumbers": "strict",
          "coloraxis": {
           "colorbar": {
            "outlinewidth": 0,
            "ticks": ""
           }
          },
          "colorscale": {
           "diverging": [
            [
             0,
             "#8e0152"
            ],
            [
             0.1,
             "#c51b7d"
            ],
            [
             0.2,
             "#de77ae"
            ],
            [
             0.3,
             "#f1b6da"
            ],
            [
             0.4,
             "#fde0ef"
            ],
            [
             0.5,
             "#f7f7f7"
            ],
            [
             0.6,
             "#e6f5d0"
            ],
            [
             0.7,
             "#b8e186"
            ],
            [
             0.8,
             "#7fbc41"
            ],
            [
             0.9,
             "#4d9221"
            ],
            [
             1,
             "#276419"
            ]
           ],
           "sequential": [
            [
             0,
             "#0d0887"
            ],
            [
             0.1111111111111111,
             "#46039f"
            ],
            [
             0.2222222222222222,
             "#7201a8"
            ],
            [
             0.3333333333333333,
             "#9c179e"
            ],
            [
             0.4444444444444444,
             "#bd3786"
            ],
            [
             0.5555555555555556,
             "#d8576b"
            ],
            [
             0.6666666666666666,
             "#ed7953"
            ],
            [
             0.7777777777777778,
             "#fb9f3a"
            ],
            [
             0.8888888888888888,
             "#fdca26"
            ],
            [
             1,
             "#f0f921"
            ]
           ],
           "sequentialminus": [
            [
             0,
             "#0d0887"
            ],
            [
             0.1111111111111111,
             "#46039f"
            ],
            [
             0.2222222222222222,
             "#7201a8"
            ],
            [
             0.3333333333333333,
             "#9c179e"
            ],
            [
             0.4444444444444444,
             "#bd3786"
            ],
            [
             0.5555555555555556,
             "#d8576b"
            ],
            [
             0.6666666666666666,
             "#ed7953"
            ],
            [
             0.7777777777777778,
             "#fb9f3a"
            ],
            [
             0.8888888888888888,
             "#fdca26"
            ],
            [
             1,
             "#f0f921"
            ]
           ]
          },
          "colorway": [
           "#636efa",
           "#EF553B",
           "#00cc96",
           "#ab63fa",
           "#FFA15A",
           "#19d3f3",
           "#FF6692",
           "#B6E880",
           "#FF97FF",
           "#FECB52"
          ],
          "font": {
           "color": "#2a3f5f"
          },
          "geo": {
           "bgcolor": "white",
           "lakecolor": "white",
           "landcolor": "#E5ECF6",
           "showlakes": true,
           "showland": true,
           "subunitcolor": "white"
          },
          "hoverlabel": {
           "align": "left"
          },
          "hovermode": "closest",
          "mapbox": {
           "style": "light"
          },
          "paper_bgcolor": "white",
          "plot_bgcolor": "#E5ECF6",
          "polar": {
           "angularaxis": {
            "gridcolor": "white",
            "linecolor": "white",
            "ticks": ""
           },
           "bgcolor": "#E5ECF6",
           "radialaxis": {
            "gridcolor": "white",
            "linecolor": "white",
            "ticks": ""
           }
          },
          "scene": {
           "xaxis": {
            "backgroundcolor": "#E5ECF6",
            "gridcolor": "white",
            "gridwidth": 2,
            "linecolor": "white",
            "showbackground": true,
            "ticks": "",
            "zerolinecolor": "white"
           },
           "yaxis": {
            "backgroundcolor": "#E5ECF6",
            "gridcolor": "white",
            "gridwidth": 2,
            "linecolor": "white",
            "showbackground": true,
            "ticks": "",
            "zerolinecolor": "white"
           },
           "zaxis": {
            "backgroundcolor": "#E5ECF6",
            "gridcolor": "white",
            "gridwidth": 2,
            "linecolor": "white",
            "showbackground": true,
            "ticks": "",
            "zerolinecolor": "white"
           }
          },
          "shapedefaults": {
           "line": {
            "color": "#2a3f5f"
           }
          },
          "ternary": {
           "aaxis": {
            "gridcolor": "white",
            "linecolor": "white",
            "ticks": ""
           },
           "baxis": {
            "gridcolor": "white",
            "linecolor": "white",
            "ticks": ""
           },
           "bgcolor": "#E5ECF6",
           "caxis": {
            "gridcolor": "white",
            "linecolor": "white",
            "ticks": ""
           }
          },
          "title": {
           "x": 0.05
          },
          "xaxis": {
           "automargin": true,
           "gridcolor": "white",
           "linecolor": "white",
           "ticks": "",
           "title": {
            "standoff": 15
           },
           "zerolinecolor": "white",
           "zerolinewidth": 2
          },
          "yaxis": {
           "automargin": true,
           "gridcolor": "white",
           "linecolor": "white",
           "ticks": "",
           "title": {
            "standoff": 15
           },
           "zerolinecolor": "white",
           "zerolinewidth": 2
          }
         }
        },
        "title": {
         "text": "Distribusi umur pengguna aplikasi"
        },
        "xaxis": {
         "anchor": "y",
         "domain": [
          0,
          1
         ],
         "title": {
          "text": "age"
         }
        },
        "yaxis": {
         "anchor": "x",
         "domain": [
          0,
          1
         ],
         "title": {
          "text": "count"
         }
        }
       }
      }
     },
     "metadata": {},
     "output_type": "display_data"
    }
   ],
   "source": [
    "fig = px.histogram(customer, x='age', title='Distribusi umur pengguna aplikasi')\n",
    "fig.show()"
   ]
  },
  {
   "cell_type": "markdown",
   "id": "10bbae37",
   "metadata": {},
   "source": [
    "Bedasarkan histogram:\n",
    "- Umur pengguna aplikasi terbanyak adalah 23 tahun\n",
    "- Terdapat 1 user yang berumur 18 tahun\n",
    "- Rata-rata persebaran pengguna yang menggunakan aplikasi diantara 22 dan 25 tahun. "
   ]
  },
  {
   "cell_type": "markdown",
   "id": "14c2624d",
   "metadata": {},
   "source": [
    "## Penjabaran Deskriptif\n",
    "- Umur user yang akan menggunakan jasa lagi?"
   ]
  },
  {
   "cell_type": "code",
   "execution_count": 19,
   "id": "7d466d91",
   "metadata": {},
   "outputs": [
    {
     "name": "stdout",
     "output_type": "stream",
     "text": [
      "Rata-rata umur: 24.28054298642534\n",
      "Nilai tengah umur: 24.0\n",
      "Umur paling banyak: 23\n"
     ]
    }
   ],
   "source": [
    "mean_umur = customer['age'].mean()\n",
    "print(f'Rata-rata umur: {mean_umur}')\n",
    "median_umur = customer['age'].median()\n",
    "print(f'Nilai tengah umur: {median_umur}')\n",
    "mode_umur =  customer['age'].mode()[0]\n",
    "print(f'Umur paling banyak: {mode_umur}')"
   ]
  },
  {
   "cell_type": "markdown",
   "id": "17932ce6",
   "metadata": {},
   "source": [
    "Rata-rata dan nilai tengah umur dekat yaitu 24.28 dan 24.\n",
    "Modus umur juga mendekati rata-rata dan nilai tengah yaitu 23"
   ]
  },
  {
   "cell_type": "code",
   "execution_count": 20,
   "id": "955e466b",
   "metadata": {},
   "outputs": [
    {
     "name": "stdout",
     "output_type": "stream",
     "text": [
      "Standar devisai umur: 2.942329268115213\n",
      "Variance umur: 8.657301522007405\n"
     ]
    }
   ],
   "source": [
    "std_umur = customer['age'].std()\n",
    "print(f'Standar devisai umur: {std_umur}')\n",
    "variance_umur =customer['age'].var()\n",
    "print(f'Variance umur: {variance_umur}')"
   ]
  },
  {
   "cell_type": "markdown",
   "id": "9dd061e9",
   "metadata": {},
   "source": [
    "Nilai standard deviasi untuk umur adalah 2.94. Bisa dibilang distribusi nya mendekati nilai rata-rata"
   ]
  },
  {
   "cell_type": "code",
   "execution_count": 21,
   "id": "0a5828b4",
   "metadata": {},
   "outputs": [
    {
     "name": "stdout",
     "output_type": "stream",
     "text": [
      "Skewness umur: 1.0419364631370496\n",
      "Kurtosis umur: 0.9150051752570034\n"
     ]
    }
   ],
   "source": [
    "skew_umur = customer['age'].skew()\n",
    "print(f'Skewness umur: {skew_umur}')\n",
    "kurt_umur = customer['age'].kurtosis()\n",
    "print(f'Kurtosis umur: {kurt_umur}')"
   ]
  },
  {
   "cell_type": "markdown",
   "id": "1612e5a6",
   "metadata": {},
   "source": [
    "Nilai skewness umur adalah 1.04 dan lebih dari 1 yang artinya distribusinya highly skew\n",
    "Nilai kurtosis umur adalah 0.91 lebih dari 0 yang aritnya ada outlier dan nilai outlier nya extreme\n",
    "\n",
    "Tetapi bedasarkan nilai rata-rata dan nilai tengah karena kedua nilai nya dekat bisa dibulang distribusi data umur normal. \n",
    "Selain itu bedasarkan histogram umur distribusi data umur relatif normal meskipun ada tail di bagian kanan graph."
   ]
  },
  {
   "cell_type": "markdown",
   "id": "2846575f",
   "metadata": {},
   "source": [
    "# Penjabaran Statistik Inferensial\n",
    "- Faktor apa saja yang mempengaruhi user menggunakan jasa pengiriman makanan lagi?"
   ]
  },
  {
   "cell_type": "code",
   "execution_count": 22,
   "id": "8fef3418",
   "metadata": {},
   "outputs": [
    {
     "name": "stdout",
     "output_type": "stream",
     "text": [
      "P-value dari kolom gender and Output: 0.6130318114453361 \n",
      "P-value dari kolom marital_status and Output: 7.703401912918085e-06 kolom ini dependan terhadap ouput\n",
      "P-value dari kolom occupation and Output: 5.67080932624632e-05 kolom ini dependan terhadap ouput\n",
      "P-value dari kolom monthly_income and Output: 0.004034489801786449 kolom ini dependan terhadap ouput\n",
      "P-value dari kolom educational_qualifications and Output: 0.11820271758058079 \n",
      "P-value dari kolom medium_(p1) and Output: 0.07158594379038265 \n",
      "P-value dari kolom medium_(p2) and Output: 0.9138678754738945 \n",
      "P-value dari kolom meal(p1) and Output: 0.7009573905875501 \n",
      "P-value dari kolom meal(p2) and Output: 0.7931282059689989 \n",
      "P-value dari kolom perference(p1) and Output: 0.42684793780409414 \n",
      "P-value dari kolom perference(p2) and Output: 0.04244114260516224 kolom ini dependan terhadap ouput\n",
      "P-value dari kolom ease_and_convenient and Output: 5.923836793706606e-26 kolom ini dependan terhadap ouput\n",
      "P-value dari kolom time_saving and Output: 3.6080574405335266e-23 kolom ini dependan terhadap ouput\n",
      "P-value dari kolom more_restaurant_choices and Output: 1.866281738111649e-21 kolom ini dependan terhadap ouput\n",
      "P-value dari kolom easy_payment_option and Output: 8.806267115708492e-20 kolom ini dependan terhadap ouput\n",
      "P-value dari kolom more_offers_and_discount and Output: 1.029296814645846e-17 kolom ini dependan terhadap ouput\n",
      "P-value dari kolom good_food_quality and Output: 4.729202012205332e-12 kolom ini dependan terhadap ouput\n",
      "P-value dari kolom good_tracking_system and Output: 1.3804238291902594e-12 kolom ini dependan terhadap ouput\n",
      "P-value dari kolom self_cooking and Output: 3.5661786162894356e-06 kolom ini dependan terhadap ouput\n",
      "P-value dari kolom health_concern and Output: 0.00027748341229915014 kolom ini dependan terhadap ouput\n",
      "P-value dari kolom late_delivery and Output: 2.10979230729138e-07 kolom ini dependan terhadap ouput\n",
      "P-value dari kolom poor_hygiene and Output: 0.0551036956128554 \n",
      "P-value dari kolom bad_past_experience and Output: 0.00011801340337779712 kolom ini dependan terhadap ouput\n",
      "P-value dari kolom unavailability and Output: 0.004482729790025413 kolom ini dependan terhadap ouput\n",
      "P-value dari kolom unaffordable and Output: 3.887341021708e-08 kolom ini dependan terhadap ouput\n",
      "P-value dari kolom long_delivery_time and Output: 0.25487041503678637 \n",
      "P-value dari kolom delay_of_delivery_person_getting_assigned and Output: 0.11004257771989856 \n",
      "P-value dari kolom delay_of_delivery_person_picking_up_food and Output: 0.020251359628063587 kolom ini dependan terhadap ouput\n",
      "P-value dari kolom wrong_order_delivered and Output: 0.0956946351403001 \n",
      "P-value dari kolom missing_item and Output: 0.8739791322021143 \n",
      "P-value dari kolom order_placed_by_mistake and Output: 0.41511283147052214 \n",
      "P-value dari kolom influence_of_time and Output: 0.24514004842319193 \n",
      "P-value dari kolom order_time and Output: 0.5087719649470646 \n",
      "P-value dari kolom maximum_wait_time and Output: 1.6458742799824754e-09 kolom ini dependan terhadap ouput\n",
      "P-value dari kolom residence_in_busy_location and Output: 0.06926948234785282 \n",
      "P-value dari kolom google_maps_accuracy and Output: 0.7213246393911994 \n",
      "P-value dari kolom good_road_condition and Output: 0.41978613521170816 \n",
      "P-value dari kolom low_quantity_low_time and Output: 0.0706490958055453 \n",
      "P-value dari kolom delivery_person_ability and Output: 0.9345995855975735 \n",
      "P-value dari kolom influence_of_rating and Output: 0.9365686343795057 \n",
      "P-value dari kolom less_delivery_time and Output: 0.04172243608576495 kolom ini dependan terhadap ouput\n",
      "P-value dari kolom high_quality_of_package and Output: 0.244407992462256 \n",
      "P-value dari kolom number_of_calls and Output: 0.00046496438863113357 kolom ini dependan terhadap ouput\n",
      "P-value dari kolom politeness and Output: 0.015043795440369403 kolom ini dependan terhadap ouput\n",
      "P-value dari kolom freshness_ and Output: 0.3264277468576282 \n",
      "P-value dari kolom temperature and Output: 0.6285274527186077 \n",
      "P-value dari kolom good_taste_ and Output: 0.24598619399227317 \n",
      "P-value dari kolom good_quantity and Output: 0.6214644564161398 \n"
     ]
    }
   ],
   "source": [
    "columns = df.drop(columns=['age','family_size','latitude','longitude','pin_code','output']).columns\n",
    "column_dependant = []\n",
    "for column in columns:\n",
    "    cross = pd.crosstab(df[column],df['output'])\n",
    "    pval = stats.chi2_contingency(cross).pvalue\n",
    "    if pval < 0.05:\n",
    "        prompt = \"kolom ini dependan terhadap ouput\"\n",
    "        column_dependant.append(column)\n",
    "    else:\n",
    "        prompt = \"\"\n",
    "    print(f'P-value dari kolom {column} and Output: {pval} {prompt}')"
   ]
  },
  {
   "cell_type": "markdown",
   "id": "2578ce7d",
   "metadata": {},
   "source": [
    "Untuk menjawab faktor apa saya yang mempengaruhi user menggunakan jasa pengiriman makanan lagi dapat menggunkana chi square untuk mencari korelasi antara 2 data kategorikal.\n",
    "\n",
    "H0 untuk chi square adalah tidak ada korelasi antara variabel\n",
    "h1 untuk chi squrea adalah ada korelasi antara varibel\n",
    "\n",
    "Kondisi dari chi square ini adalah jika p-value variable > 0.05 maka H0 gagal di tolak dan jika p value < 0.05 maka H0 di tolak.\n",
    "\n",
    "Kolom numerik seperti 'age','family_size','latitude','longitude','pin_code','output' di potong terlebih dahulu."
   ]
  },
  {
   "cell_type": "code",
   "execution_count": 23,
   "id": "0f15fd75",
   "metadata": {},
   "outputs": [
    {
     "data": {
      "text/plain": [
       "['marital_status',\n",
       " 'occupation',\n",
       " 'monthly_income',\n",
       " 'perference(p2)',\n",
       " 'ease_and_convenient',\n",
       " 'time_saving',\n",
       " 'more_restaurant_choices',\n",
       " 'easy_payment_option',\n",
       " 'more_offers_and_discount',\n",
       " 'good_food_quality',\n",
       " 'good_tracking_system',\n",
       " 'self_cooking',\n",
       " 'health_concern',\n",
       " 'late_delivery',\n",
       " 'bad_past_experience',\n",
       " 'unavailability',\n",
       " 'unaffordable',\n",
       " 'delay_of_delivery_person_picking_up_food',\n",
       " 'maximum_wait_time',\n",
       " 'less_delivery_time',\n",
       " 'number_of_calls',\n",
       " 'politeness']"
      ]
     },
     "execution_count": 23,
     "metadata": {},
     "output_type": "execute_result"
    }
   ],
   "source": [
    "column_dependant"
   ]
  },
  {
   "cell_type": "markdown",
   "id": "83b79037",
   "metadata": {},
   "source": [
    "Cell berikut menunjukan kolom dengan nilai p-value < 0.05 \n",
    "Karena p-value lebih kecil dari 0.05 maka H0 ditolak dan kolom ini mendukung H1.\n",
    "Kolom-kolom ini memiliki hubungan dengan kolom output."
   ]
  },
  {
   "cell_type": "markdown",
   "id": "e4840aa4",
   "metadata": {},
   "source": [
    "# Conclusion"
   ]
  },
  {
   "cell_type": "markdown",
   "id": "4a9208af",
   "metadata": {},
   "source": [
    "## Kesimpulan"
   ]
  },
  {
   "cell_type": "markdown",
   "id": "60b37c8c",
   "metadata": {},
   "source": [
    "Kesimpulan yang dibentuk dari analisis ini adalah user yang akan menggunkan aplikasi nya lagi atau customer cenderung memesan untuk makan siang dan untuk snacks. Umur customer secara rata-rata 24 tahun dengan standar deviasi 2.94 dengan kata lain orang dewasa muda. Selain itu lebih banyak customer laki-laki daripada wanita.\n",
    "\n"
   ]
  },
  {
   "cell_type": "markdown",
   "id": "5285e4d8",
   "metadata": {},
   "source": [
    "## Rekomendasi"
   ]
  },
  {
   "cell_type": "markdown",
   "id": "6f547b23",
   "metadata": {},
   "source": [
    "Rekomendasi dari hasil analisis ini adalah tim marketing bisa mempromosi aplikasi merunjuk ke laki-laki berumur 21-27 tahun untuk kalangan mahasiswa dan karyawan. Promosi bisa berupa diskon yang dapat digunakan untuk makan siang atau makanan dengan kategori cemilan. Selain promosi, aplikasi pengiriman dapat ditingkatkan dari segi kemudahan memesan online, opsi restoran yang lebih banyak, kemudahan membayar, memberpanyak diskon, sistem tracking aplikasi, cepat nya pengiriman, sering nya pengantar makanan menelepon customer dan kesopanan personal pengirim makanan. \n",
    "Selain itu aplikasi harus menghindari dan meningkatkan faktor-faktor seperti pengiriman yang telat, tidak tersedia nya jasa ,ongkos yang tidak terjangkau, waktu pengiriman yang lama, waktu maksimum customer menunggu. "
   ]
  }
 ],
 "metadata": {
  "kernelspec": {
   "display_name": "base",
   "language": "python",
   "name": "python3"
  },
  "language_info": {
   "codemirror_mode": {
    "name": "ipython",
    "version": 3
   },
   "file_extension": ".py",
   "mimetype": "text/x-python",
   "name": "python",
   "nbconvert_exporter": "python",
   "pygments_lexer": "ipython3",
   "version": "3.9.21"
  }
 },
 "nbformat": 4,
 "nbformat_minor": 5
}
